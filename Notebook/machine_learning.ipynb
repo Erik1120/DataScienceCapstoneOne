{
 "cells": [
  {
   "cell_type": "code",
   "execution_count": null,
   "id": "numerous-shift",
   "metadata": {},
   "outputs": [],
   "source": [
    "# Import package\n",
    "import pandas as pd\n",
    "import numpy as np\n",
    "import matplotlib.pyplot as plt\n",
    "import seaborn as sns"
   ]
  },
  {
   "cell_type": "code",
   "execution_count": null,
   "id": "civil-round",
   "metadata": {},
   "outputs": [],
   "source": [
    "file = 'standardized_paysim.csv'\n",
    "path = '../Data/'\n",
    "\n",
    "paysim = pd.read_csv(path+file)"
   ]
  },
  {
   "cell_type": "code",
   "execution_count": null,
   "id": "broke-electricity",
   "metadata": {},
   "outputs": [],
   "source": [
    "paysim.sample(10)"
   ]
  },
  {
   "cell_type": "code",
   "execution_count": null,
   "id": "international-bhutan",
   "metadata": {},
   "outputs": [],
   "source": [
    "paysim.describe()"
   ]
  },
  {
   "cell_type": "markdown",
   "id": "improving-thriller",
   "metadata": {},
   "source": [
    "# Random Up/Down Sampling:"
   ]
  },
  {
   "cell_type": "code",
   "execution_count": null,
   "id": "complete-olympus",
   "metadata": {},
   "outputs": [],
   "source": [
    "# class count\n",
    "class_count_0, class_count_1 = paysim['isFraud'].value_counts()\n",
    "\n",
    "# Separate class\n",
    "class_0 = paysim[paysim['isFraud'] == 0]\n",
    "class_1 = paysim[paysim['isFraud'] == 1]\n",
    "\n",
    "# print the shape of the class\n",
    "print('class 0:', class_0.shape)\n",
    "print('class 1:', class_1.shape)"
   ]
  },
  {
   "cell_type": "code",
   "execution_count": null,
   "id": "worldwide-league",
   "metadata": {},
   "outputs": [],
   "source": [
    "# Random Under-Sampling\n",
    "class_0_under = class_0.sample(class_count_1)\n",
    "\n",
    "test_under = pd.concat([class_0_under, class_1], axis=0)\n",
    "\n",
    "print(\"total class of 1 and 0: \",test_under['isFraud'].value_counts())"
   ]
  },
  {
   "cell_type": "code",
   "execution_count": null,
   "id": "gross-bradford",
   "metadata": {},
   "outputs": [],
   "source": [
    "# Random Over-Sampling\n",
    "class_1_over = class_1.sample(class_count_0, replace=True)\n",
    "\n",
    "test_over = pd.concat([class_1_over, class_0], axis=0)\n",
    "\n",
    "print(\"total class of 1 and 0: \",test_over['isFraud'].value_counts())"
   ]
  },
  {
   "cell_type": "markdown",
   "id": "rapid-reply",
   "metadata": {},
   "source": [
    "# Balance data with the imbalanced-learn python module"
   ]
  },
  {
   "cell_type": "code",
   "execution_count": null,
   "id": "flexible-hughes",
   "metadata": {},
   "outputs": [],
   "source": [
    "# \n",
    "import imblearn\n",
    "from timeit import default_timer as timer \n",
    "\n",
    "# Random under-sampling with imblearn\n",
    "from imblearn.under_sampling import RandomUnderSampler"
   ]
  },
  {
   "cell_type": "code",
   "execution_count": null,
   "id": "curious-department",
   "metadata": {},
   "outputs": [],
   "source": [
    "y =  paysim['isFraud']\n",
    "X =  paysim.loc[:, paysim.columns != 'isFraud']\n",
    "# \n",
    "start = timer()\n",
    "\n",
    "rus = RandomUnderSampler(random_state=42, replacement=True)\n",
    "# fit predictor and target variable\n",
    "\n",
    "x_rus, y_rus = rus.fit_resample(X, y)\n",
    "\n",
    "print('original dataset shape:', len(y))\n",
    "print('Resample dataset shape', len(y_rus))\n",
    "print('\\n')\n",
    "end = timer()\n",
    "print(f'{(end - start)} seconds elapsed.')"
   ]
  },
  {
   "cell_type": "markdown",
   "id": "prospective-surprise",
   "metadata": {},
   "source": [
    "# Random over-sampling with imblearn"
   ]
  },
  {
   "cell_type": "code",
   "execution_count": null,
   "id": "acceptable-three",
   "metadata": {},
   "outputs": [],
   "source": [
    "# import library\n",
    "from imblearn.over_sampling import RandomOverSampler\n",
    "# \n",
    "start = timer()\n",
    "\n",
    "ros = RandomOverSampler(random_state=42)\n",
    "\n",
    "# fit predictor and target variable\n",
    "x_ros, y_ros = ros.fit_resample(X, y)\n",
    "\n",
    "print('Original dataset shape', len(y))\n",
    "print('Resample dataset shape', len(y_ros))\n",
    "print('\\n')\n",
    "end = timer()\n",
    "print(f'{(end - start)} seconds elapsed.')"
   ]
  },
  {
   "cell_type": "markdown",
   "id": "powerful-chancellor",
   "metadata": {},
   "source": [
    "# Under-sampling: Tomek links"
   ]
  },
  {
   "cell_type": "code",
   "execution_count": null,
   "id": "herbal-assistant",
   "metadata": {},
   "outputs": [],
   "source": [
    "# import library\n",
    "from imblearn.under_sampling import TomekLinks\n",
    "# \n",
    "start = timer()\n",
    "\n",
    "tl = RandomUnderSampler(sampling_strategy='majority')\n",
    "\n",
    "# fit predictor and target variable\n",
    "x_tl, y_tl = tl.fit_resample(X, y)\n",
    "\n",
    "print('Original dataset shape', len(y))\n",
    "print('Resample dataset shape', len(y_tl))\n",
    "print('\\n')\n",
    "end = timer()\n",
    "print(f'{(end - start)} seconds elapsed.')"
   ]
  },
  {
   "cell_type": "code",
   "execution_count": null,
   "id": "serial-bhutan",
   "metadata": {},
   "outputs": [],
   "source": [
    "# import library\n",
    "from imblearn.under_sampling import TomekLinks\n",
    "# \n",
    "start = timer()\n",
    "\n",
    "tl = RandomOverSampler(sampling_strategy='majority')\n",
    "\n",
    "# fit predictor and target variable\n",
    "x_tl, y_tl = tl.fit_resample(X, y)\n",
    "\n",
    "print('Original dataset shape', len(y))\n",
    "print('Resample dataset shape', len(y_tl))\n",
    "print('\\n')\n",
    "end = timer()\n",
    "print(f'{(end - start)} seconds elapsed.')"
   ]
  },
  {
   "cell_type": "markdown",
   "id": "upset-signature",
   "metadata": {},
   "source": [
    "# Synthetic Minority Oversampling Technique (SMOTE)"
   ]
  },
  {
   "cell_type": "code",
   "execution_count": null,
   "id": "loved-sheep",
   "metadata": {},
   "outputs": [],
   "source": [
    "# import library\n",
    "from imblearn.over_sampling import SMOTE\n",
    "# \n",
    "start = timer()\n",
    "\n",
    "smote = SMOTE()\n",
    "\n",
    "# fit predictor and target variable\n",
    "x_smote, y_smote = smote.fit_resample(X, y)\n",
    "\n",
    "print('Original dataset shape', len(y))\n",
    "print('Resample dataset shape', len(y_smote))\n",
    "print('\\n')\n",
    "end = timer()\n",
    "print(f'{(end - start)} seconds elapsed.')"
   ]
  },
  {
   "cell_type": "markdown",
   "id": "professional-rolling",
   "metadata": {},
   "source": [
    "# NearMiss"
   ]
  },
  {
   "cell_type": "code",
   "execution_count": null,
   "id": "eastern-recipe",
   "metadata": {},
   "outputs": [],
   "source": [
    "from imblearn.under_sampling import NearMiss\n",
    "# \n",
    "start = timer()\n",
    "\n",
    "nm = NearMiss()\n",
    "\n",
    "x_nm, y_nm = nm.fit_resample(X, y)\n",
    "\n",
    "print('Original dataset shape:', len(y))\n",
    "print('Resample dataset shape:', len(y_nm))\n",
    "print('\\n')\n",
    "end = timer()\n",
    "print(f'{(end - start)} seconds elapsed.')"
   ]
  },
  {
   "cell_type": "markdown",
   "id": "other-solution",
   "metadata": {},
   "source": [
    "# Train/Test Data:"
   ]
  },
  {
   "cell_type": "code",
   "execution_count": null,
   "id": "imposed-branch",
   "metadata": {},
   "outputs": [],
   "source": [
    "from sklearn.model_selection import train_test_split\n",
    "# \n",
    "start = timer()\n",
    "# Random Under-Sampling\n",
    "x_u = test_under.loc[:, paysim.columns != 'isFraud']\n",
    "y_u = test_under.isFraud\n",
    "\n",
    "X_train_u, X_test_u, y_train_u, y_test_u = train_test_split(x_u, y_u, test_size=0.20, random_state=42)\n",
    "\n",
    "# Random Over-Sampling\n",
    "x_o = test_over.loc[:, paysim.columns != 'isFraud']\n",
    "y_o = test_over.isFraud\n",
    "\n",
    "X_train_o, X_test_o, y_train_o, y_test_o = train_test_split(x_o, y_o, test_size=0.20, random_state=42)\n",
    "\n",
    "# Random under-sampling with imblearn\n",
    "X_train_rus, X_test_rus, y_train_rus, y_test_rus = train_test_split(x_rus, y_rus, test_size=0.20, random_state=42)\n",
    "\n",
    "# Random over-sampling with imblearn\n",
    "X_train_ros, X_test_ros, y_train_ros, y_test_ros = train_test_split(x_ros, y_ros, test_size=0.20, random_state=42)\n",
    "\n",
    "# Under-sampling: Tomek links\n",
    "X_train_tl, X_test_tl, y_train_tl, y_test_tl = train_test_split(x_tl, y_tl, test_size=0.20, random_state=42)\n",
    "\n",
    "# Synthetic Minority Oversampling Technique (SMOTE)\n",
    "X_train_smote, X_test_smote, y_train_smote, y_test_smote = train_test_split(x_smote, y_smote, test_size=0.20, \n",
    "                                                                            random_state=42)\n",
    "# NearMiss\n",
    "X_train_nm, X_test_nm, y_train_nm, y_test_nm = train_test_split(x_nm, y_nm, test_size=0.20, random_state=42)\n",
    "\n",
    "# Orig Dataset\n",
    "X_train, X_test, y_train, y_test = train_test_split(X, y, test_size=0.20, random_state=42)\n",
    "\n",
    "end = timer()\n",
    "print(f'{(end - start)} seconds elapsed.')"
   ]
  },
  {
   "cell_type": "markdown",
   "id": "mobile-booking",
   "metadata": {},
   "source": [
    "# Machine Learning"
   ]
  },
  {
   "cell_type": "code",
   "execution_count": null,
   "id": "saved-fruit",
   "metadata": {},
   "outputs": [],
   "source": [
    "from sklearn.metrics import classification_report, confusion_matrix\n",
    "# classification_report(y_test, y_pred)\n",
    "# confusion_matrix(y_test, y_pred)"
   ]
  },
  {
   "cell_type": "code",
   "execution_count": null,
   "id": "secondary-isolation",
   "metadata": {},
   "outputs": [],
   "source": [
    "x_nm.shape, y_nm.shape, y_nm.value_counts() "
   ]
  },
  {
   "cell_type": "code",
   "execution_count": null,
   "id": "persistent-hollow",
   "metadata": {},
   "outputs": [],
   "source": [
    "# Extreme Gradient Boosting with XGBoost\n",
    "from xgboost import XGBClassifier\n",
    "from sklearn.model_selection import GridSearchCV\n",
    "\n",
    "# Define model\n",
    "xgb_cl = XGBClassifier(objective ='binary:logistic', n_estimators=10, seed=42, eval_metric = \"logloss\",\n",
    "               learning_rate = 0.3, use_label_encoder=False)\n",
    "\n",
    "parameters = {\n",
    "    'max_depth': range (2, 10, 1),\n",
    "    'n_estimators': range(60, 220, 40),\n",
    "    'learning_rate': [0.1, 0.01, 0.05]\n",
    "}\n",
    "\n",
    "grid_search = GridSearchCV(\n",
    "    estimator=xgb_cl,\n",
    "    param_grid=parameters,\n",
    "    scoring = 'roc_auc',\n",
    "    n_jobs = 10,\n",
    "    cv = 10,\n",
    "    verbose=True\n",
    ")"
   ]
  },
  {
   "cell_type": "code",
   "execution_count": null,
   "id": "announced-queen",
   "metadata": {},
   "outputs": [],
   "source": [
    "%timeit grid_search.fit(X_train_nm, y_train_nm)"
   ]
  },
  {
   "cell_type": "code",
   "execution_count": null,
   "id": "cardiac-agenda",
   "metadata": {},
   "outputs": [],
   "source": [
    "grid_search.best_estimator_"
   ]
  },
  {
   "cell_type": "code",
   "execution_count": null,
   "id": "organizational-edition",
   "metadata": {},
   "outputs": [],
   "source": [
    "y_pred = grid_search.predict(X_test_nm)\n",
    "print(classification_report(y_test_nm, y_pred))"
   ]
  },
  {
   "cell_type": "code",
   "execution_count": null,
   "id": "defined-found",
   "metadata": {},
   "outputs": [],
   "source": [
    "confusion_matrix(y_test_nm, y_pred)"
   ]
  },
  {
   "cell_type": "code",
   "execution_count": null,
   "id": "protected-delay",
   "metadata": {},
   "outputs": [],
   "source": [
    "# Random Under-Sampling\n",
    "%timeit grid_search.fit(X_train_u, y_train_u)"
   ]
  },
  {
   "cell_type": "code",
   "execution_count": null,
   "id": "rocky-candidate",
   "metadata": {},
   "outputs": [],
   "source": [
    "y_pred = grid_search.predict(X_test_u)\n",
    "print(classification_report(y_test_u, y_pred))"
   ]
  },
  {
   "cell_type": "code",
   "execution_count": null,
   "id": "ignored-genius",
   "metadata": {},
   "outputs": [],
   "source": [
    "confusion_matrix(y_test_u, y_pred)"
   ]
  },
  {
   "cell_type": "code",
   "execution_count": null,
   "id": "solar-welcome",
   "metadata": {},
   "outputs": [],
   "source": [
    "grid_search.best_estimator_"
   ]
  },
  {
   "cell_type": "code",
   "execution_count": null,
   "id": "allied-medicare",
   "metadata": {},
   "outputs": [],
   "source": [
    "y_train_tl.value_counts(), y_test_tl.value_counts()"
   ]
  },
  {
   "cell_type": "code",
   "execution_count": null,
   "id": "exclusive-interest",
   "metadata": {},
   "outputs": [],
   "source": [
    "# Random Under-Sampling\n",
    "%timeit grid_search.fit(X_train_tl, y_train_tl)"
   ]
  },
  {
   "cell_type": "code",
   "execution_count": null,
   "id": "friendly-southeast",
   "metadata": {},
   "outputs": [],
   "source": [
    "y_pred = grid_search.predict(X_test_tl)\n",
    "print(classification_report(y_test_tl, y_pred))"
   ]
  },
  {
   "cell_type": "code",
   "execution_count": null,
   "id": "interstate-welsh",
   "metadata": {},
   "outputs": [],
   "source": [
    "confusion_matrix(y_test_tl, y_pred)"
   ]
  },
  {
   "cell_type": "code",
   "execution_count": null,
   "id": "provincial-guinea",
   "metadata": {},
   "outputs": [],
   "source": [
    "grid_search.best_estimator_"
   ]
  },
  {
   "cell_type": "code",
   "execution_count": null,
   "id": "beautiful-invention",
   "metadata": {},
   "outputs": [],
   "source": []
  }
 ],
 "metadata": {
  "kernelspec": {
   "display_name": "Python 3",
   "language": "python",
   "name": "python3"
  },
  "language_info": {
   "codemirror_mode": {
    "name": "ipython",
    "version": 3
   },
   "file_extension": ".py",
   "mimetype": "text/x-python",
   "name": "python",
   "nbconvert_exporter": "python",
   "pygments_lexer": "ipython3",
   "version": "3.8.5"
  }
 },
 "nbformat": 4,
 "nbformat_minor": 5
}
