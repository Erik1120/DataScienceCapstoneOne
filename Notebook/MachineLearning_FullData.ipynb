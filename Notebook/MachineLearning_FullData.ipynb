{
 "cells": [
  {
   "cell_type": "code",
   "execution_count": 1,
   "id": "revised-hello",
   "metadata": {},
   "outputs": [],
   "source": [
    "# Import package\n",
    "import pandas as pd\n",
    "import numpy as np\n",
    "import matplotlib.pyplot as plt\n",
    "import seaborn as sns\n",
    "from timeit import default_timer as timer "
   ]
  },
  {
   "cell_type": "code",
   "execution_count": 2,
   "id": "otherwise-equipment",
   "metadata": {},
   "outputs": [],
   "source": [
    "file = 'standardized_paysim.csv'\n",
    "path = '../Data/'\n",
    "\n",
    "paysim = pd.read_csv(path+file)"
   ]
  },
  {
   "cell_type": "code",
   "execution_count": 3,
   "id": "wanted-hebrew",
   "metadata": {},
   "outputs": [],
   "source": [
    "y =  paysim['isFraud']\n",
    "X =  paysim.loc[:, paysim.columns != 'isFraud']\n",
    "seed = 1\n",
    "# "
   ]
  },
  {
   "cell_type": "code",
   "execution_count": 4,
   "id": "relevant-panic",
   "metadata": {},
   "outputs": [
    {
     "name": "stdout",
     "output_type": "stream",
     "text": [
      "3.9537332769999978 seconds elapsed.\n"
     ]
    }
   ],
   "source": [
    "from sklearn.model_selection import train_test_split\n",
    "t_size=0.30\n",
    "# \n",
    "start = timer()\n",
    "# Orig Dataset\n",
    "X_train, X_test, y_train, y_test = train_test_split(X, y, test_size=t_size, random_state=seed, stratify=y)\n",
    "\n",
    "end = timer()\n",
    "print(f'{(end - start)} seconds elapsed.')"
   ]
  },
  {
   "cell_type": "markdown",
   "id": "connected-arthritis",
   "metadata": {},
   "source": [
    "# Import & Seed"
   ]
  },
  {
   "cell_type": "code",
   "execution_count": 10,
   "id": "immune-eating",
   "metadata": {},
   "outputs": [
    {
     "name": "stdout",
     "output_type": "stream",
     "text": [
      "{1: 0.5006462331542675, 0: 387.35727952687427}\n"
     ]
    }
   ],
   "source": [
    "from sklearn.utils.class_weight import compute_class_weight\n",
    "from sklearn.metrics import classification_report, confusion_matrix\n",
    "from sklearn.model_selection import RandomizedSearchCV, GridSearchCV\n",
    "from sklearn.metrics import ConfusionMatrixDisplay\n",
    "# \n",
    "seed = 1\n",
    "# \n",
    "sample_weights = compute_class_weight('balanced', classes=np.unique(y_train.values), y=y_train.values)\n",
    "it = [1,0]\n",
    "\n",
    "# \n",
    "weights = dict(zip(it, sample_weights))\n",
    "print(weights)"
   ]
  },
  {
   "cell_type": "markdown",
   "id": "concerned-christmas",
   "metadata": {},
   "source": [
    "# Random Forest"
   ]
  },
  {
   "cell_type": "code",
   "execution_count": 6,
   "id": "periodic-trust",
   "metadata": {},
   "outputs": [
    {
     "name": "stdout",
     "output_type": "stream",
     "text": [
      "2min 16s ± 3.05 s per loop (mean ± std. dev. of 7 runs, 1 loop each)\n",
      "\n",
      "\n",
      "              precision    recall  f1-score   support\n",
      "\n",
      "           0       1.00      1.00      1.00   1906322\n",
      "           1       0.99      0.80      0.89      2464\n",
      "\n",
      "    accuracy                           1.00   1908786\n",
      "   macro avg       0.99      0.90      0.94   1908786\n",
      "weighted avg       1.00      1.00      1.00   1908786\n",
      "\n",
      "[[1906298      24]\n",
      " [    487    1977]]\n",
      "\n",
      "\n",
      "\n",
      "\n",
      "                    % Importance\n",
      "amount                  0.257175\n",
      "diffBalanceDest         0.215839\n",
      "oldbalanceOrig          0.164262\n",
      "step                    0.112128\n",
      "oldbalanceDest          0.109031\n",
      "diffBalanceOrig         0.065381\n",
      "transType_TRANSFER      0.044711\n",
      "transType_CASH_OUT      0.025500\n",
      "transType_PAYMENT       0.003391\n",
      "nameDest_M              0.001595\n",
      "transType_DEBIT         0.000987\n",
      "18.45335126065 Min elapsed.\n"
     ]
    },
    {
     "data": {
      "image/png": "[encoded data removed]",
      "text/plain": [
       "<Figure size 432x288 with 2 Axes>"
      ]
     },
     "metadata": {
      "needs_background": "light"
     },
     "output_type": "display_data"
    }
   ],
   "source": [
    "from sklearn.ensemble import RandomForestClassifier\n",
    "\n",
    "start = timer()\n",
    "#\n",
    "params_fixed = {\n",
    "    'n_jobs' : (-1),\n",
    "    'random_state' : seed,\n",
    "}\n",
    "\n",
    "rfc = RandomForestClassifier(**params_fixed)\n",
    "\n",
    "%timeit rfc.fit(X_train, y_train)\n",
    "# \n",
    "y_predRFC = rfc.predict(X_test)\n",
    "print('\\n')\n",
    "print(classification_report(y_test, y_predRFC))\n",
    "print(confusion_matrix(y_test, y_predRFC))\n",
    "print('\\n')\n",
    "disp = ConfusionMatrixDisplay(confusion_matrix=(confusion_matrix(y_test, y_predRFC)), display_labels=rfc.classes_)\n",
    "disp.plot()\n",
    "print('\\n')\n",
    "df0 = pd.DataFrame(rfc.feature_importances_, index=X.columns, columns=[\"% Importance\"])\n",
    "print(df0.sort_values(\"% Importance\", axis=0, ascending=False))\n",
    "end = timer()\n",
    "print(f'{(end - start)/60} Min elapsed.')"
   ]
  },
  {
   "cell_type": "code",
   "execution_count": 7,
   "id": "chemical-tours",
   "metadata": {},
   "outputs": [
    {
     "name": "stdout",
     "output_type": "stream",
     "text": [
      "2min 24s ± 2.75 s per loop (mean ± std. dev. of 7 runs, 1 loop each)\n",
      "\n",
      "\n",
      "              precision    recall  f1-score   support\n",
      "\n",
      "           0       1.00      1.00      1.00   1906322\n",
      "           1       0.99      0.80      0.88      2464\n",
      "\n",
      "    accuracy                           1.00   1908786\n",
      "   macro avg       0.99      0.90      0.94   1908786\n",
      "weighted avg       1.00      1.00      1.00   1908786\n",
      "\n",
      "[[1906297      25]\n",
      " [    499    1965]]\n",
      "\n",
      "\n",
      "\n",
      "\n",
      "                    % Importance\n",
      "amount                  0.261769\n",
      "diffBalanceDest         0.239763\n",
      "step                    0.179648\n",
      "oldbalanceOrig          0.175835\n",
      "oldbalanceDest          0.070037\n",
      "diffBalanceOrig         0.022782\n",
      "transType_CASH_OUT      0.021125\n",
      "transType_TRANSFER      0.017961\n",
      "transType_PAYMENT       0.010296\n",
      "nameDest_M              0.000702\n",
      "transType_DEBIT         0.000081\n",
      "19.3352641538 Min elapsed.\n"
     ]
    },
    {
     "data": {
      "image/png": "[encoded data removed]",
      "text/plain": [
       "<Figure size 432x288 with 2 Axes>"
      ]
     },
     "metadata": {
      "needs_background": "light"
     },
     "output_type": "display_data"
    }
   ],
   "source": [
    "from sklearn.ensemble import RandomForestClassifier\n",
    "\n",
    "start = timer()\n",
    "# \n",
    "params_fixed = {\n",
    "    'class_weight': weights,\n",
    "    'n_jobs' : (-1),\n",
    "    'random_state' : seed,\n",
    "}\n",
    "\n",
    "rfc_w = RandomForestClassifier(**params_fixed)\n",
    "\n",
    "%timeit rfc_w.fit(X_train, y_train)\n",
    "# \n",
    "y_predRFCw = rfc_w.predict(X_test)\n",
    "print('\\n')\n",
    "print(classification_report(y_test, y_predRFCw))\n",
    "print(confusion_matrix(y_test, y_predRFCw))\n",
    "print('\\n')\n",
    "disp = ConfusionMatrixDisplay(confusion_matrix=(confusion_matrix(y_test, y_predRFCw)), display_labels=rfc_w.classes_)\n",
    "disp.plot()\n",
    "print('\\n')\n",
    "df0 = pd.DataFrame(rfc_w.feature_importances_, index=X.columns, columns=[\"% Importance\"])\n",
    "print(df0.sort_values(\"% Importance\", axis=0, ascending=False))\n",
    "end = timer()\n",
    "print(f'{(end - start)/60} Min elapsed.')\n"
   ]
  },
  {
   "cell_type": "code",
   "execution_count": null,
   "id": "worth-ranking",
   "metadata": {},
   "outputs": [],
   "source": []
  },
  {
   "cell_type": "markdown",
   "id": "psychological-greek",
   "metadata": {},
   "source": [
    "# Random forest "
   ]
  },
  {
   "cell_type": "code",
   "execution_count": null,
   "id": "cardiac-hepatitis",
   "metadata": {},
   "outputs": [],
   "source": [
    "from sklearn.ensemble import RandomForestClassifier\n",
    "\n",
    "start = timer()\n",
    "# \n",
    "params_grid = {\n",
    "'n_estimators': range(100, 500, 100),\n",
    "# 'learning_rate': [0.001, 0.01, 0.1, 0.2, 0.3, 0.5],\n",
    "}\n",
    "# \n",
    "params_fixed = {\n",
    "    'class_weight': weights,\n",
    "    'n_jobs' : (-1),\n",
    "    'random_state' : seed,\n",
    "}\n",
    "\n",
    "# \n",
    "learning_rate = [0.001, 0.01, 0.1, 0.2, 0.3, 0.5]\n",
    "# Number of trees in random forest\n",
    "n_estimators = [int(x) for x in np.linspace(start = 200, stop = 2000, num = 5)]\n",
    "# Number of features to consider at every split\n",
    "max_features = ['auto', 'sqrt']\n",
    "# Maximum number of levels in tree\n",
    "max_depth = [int(x) for x in np.linspace(10, 110, num = 11)]\n",
    "max_depth.append(None)\n",
    "# Minimum number of samples required to split a node\n",
    "min_samples_split = [2, 5, 10]\n",
    "# Minimum number of samples required at each leaf node\n",
    "min_samples_leaf = [1, 2, 4]\n",
    "# Method of selecting samples for training each tree\n",
    "bootstrap = [True, False]\n",
    "# Create the random grid\n",
    "\n",
    "random_grid = {'n_estimators': n_estimators,\n",
    "               'max_features': max_features,\n",
    "               'max_depth': max_depth,\n",
    "               'min_samples_split': min_samples_split,\n",
    "               'min_samples_leaf': min_samples_leaf,\n",
    "               'learning_rate' : learning_rate,\n",
    "               'bootstrap': bootstrap}\n",
    "\n",
    "# Model\n",
    "rfc_w = RandomForestClassifier(**params_fixed)\n",
    "\n",
    "# Model Random\n",
    "rfc_random = RandomizedSearchCV(estimator = rfc_w, param_distributions = random_grid, n_iter = 100, cv = 3, verbose=2, \n",
    "                   random_state=seed, n_jobs = -1)\n",
    "\n",
    "# \n",
    "start = timer()\n",
    "# \n",
    "#Train the model using the training sets\n",
    "%timeit rfc_random.fit(X_train, y_train)\n",
    "# \n",
    "s_p = timer()\n",
    "# \n",
    "y_predRFCw = rfc_random.predict(X_test)\n",
    "e_p = timer()\n",
    "print(f'{(e_p - s_p)} Sec elapsed for prediction.')\n",
    "# \n",
    "\n",
    "y_predRFCw = rfc_w.predict(X_test)\n",
    "print('\\n')\n",
    "print(classification_report(y_test, y_predRFCw))\n",
    "print(confusion_matrix(y_test, y_predRFCw))\n",
    "print('\\n')\n",
    "disp = ConfusionMatrixDisplay(confusion_matrix=(confusion_matrix(y_test, y_predRFCw)), display_labels=rfc_w.classes_)\n",
    "disp.plot()\n",
    "print('\\n')\n",
    "df0 = pd.DataFrame(rfc_w.feature_importances_, index=X.columns, columns=[\"% Importance\"])\n",
    "print(df0.sort_values(\"% Importance\", axis=0, ascending=False))\n",
    "print('\\n')\n",
    "print(rfc_w.best_estimator_)\n",
    "end = timer()\n",
    "print(f'{(end - start)/60} Min elapsed.')\n",
    "print('\\n')"
   ]
  },
  {
   "cell_type": "code",
   "execution_count": null,
   "id": "future-escape",
   "metadata": {},
   "outputs": [],
   "source": [
    "start = timer()\n",
    "# \n",
    "#Train the model using the training sets\n",
    "%timeit clf_random.fit(X_train_rus, y_train_rus)\n",
    "# \n",
    "s_p = timer()\n",
    "y_pred=clf_random.predict(X_test_rus)\n",
    "e_p = timer()\n",
    "print(f'{(e_p - s_p)} Sec elapsed.')\n",
    "# \n",
    "print('\\n')\n",
    "print(classification_report(y_test_rus, y_pred))\n",
    "print(confusion_matrix(y_test_rus, y_pred))\n",
    "print('\\n')\n",
    "disp = ConfusionMatrixDisplay(confusion_matrix=(confusion_matrix(y_test_rus, y_pred)), \n",
    "                              display_labels=clf_random.classes_)\n",
    "disp.plot()\n",
    "print('\\n')\n",
    "end = timer()\n",
    "print(f'{(end - start)/60} Min elapsed.')"
   ]
  },
  {
   "cell_type": "code",
   "execution_count": null,
   "id": "legislative-jacksonville",
   "metadata": {},
   "outputs": [],
   "source": []
  },
  {
   "cell_type": "markdown",
   "id": "bulgarian-trading",
   "metadata": {},
   "source": [
    "# LGBM Classifier"
   ]
  },
  {
   "cell_type": "code",
   "execution_count": null,
   "id": "exclusive-peace",
   "metadata": {},
   "outputs": [],
   "source": [
    "from lightgbm import LGBMClassifier\n",
    "\n",
    "start = timer()\n",
    "# Define model\n",
    "lgbm_cl = LGBMClassifier(random_state=seed, is_unbalance = True, n_jobs=-1)\n",
    "\n",
    "#Train the model using the training sets\n",
    "%timeit lgbm_cl.fit(X_train,y_train)\n",
    "# \n",
    "y_predLGBM = lgbm_cl.predict(X_test)\n",
    "print('\\n')\n",
    "print(classification_report(y_test, y_predLGBM))\n",
    "print(confusion_matrix(y_test, y_predLGBM))\n",
    "print('\\n')\n",
    "disp = ConfusionMatrixDisplay(confusion_matrix=(confusion_matrix(y_test, y_predLGBM)), \n",
    "                              display_labels=lgbm_cl.classes_)\n",
    "disp.plot()\n",
    "print('\\n')\n",
    "end = timer()\n",
    "print(f'{(end - start)/60} Min elapsed.')"
   ]
  },
  {
   "cell_type": "code",
   "execution_count": null,
   "id": "amazing-antenna",
   "metadata": {},
   "outputs": [],
   "source": [
    "from lightgbm import LGBMClassifier\n",
    "\n",
    "start = timer()\n",
    "# Define model\n",
    "lgbm_cl = LGBMClassifier(random_state=seed, n_jobs=-1)\n",
    "\n",
    "#Train the model using the training sets\n",
    "%timeit lgbm_cl.fit(X_train,y_train)\n",
    "# \n",
    "y_predLGBM = lgbm_cl.predict(X_test)\n",
    "print('\\n')\n",
    "print(classification_report(y_test, y_predLGBM))\n",
    "print(confusion_matrix(y_test, y_predLGBM))\n",
    "print('\\n')\n",
    "disp = ConfusionMatrixDisplay(confusion_matrix=(confusion_matrix(y_test, y_predLGBM)), \n",
    "                              display_labels=lgbm_cl.classes_)\n",
    "disp.plot()\n",
    "print('\\n')\n",
    "end = timer()\n",
    "print(f'{(end - start)/60} Min elapsed.')"
   ]
  },
  {
   "cell_type": "markdown",
   "id": "smooth-national",
   "metadata": {},
   "source": [
    "# XGB Classifier"
   ]
  },
  {
   "cell_type": "code",
   "execution_count": null,
   "id": "initial-dimension",
   "metadata": {},
   "outputs": [],
   "source": [
    "from xgboost import XGBClassifier\n",
    "# \n",
    "start = timer()\n",
    "# \n",
    "x = y_test.value_counts()\n",
    "\n",
    "# Define model\n",
    "xgb_cl = XGBClassifier(objective ='binary:logistic', eval_metric = \"logloss\", n_jobs=-1, random_state=seed, \n",
    "                       scale_pos_weight=(x[0]/x[1]),use_label_encoder=False)\n",
    "\n",
    "#Train the model using the training sets\n",
    "xgb_cl.fit(X_train,y_train)\n",
    "# \n",
    "y_predXGB=xgb_cl.predict(X_test)\n",
    "print('\\n')\n",
    "print(classification_report(y_test, y_predXGB))\n",
    "print(confusion_matrix(y_test, y_predXGB))\n",
    "print('\\n')\n",
    "disp = ConfusionMatrixDisplay(confusion_matrix=(confusion_matrix(y_test, y_predXGB)), \n",
    "                              display_labels=xgb_cl.classes_)\n",
    "disp.plot()\n",
    "print('\\n')\n",
    "end = timer()\n",
    "print(f'{(end - start)/60} Min elapsed.')"
   ]
  },
  {
   "cell_type": "code",
   "execution_count": null,
   "id": "preliminary-private",
   "metadata": {},
   "outputs": [],
   "source": []
  }
 ],
 "metadata": {
  "kernelspec": {
   "display_name": "Python 3",
   "language": "python",
   "name": "python3"
  },
  "language_info": {
   "codemirror_mode": {
    "name": "ipython",
    "version": 3
   },
   "file_extension": ".py",
   "mimetype": "text/x-python",
   "name": "python",
   "nbconvert_exporter": "python",
   "pygments_lexer": "ipython3",
   "version": "3.8.5"
  }
 },
 "nbformat": 4,
 "nbformat_minor": 5
}
