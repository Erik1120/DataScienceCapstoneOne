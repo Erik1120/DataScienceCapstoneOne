{
 "cells": [
  {
   "cell_type": "code",
   "execution_count": 1,
   "id": "excellent-superior",
   "metadata": {},
   "outputs": [],
   "source": [
    "# Import package\n",
    "import pandas as pd\n",
    "import numpy as np\n",
    "import matplotlib.pyplot as plt\n",
    "import seaborn as sns\n",
    "from timeit import default_timer as timer "
   ]
  },
  {
   "cell_type": "markdown",
   "id": "identified-discharge",
   "metadata": {},
   "source": [
    "# Load CSV files"
   ]
  },
  {
   "cell_type": "code",
   "execution_count": 2,
   "id": "parental-rabbit",
   "metadata": {},
   "outputs": [
    {
     "name": "stdout",
     "output_type": "stream",
     "text": [
      "8.085496229 seconds elapsed.\n"
     ]
    }
   ],
   "source": [
    "start = timer()\n",
    "# \n",
    "prediction_info = dict()\n",
    "# \n",
    "file = 'paysim.csv'\n",
    "path = '../Data/'\n",
    "\n",
    "paysim = pd.read_csv(path+file)\n",
    "# \n",
    "paysim = pd.get_dummies(paysim, drop_first=True)\n",
    "# \n",
    "end = timer()\n",
    "print(f'{(end - start)} seconds elapsed.')"
   ]
  },
  {
   "cell_type": "code",
   "execution_count": 3,
   "id": "fatal-brain",
   "metadata": {},
   "outputs": [
    {
     "data": {
      "text/plain": [
       "0    6354407\n",
       "1       8213\n",
       "Name: isFraud, dtype: int64"
      ]
     },
     "execution_count": 3,
     "metadata": {},
     "output_type": "execute_result"
    }
   ],
   "source": [
    "paysim.isFraud.value_counts()"
   ]
  },
  {
   "cell_type": "markdown",
   "id": "confidential-beads",
   "metadata": {},
   "source": [
    "### Display Data for both DataFrames"
   ]
  },
  {
   "cell_type": "code",
   "execution_count": 4,
   "id": "light-toner",
   "metadata": {},
   "outputs": [
    {
     "data": {
      "text/html": [
       "<div>\n",
       "<style scoped>\n",
       "    .dataframe tbody tr th:only-of-type {\n",
       "        vertical-align: middle;\n",
       "    }\n",
       "\n",
       "    .dataframe tbody tr th {\n",
       "        vertical-align: top;\n",
       "    }\n",
       "\n",
       "    .dataframe thead th {\n",
       "        text-align: right;\n",
       "    }\n",
       "</style>\n",
       "<table border=\"1\" class=\"dataframe\">\n",
       "  <thead>\n",
       "    <tr style=\"text-align: right;\">\n",
       "      <th></th>\n",
       "      <th>step</th>\n",
       "      <th>amount</th>\n",
       "      <th>oldbalanceOrig</th>\n",
       "      <th>newbalanceOrig</th>\n",
       "      <th>oldbalanceDest</th>\n",
       "      <th>newbalanceDest</th>\n",
       "      <th>isFraud</th>\n",
       "      <th>diffBalanceOrig</th>\n",
       "      <th>diffBalanceDest</th>\n",
       "      <th>transType_CASH_OUT</th>\n",
       "      <th>transType_DEBIT</th>\n",
       "      <th>transType_PAYMENT</th>\n",
       "      <th>transType_TRANSFER</th>\n",
       "      <th>nameDest_M</th>\n",
       "    </tr>\n",
       "  </thead>\n",
       "  <tbody>\n",
       "    <tr>\n",
       "      <th>0</th>\n",
       "      <td>1</td>\n",
       "      <td>9839.64</td>\n",
       "      <td>170136.0</td>\n",
       "      <td>160296.36</td>\n",
       "      <td>0.0</td>\n",
       "      <td>0.0</td>\n",
       "      <td>0</td>\n",
       "      <td>0.0</td>\n",
       "      <td>9839.64</td>\n",
       "      <td>0</td>\n",
       "      <td>0</td>\n",
       "      <td>1</td>\n",
       "      <td>0</td>\n",
       "      <td>1</td>\n",
       "    </tr>\n",
       "    <tr>\n",
       "      <th>1</th>\n",
       "      <td>1</td>\n",
       "      <td>1864.28</td>\n",
       "      <td>21249.0</td>\n",
       "      <td>19384.72</td>\n",
       "      <td>0.0</td>\n",
       "      <td>0.0</td>\n",
       "      <td>0</td>\n",
       "      <td>0.0</td>\n",
       "      <td>1864.28</td>\n",
       "      <td>0</td>\n",
       "      <td>0</td>\n",
       "      <td>1</td>\n",
       "      <td>0</td>\n",
       "      <td>1</td>\n",
       "    </tr>\n",
       "    <tr>\n",
       "      <th>2</th>\n",
       "      <td>1</td>\n",
       "      <td>181.00</td>\n",
       "      <td>181.0</td>\n",
       "      <td>0.00</td>\n",
       "      <td>0.0</td>\n",
       "      <td>0.0</td>\n",
       "      <td>1</td>\n",
       "      <td>0.0</td>\n",
       "      <td>181.00</td>\n",
       "      <td>0</td>\n",
       "      <td>0</td>\n",
       "      <td>0</td>\n",
       "      <td>1</td>\n",
       "      <td>0</td>\n",
       "    </tr>\n",
       "    <tr>\n",
       "      <th>3</th>\n",
       "      <td>1</td>\n",
       "      <td>181.00</td>\n",
       "      <td>181.0</td>\n",
       "      <td>0.00</td>\n",
       "      <td>21182.0</td>\n",
       "      <td>0.0</td>\n",
       "      <td>1</td>\n",
       "      <td>0.0</td>\n",
       "      <td>21363.00</td>\n",
       "      <td>1</td>\n",
       "      <td>0</td>\n",
       "      <td>0</td>\n",
       "      <td>0</td>\n",
       "      <td>0</td>\n",
       "    </tr>\n",
       "    <tr>\n",
       "      <th>4</th>\n",
       "      <td>1</td>\n",
       "      <td>11668.14</td>\n",
       "      <td>41554.0</td>\n",
       "      <td>29885.86</td>\n",
       "      <td>0.0</td>\n",
       "      <td>0.0</td>\n",
       "      <td>0</td>\n",
       "      <td>0.0</td>\n",
       "      <td>11668.14</td>\n",
       "      <td>0</td>\n",
       "      <td>0</td>\n",
       "      <td>1</td>\n",
       "      <td>0</td>\n",
       "      <td>1</td>\n",
       "    </tr>\n",
       "  </tbody>\n",
       "</table>\n",
       "</div>"
      ],
      "text/plain": [
       "   step    amount  oldbalanceOrig  newbalanceOrig  oldbalanceDest  \\\n",
       "0     1   9839.64        170136.0       160296.36             0.0   \n",
       "1     1   1864.28         21249.0        19384.72             0.0   \n",
       "2     1    181.00           181.0            0.00             0.0   \n",
       "3     1    181.00           181.0            0.00         21182.0   \n",
       "4     1  11668.14         41554.0        29885.86             0.0   \n",
       "\n",
       "   newbalanceDest  isFraud  diffBalanceOrig  diffBalanceDest  \\\n",
       "0             0.0        0              0.0          9839.64   \n",
       "1             0.0        0              0.0          1864.28   \n",
       "2             0.0        1              0.0           181.00   \n",
       "3             0.0        1              0.0         21363.00   \n",
       "4             0.0        0              0.0         11668.14   \n",
       "\n",
       "   transType_CASH_OUT  transType_DEBIT  transType_PAYMENT  transType_TRANSFER  \\\n",
       "0                   0                0                  1                   0   \n",
       "1                   0                0                  1                   0   \n",
       "2                   0                0                  0                   1   \n",
       "3                   1                0                  0                   0   \n",
       "4                   0                0                  1                   0   \n",
       "\n",
       "   nameDest_M  \n",
       "0           1  \n",
       "1           1  \n",
       "2           0  \n",
       "3           0  \n",
       "4           1  "
      ]
     },
     "execution_count": 4,
     "metadata": {},
     "output_type": "execute_result"
    }
   ],
   "source": [
    "paysim.head()"
   ]
  },
  {
   "cell_type": "markdown",
   "id": "other-oakland",
   "metadata": {},
   "source": [
    "### Create X & y for both CSV files"
   ]
  },
  {
   "cell_type": "code",
   "execution_count": 5,
   "id": "auburn-history",
   "metadata": {},
   "outputs": [],
   "source": [
    "# X, y full data\n",
    "y =  paysim['isFraud']\n",
    "X =  paysim.loc[:, paysim.columns != 'isFraud']\n",
    "# \n",
    "seed = 11\n",
    "# "
   ]
  },
  {
   "cell_type": "code",
   "execution_count": 6,
   "id": "dramatic-symphony",
   "metadata": {},
   "outputs": [
    {
     "data": {
      "text/html": [
       "<div>\n",
       "<style scoped>\n",
       "    .dataframe tbody tr th:only-of-type {\n",
       "        vertical-align: middle;\n",
       "    }\n",
       "\n",
       "    .dataframe tbody tr th {\n",
       "        vertical-align: top;\n",
       "    }\n",
       "\n",
       "    .dataframe thead th {\n",
       "        text-align: right;\n",
       "    }\n",
       "</style>\n",
       "<table border=\"1\" class=\"dataframe\">\n",
       "  <thead>\n",
       "    <tr style=\"text-align: right;\">\n",
       "      <th></th>\n",
       "      <th>step</th>\n",
       "      <th>amount</th>\n",
       "      <th>oldbalanceOrig</th>\n",
       "      <th>newbalanceOrig</th>\n",
       "      <th>oldbalanceDest</th>\n",
       "      <th>newbalanceDest</th>\n",
       "      <th>diffBalanceOrig</th>\n",
       "      <th>diffBalanceDest</th>\n",
       "      <th>transType_CASH_OUT</th>\n",
       "      <th>transType_DEBIT</th>\n",
       "      <th>transType_PAYMENT</th>\n",
       "      <th>transType_TRANSFER</th>\n",
       "      <th>nameDest_M</th>\n",
       "    </tr>\n",
       "  </thead>\n",
       "  <tbody>\n",
       "    <tr>\n",
       "      <th>5932021</th>\n",
       "      <td>404</td>\n",
       "      <td>202655.52</td>\n",
       "      <td>949934.49</td>\n",
       "      <td>1152590.01</td>\n",
       "      <td>459208.99</td>\n",
       "      <td>256553.47</td>\n",
       "      <td>405311.04</td>\n",
       "      <td>405311.04</td>\n",
       "      <td>0</td>\n",
       "      <td>0</td>\n",
       "      <td>0</td>\n",
       "      <td>0</td>\n",
       "      <td>0</td>\n",
       "    </tr>\n",
       "    <tr>\n",
       "      <th>1585470</th>\n",
       "      <td>155</td>\n",
       "      <td>223409.26</td>\n",
       "      <td>5205833.48</td>\n",
       "      <td>5429242.75</td>\n",
       "      <td>1986344.37</td>\n",
       "      <td>1762935.10</td>\n",
       "      <td>446818.53</td>\n",
       "      <td>446818.53</td>\n",
       "      <td>0</td>\n",
       "      <td>0</td>\n",
       "      <td>0</td>\n",
       "      <td>0</td>\n",
       "      <td>0</td>\n",
       "    </tr>\n",
       "    <tr>\n",
       "      <th>1321617</th>\n",
       "      <td>136</td>\n",
       "      <td>5052.02</td>\n",
       "      <td>0.00</td>\n",
       "      <td>0.00</td>\n",
       "      <td>0.00</td>\n",
       "      <td>0.00</td>\n",
       "      <td>5052.02</td>\n",
       "      <td>5052.02</td>\n",
       "      <td>0</td>\n",
       "      <td>0</td>\n",
       "      <td>1</td>\n",
       "      <td>0</td>\n",
       "      <td>1</td>\n",
       "    </tr>\n",
       "    <tr>\n",
       "      <th>5097624</th>\n",
       "      <td>355</td>\n",
       "      <td>70732.51</td>\n",
       "      <td>7349136.79</td>\n",
       "      <td>7419869.30</td>\n",
       "      <td>467655.45</td>\n",
       "      <td>396922.94</td>\n",
       "      <td>141465.02</td>\n",
       "      <td>141465.02</td>\n",
       "      <td>0</td>\n",
       "      <td>0</td>\n",
       "      <td>0</td>\n",
       "      <td>0</td>\n",
       "      <td>0</td>\n",
       "    </tr>\n",
       "    <tr>\n",
       "      <th>1271213</th>\n",
       "      <td>135</td>\n",
       "      <td>74263.91</td>\n",
       "      <td>18868.00</td>\n",
       "      <td>0.00</td>\n",
       "      <td>30530.00</td>\n",
       "      <td>104793.91</td>\n",
       "      <td>55395.91</td>\n",
       "      <td>0.00</td>\n",
       "      <td>0</td>\n",
       "      <td>0</td>\n",
       "      <td>0</td>\n",
       "      <td>1</td>\n",
       "      <td>0</td>\n",
       "    </tr>\n",
       "  </tbody>\n",
       "</table>\n",
       "</div>"
      ],
      "text/plain": [
       "         step     amount  oldbalanceOrig  newbalanceOrig  oldbalanceDest  \\\n",
       "5932021   404  202655.52       949934.49      1152590.01       459208.99   \n",
       "1585470   155  223409.26      5205833.48      5429242.75      1986344.37   \n",
       "1321617   136    5052.02            0.00            0.00            0.00   \n",
       "5097624   355   70732.51      7349136.79      7419869.30       467655.45   \n",
       "1271213   135   74263.91        18868.00            0.00        30530.00   \n",
       "\n",
       "         newbalanceDest  diffBalanceOrig  diffBalanceDest  transType_CASH_OUT  \\\n",
       "5932021       256553.47        405311.04        405311.04                   0   \n",
       "1585470      1762935.10        446818.53        446818.53                   0   \n",
       "1321617            0.00          5052.02          5052.02                   0   \n",
       "5097624       396922.94        141465.02        141465.02                   0   \n",
       "1271213       104793.91         55395.91             0.00                   0   \n",
       "\n",
       "         transType_DEBIT  transType_PAYMENT  transType_TRANSFER  nameDest_M  \n",
       "5932021                0                  0                   0           0  \n",
       "1585470                0                  0                   0           0  \n",
       "1321617                0                  1                   0           1  \n",
       "5097624                0                  0                   0           0  \n",
       "1271213                0                  0                   1           0  "
      ]
     },
     "execution_count": 6,
     "metadata": {},
     "output_type": "execute_result"
    }
   ],
   "source": [
    "X.sample(5)"
   ]
  },
  {
   "cell_type": "code",
   "execution_count": 7,
   "id": "completed-flavor",
   "metadata": {},
   "outputs": [
    {
     "data": {
      "text/plain": [
       "0    6354407\n",
       "1       8213\n",
       "Name: isFraud, dtype: int64"
      ]
     },
     "execution_count": 7,
     "metadata": {},
     "output_type": "execute_result"
    }
   ],
   "source": [
    "y.value_counts()"
   ]
  },
  {
   "cell_type": "markdown",
   "id": "exposed-swift",
   "metadata": {},
   "source": [
    "### imblearn under sampling (RandomUnderSampler)"
   ]
  },
  {
   "cell_type": "code",
   "execution_count": 8,
   "id": "proper-marsh",
   "metadata": {},
   "outputs": [
    {
     "name": "stdout",
     "output_type": "stream",
     "text": [
      "Original Non standarized dataset shape: 6362620\n",
      "Resample Non standarized dataset shape 16426\n",
      "\n",
      "\n",
      "2.7463999539999993 seconds elapsed.\n"
     ]
    }
   ],
   "source": [
    "start = timer()\n",
    "# \n",
    "from imblearn.under_sampling import RandomUnderSampler\n",
    "# \n",
    "params_fixed = {\n",
    "    'sampling_strategy' : 'auto',\n",
    "    'random_state' : seed,\n",
    "    'replacement' : False,\n",
    "}\n",
    "# # Model\n",
    "rus = RandomUnderSampler(**params_fixed)\n",
    "\n",
    "# fit predictor and target variable\n",
    "x_rus, y_rus = rus.fit_resample(X, y)\n",
    "print('Original Non standarized dataset shape:', len(y))\n",
    "print('Resample Non standarized dataset shape', len(y_rus))\n",
    "print('\\n')\n",
    "\n",
    "end = timer()\n",
    "print(f'{(end - start)} seconds elapsed.')"
   ]
  },
  {
   "cell_type": "markdown",
   "id": "increasing-inspiration",
   "metadata": {},
   "source": [
    "### Synthetic Minority Oversampling Technique (SMOTE)"
   ]
  },
  {
   "cell_type": "code",
   "execution_count": 9,
   "id": "julian-pharmacology",
   "metadata": {},
   "outputs": [
    {
     "name": "stdout",
     "output_type": "stream",
     "text": [
      "SMOTE Original standarized dataset shape 6362620\n",
      "SMOTE Resample standarized dataset shape 12708814\n",
      "\n",
      "\n",
      "6.926048885 seconds elapsed.\n"
     ]
    }
   ],
   "source": [
    "start = timer()\n",
    "# import library\n",
    "from imblearn.over_sampling import SMOTE\n",
    "# \n",
    "params_fixed = {'sampling_strategy' : 'not majority',\n",
    "                'random_state' : seed,\n",
    "                'k_neighbors' : (5),\n",
    "                'n_jobs' : (-1),\n",
    "               }\n",
    "# Model\n",
    "oversample = SMOTE(**params_fixed)\n",
    "# \n",
    "\n",
    "# fit predictor and target variable\n",
    "x_smote, y_smote = oversample.fit_resample(X, y)\n",
    "\n",
    "print('SMOTE Original standarized dataset shape', len(y))\n",
    "print('SMOTE Resample standarized dataset shape', len(y_smote))\n",
    "print('\\n')\n",
    "\n",
    "end = timer()\n",
    "print(f'{(end - start)} seconds elapsed.')"
   ]
  },
  {
   "cell_type": "markdown",
   "id": "consolidated-footwear",
   "metadata": {},
   "source": [
    "# Train Test Split"
   ]
  },
  {
   "cell_type": "code",
   "execution_count": 10,
   "id": "above-today",
   "metadata": {},
   "outputs": [
    {
     "name": "stdout",
     "output_type": "stream",
     "text": [
      "11.496947894000002 seconds elapsed.\n"
     ]
    }
   ],
   "source": [
    "start = timer()\n",
    "from sklearn.model_selection import train_test_split\n",
    "# \n",
    "t_size=0.25\n",
    "# Random standarized under-sampling with imblearn\n",
    "X_train_rus, X_test_rus, y_train_rus, y_test_rus = train_test_split(x_rus, y_rus, test_size=t_size, \n",
    "                                                                    random_state=seed, stratify=y_rus)\n",
    "\n",
    "# Non Standarized Full Dataset\n",
    "X_train_nsf, X_test_nsf, y_train_nsf, y_test_nsf = train_test_split(X, y, test_size=t_size, \n",
    "                                                                    random_state=seed, stratify=y)\n",
    "\n",
    "# Non Standarized over-sampling SMOTE Dataset\n",
    "X_train_nso, X_test_nso, y_train_nso, y_test_nso = train_test_split(x_smote, y_smote, test_size=t_size, \n",
    "                                                                    random_state=seed, stratify=y_smote)\n",
    "\n",
    "end = timer()\n",
    "print(f'{(end - start)} seconds elapsed.')"
   ]
  },
  {
   "cell_type": "markdown",
   "id": "dimensional-porcelain",
   "metadata": {},
   "source": [
    "### Import Model/Search/Matrics"
   ]
  },
  {
   "cell_type": "code",
   "execution_count": 11,
   "id": "naughty-jenny",
   "metadata": {},
   "outputs": [],
   "source": [
    "from sklearn.model_selection import RandomizedSearchCV, GridSearchCV\n",
    "from sklearn.metrics import classification_report, confusion_matrix\n",
    "from sklearn.metrics import roc_curve, roc_auc_score\n",
    "from sklearn.metrics import ConfusionMatrixDisplay\n",
    "from sklearn.pipeline import Pipeline\n",
    "# Random Forest\n",
    "from sklearn.ensemble import RandomForestClassifier\n",
    "# XG Boost Classifier\n",
    "from xgboost import XGBClassifier\n",
    "# Light GBM Classifier\n",
    "from lightgbm import LGBMClassifier\n",
    "# Support Vector Machine\n",
    "from sklearn import svm\n",
    "# Import StandardScaler\n",
    "from sklearn.preprocessing import StandardScaler\n",
    "# data normalization with sklearn\n",
    "from sklearn.preprocessing import MinMaxScaler\n",
    "#"
   ]
  },
  {
   "cell_type": "markdown",
   "id": "adverse-desert",
   "metadata": {},
   "source": [
    "#### Store Model Stats for comparison"
   ]
  },
  {
   "cell_type": "code",
   "execution_count": 12,
   "id": "informative-question",
   "metadata": {},
   "outputs": [],
   "source": [
    "prediction_info = dict()\n",
    "# \n",
    "prediction_info = {\"ID\" : [],\n",
    "                   \"Algorithm\" : [],\n",
    "                   \"TrainingTime_sec\": [],\n",
    "                   \"PredictionTime_sec\": [],\n",
    "                   \"False Negative\" : [],\n",
    "                   \"False Positive\" : [],\n",
    "                   \"Total Records\": [],\n",
    "                  }\n",
    "# \n",
    "keys = [\"ID\", \"Algorithm\", \"TrainingTime_sec\", \"PredictionTime_sec\", \"False Negative\", \"False Positive\",\"Total Records\"]\n",
    "# "
   ]
  },
  {
   "cell_type": "markdown",
   "id": "wired-exchange",
   "metadata": {},
   "source": [
    "# Random Forest"
   ]
  },
  {
   "cell_type": "code",
   "execution_count": 13,
   "id": "alien-knowing",
   "metadata": {},
   "outputs": [],
   "source": [
    "# For prediction_info\n",
    "ID = 'RF'\n",
    "# steps = [()] RandomForestClassifier\n",
    "params_rfc = {'n_jobs' : (-1),\n",
    "              'random_state' : seed,\n",
    "             }\n",
    "# Pipeline\n",
    "rfc_scaler_rus = [('scaler', StandardScaler()), ('rfc', RandomForestClassifier(**params_rfc))]\n",
    "rfc_normal_rus = [('normal', MinMaxScaler()), ('rfc', RandomForestClassifier(**params_rfc))]\n",
    "rfc_scaler_nso = [('scaler', StandardScaler()), ('rfc', RandomForestClassifier(**params_rfc))]\n",
    "rfc_normal_nsf = [('normal', MinMaxScaler()), ('rfc', RandomForestClassifier(**params_rfc))] \n",
    "# Pipeline\n",
    "# under sample\n",
    "pipe_scaler_rus = Pipeline(rfc_scaler_rus)\n",
    "pipe_normal_rus = Pipeline(rfc_normal_rus)\n",
    "# Over sample (SMOTE)\n",
    "pipe_nso = Pipeline(rfc_scaler_nso)\n",
    "# Full\n",
    "pipe_nsf = Pipeline(rfc_normal_nsf)"
   ]
  },
  {
   "cell_type": "markdown",
   "id": "fiscal-parking",
   "metadata": {},
   "source": [
    "#### Random Forest Model with MinMaxScaler Under sample Data"
   ]
  },
  {
   "cell_type": "code",
   "execution_count": 14,
   "id": "color-reform",
   "metadata": {},
   "outputs": [
    {
     "name": "stdout",
     "output_type": "stream",
     "text": [
      "              precision    recall  f1-score   support\n",
      "\n",
      "           0       1.00      1.00      1.00      2053\n",
      "           1       1.00      1.00      1.00      2054\n",
      "\n",
      "    accuracy                           1.00      4107\n",
      "   macro avg       1.00      1.00      1.00      4107\n",
      "weighted avg       1.00      1.00      1.00      4107\n",
      "\n",
      "Pipeline(steps=[('normal', MinMaxScaler()),\n",
      "                ('rfc', RandomForestClassifier(n_jobs=-1, random_state=11))])\n",
      "\n",
      "\n",
      "                    RF %-importance\n",
      "diffBalanceOrig            0.379779\n",
      "newbalanceOrig             0.159288\n",
      "oldbalanceOrig             0.110100\n",
      "amount                     0.066509\n",
      "nameDest_M                 0.054561\n",
      "transType_TRANSFER         0.042779\n",
      "transType_PAYMENT          0.041354\n",
      "diffBalanceDest            0.036382\n",
      "transType_CASH_OUT         0.028255\n",
      "step                       0.028075\n",
      "newbalanceDest             0.027788\n",
      "oldbalanceDest             0.024391\n",
      "transType_DEBIT            0.000738\n",
      "\n",
      "\n",
      "0.34246885500000346 Sec elapsed.\n"
     ]
    },
    {
     "data": {
      "image/png": "[encoded data removed]",
      "text/plain": [
       "<Figure size 432x288 with 2 Axes>"
      ]
     },
     "metadata": {
      "needs_background": "light"
     },
     "output_type": "display_data"
    }
   ],
   "source": [
    "start = timer()\n",
    "# \n",
    "pipe_normal_rus.fit(X_train_rus, y_train_rus)\n",
    "# \n",
    "p_start = timer()\n",
    "y_predRFC = pipe_normal_rus.predict(X_test_rus)\n",
    "p_end = timer()\n",
    "# \n",
    "print(classification_report(y_test_rus, y_predRFC))\n",
    "print(pipe_normal_rus)\n",
    "print('\\n')\n",
    "cm = confusion_matrix(y_test_rus, y_predRFC)\n",
    "disp = ConfusionMatrixDisplay(confusion_matrix=cm, display_labels=pipe_normal_rus.named_steps['rfc'].classes_)\n",
    "disp.plot()\n",
    "#\n",
    "df = pd.DataFrame(pipe_normal_rus.named_steps['rfc'].feature_importances_, index=X_test_rus.columns, \n",
    "                  columns=[\"RF %-importance\"])\n",
    "print(df.sort_values(\"RF %-importance\", axis=0, ascending=False))\n",
    "# Log\n",
    "data = [ID, 'RFC - Normalize - UnderSample', (p_start - start), (p_end - p_start), cm[1,0], cm[0,1], cm.sum()]\n",
    "#         \n",
    "for key, data in zip(keys,data):\n",
    "    prediction_info[key].append(data)\n",
    "# \n",
    "end = timer()\n",
    "# \n",
    "print('\\n')\n",
    "print(f'{(end - start)} Sec elapsed.')"
   ]
  },
  {
   "cell_type": "markdown",
   "id": "devoted-floor",
   "metadata": {},
   "source": [
    "### Random Forest Model with StandardScaler Under sample Data"
   ]
  },
  {
   "cell_type": "code",
   "execution_count": 15,
   "id": "surgical-copying",
   "metadata": {},
   "outputs": [
    {
     "name": "stdout",
     "output_type": "stream",
     "text": [
      "              precision    recall  f1-score   support\n",
      "\n",
      "           0       1.00      1.00      1.00      2053\n",
      "           1       1.00      1.00      1.00      2054\n",
      "\n",
      "    accuracy                           1.00      4107\n",
      "   macro avg       1.00      1.00      1.00      4107\n",
      "weighted avg       1.00      1.00      1.00      4107\n",
      "\n",
      "Pipeline(steps=[('scaler', StandardScaler()),\n",
      "                ('rfc', RandomForestClassifier(n_jobs=-1, random_state=11))])\n",
      "\n",
      "\n",
      "                    RF %-importance\n",
      "diffBalanceOrig            0.377032\n",
      "newbalanceOrig             0.162867\n",
      "oldbalanceOrig             0.109338\n",
      "amount                     0.066668\n",
      "nameDest_M                 0.054033\n",
      "transType_TRANSFER         0.046070\n",
      "transType_PAYMENT          0.042159\n",
      "diffBalanceDest            0.031879\n",
      "step                       0.029171\n",
      "transType_CASH_OUT         0.028848\n",
      "newbalanceDest             0.027801\n",
      "oldbalanceDest             0.023401\n",
      "transType_DEBIT            0.000734\n",
      "\n",
      "\n",
      "0.288108378000004 Sec elapsed.\n"
     ]
    },
    {
     "data": {
      "image/png": "[encoded data removed]",
      "text/plain": [
       "<Figure size 432x288 with 2 Axes>"
      ]
     },
     "metadata": {
      "needs_background": "light"
     },
     "output_type": "display_data"
    }
   ],
   "source": [
    "start = timer()\n",
    "# \n",
    "pipe_scaler_rus.fit(X_train_rus, y_train_rus)\n",
    "# \n",
    "p_start = timer()\n",
    "y_predRFC = pipe_scaler_rus.predict(X_test_rus)\n",
    "p_end = timer()\n",
    "# \n",
    "print(classification_report(y_test_rus, y_predRFC))\n",
    "print(pipe_scaler_rus)\n",
    "print('\\n')\n",
    "cm = confusion_matrix(y_test_rus, y_predRFC)\n",
    "disp = ConfusionMatrixDisplay(confusion_matrix=cm, display_labels=pipe_scaler_rus.named_steps['rfc'].classes_)\n",
    "disp.plot()\n",
    "# \n",
    "# print(pipe_normal_rus.named_steps['rfc'])\n",
    "#\n",
    "df = pd.DataFrame(pipe_scaler_rus.named_steps['rfc'].feature_importances_, index=X_test_rus.columns, \n",
    "                  columns=[\"RF %-importance\"])\n",
    "print(df.sort_values(\"RF %-importance\", axis=0, ascending=False))\n",
    "# Log\n",
    "data = [ID, 'RFC - Standard - UnderSample', (p_start - start), (p_end - p_start), cm[1,0], cm[0,1], cm.sum()]\n",
    "#         \n",
    "for key, data in zip(keys,data):\n",
    "    prediction_info[key].append(data)\n",
    "# \n",
    "end = timer()\n",
    "print('\\n')\n",
    "print(f'{(end - start)} Sec elapsed.')"
   ]
  },
  {
   "cell_type": "markdown",
   "id": "intellectual-answer",
   "metadata": {},
   "source": [
    "#### Random Forest Model with NON-Standarized/Normalized Under sample Data"
   ]
  },
  {
   "cell_type": "code",
   "execution_count": 16,
   "id": "destroyed-ordinary",
   "metadata": {},
   "outputs": [
    {
     "name": "stdout",
     "output_type": "stream",
     "text": [
      "              precision    recall  f1-score   support\n",
      "\n",
      "           0       1.00      1.00      1.00      2053\n",
      "           1       1.00      1.00      1.00      2054\n",
      "\n",
      "    accuracy                           1.00      4107\n",
      "   macro avg       1.00      1.00      1.00      4107\n",
      "weighted avg       1.00      1.00      1.00      4107\n",
      "\n",
      "RandomForestClassifier(n_jobs=-1, random_state=11)\n",
      "\n",
      "\n",
      "                    RF %-importance\n",
      "diffBalanceOrig            0.385706\n",
      "newbalanceOrig             0.157473\n",
      "oldbalanceOrig             0.110658\n",
      "amount                     0.068351\n",
      "nameDest_M                 0.058427\n",
      "transType_TRANSFER         0.046108\n",
      "transType_PAYMENT          0.041862\n",
      "diffBalanceDest            0.034018\n",
      "step                       0.028806\n",
      "newbalanceDest             0.026155\n",
      "oldbalanceDest             0.021638\n",
      "transType_CASH_OUT         0.020089\n",
      "transType_DEBIT            0.000707\n",
      "\n",
      "\n",
      "0.29974042399999945 Sec elapsed.\n"
     ]
    },
    {
     "data": {
      "image/png": "[encoded data removed]",
      "text/plain": [
       "<Figure size 432x288 with 2 Axes>"
      ]
     },
     "metadata": {
      "needs_background": "light"
     },
     "output_type": "display_data"
    }
   ],
   "source": [
    "start = timer()\n",
    "# RF Model with Non Standarized Under sample Data\n",
    "rfc_ = RandomForestClassifier(**params_rfc)\n",
    "# \n",
    "s_start = timer()\n",
    "# \n",
    "rfc_.fit(X_train_rus, y_train_rus)\n",
    "#\n",
    "p_start = timer()\n",
    "y_predRFC = rfc_.predict(X_test_rus)\n",
    "p_end = timer()\n",
    "# \n",
    "print(classification_report(y_test_rus, y_predRFC))\n",
    "cm = confusion_matrix(y_test_rus, y_predRFC)\n",
    "print(rfc_)\n",
    "print('\\n')\n",
    "disp = ConfusionMatrixDisplay(confusion_matrix=cm, display_labels=rfc_.classes_)\n",
    "disp.plot()\n",
    "# \n",
    "df = pd.DataFrame(rfc_.feature_importances_, index=X_test_rus.columns, columns=[\"RF %-importance\"])\n",
    "print(df.sort_values(\"RF %-importance\", axis=0, ascending=False))\n",
    "# \n",
    "data = [ID, 'RFC - NonStandard - UnderSample', (p_start - s_start), (p_end - p_start), cm[1,0], cm[0,1], cm.sum()]\n",
    "#         \n",
    "for key, data in zip(keys,data):\n",
    "    prediction_info[key].append(data)\n",
    "# \n",
    "end = timer()\n",
    "print('\\n')\n",
    "print(f'{(end - start)} Sec elapsed.')"
   ]
  },
  {
   "cell_type": "markdown",
   "id": "guilty-ukraine",
   "metadata": {},
   "source": [
    "#### Random Forest Model with NON-Standarized Full Data"
   ]
  },
  {
   "cell_type": "code",
   "execution_count": 17,
   "id": "inside-partition",
   "metadata": {},
   "outputs": [
    {
     "name": "stdout",
     "output_type": "stream",
     "text": [
      "              precision    recall  f1-score   support\n",
      "\n",
      "           0       1.00      1.00      1.00   1588602\n",
      "           1       1.00      1.00      1.00      2053\n",
      "\n",
      "    accuracy                           1.00   1590655\n",
      "   macro avg       1.00      1.00      1.00   1590655\n",
      "weighted avg       1.00      1.00      1.00   1590655\n",
      "\n",
      "RandomForestClassifier(n_jobs=-1, random_state=11)\n",
      "\n",
      "\n",
      "                    RF %-importance\n",
      "newbalanceOrig             0.341030\n",
      "diffBalanceOrig            0.211910\n",
      "newbalanceDest             0.095807\n",
      "amount                     0.090746\n",
      "diffBalanceDest            0.087591\n",
      "oldbalanceOrig             0.067213\n",
      "step                       0.032396\n",
      "oldbalanceDest             0.031101\n",
      "transType_TRANSFER         0.027329\n",
      "transType_CASH_OUT         0.012582\n",
      "transType_PAYMENT          0.001332\n",
      "nameDest_M                 0.000858\n",
      "transType_DEBIT            0.000104\n",
      "\n",
      "\n",
      "2.7871904502666665 Min elapsed.\n"
     ]
    },
    {
     "data": {
      "image/png": "[encoded data removed]",
      "text/plain": [
       "<Figure size 432x288 with 2 Axes>"
      ]
     },
     "metadata": {
      "needs_background": "light"
     },
     "output_type": "display_data"
    }
   ],
   "source": [
    "start = timer()\n",
    "# RF Model with Non Standarized Full data\n",
    "rfc_nsf = RandomForestClassifier(**params_rfc)\n",
    "# \n",
    "s_start = timer()\n",
    "rfc_nsf.fit(X_train_nsf, y_train_nsf)\n",
    "# \n",
    "p_start = timer()\n",
    "y_predRFC_nsf = rfc_nsf.predict(X_test_nsf)\n",
    "p_end = timer()\n",
    "# \n",
    "print(classification_report(y_test_nsf, y_predRFC_nsf))\n",
    "print(rfc_nsf)\n",
    "print('\\n')\n",
    "cm = confusion_matrix(y_test_nsf, y_predRFC_nsf)\n",
    "disp = ConfusionMatrixDisplay(confusion_matrix=cm, display_labels=rfc_nsf.classes_)\n",
    "disp.plot()\n",
    "# \n",
    "df = pd.DataFrame(rfc_nsf.feature_importances_, index=X_test_nsf.columns, columns=[\"RF %-importance\"])\n",
    "print(df.sort_values(\"RF %-importance\", axis=0, ascending=False))\n",
    "# \n",
    "data = [ID, 'RFC - NonStandard - Full', (p_start - s_start), (p_end - p_start), cm[1,0], cm[0,1], cm.sum()]\n",
    "#         \n",
    "for key, data in zip(keys,data):\n",
    "    prediction_info[key].append(data)\n",
    "#\n",
    "end = timer()\n",
    "print('\\n')\n",
    "print(f'{(end - start)/60} Min elapsed.')"
   ]
  },
  {
   "cell_type": "markdown",
   "id": "eight-franklin",
   "metadata": {},
   "source": [
    "#### Random Forest Model with NON-Standarized SMOTE Dataset"
   ]
  },
  {
   "cell_type": "code",
   "execution_count": 18,
   "id": "realistic-sierra",
   "metadata": {},
   "outputs": [
    {
     "name": "stdout",
     "output_type": "stream",
     "text": [
      "              precision    recall  f1-score   support\n",
      "\n",
      "           0       1.00      1.00      1.00   1588602\n",
      "           1       1.00      1.00      1.00   1588602\n",
      "\n",
      "    accuracy                           1.00   3177204\n",
      "   macro avg       1.00      1.00      1.00   3177204\n",
      "weighted avg       1.00      1.00      1.00   3177204\n",
      "\n",
      "RandomForestClassifier(n_jobs=-1, random_state=11)\n",
      "\n",
      "\n",
      "                    RF %-importance\n",
      "diffBalanceOrig            0.390881\n",
      "newbalanceOrig             0.157252\n",
      "oldbalanceOrig             0.118350\n",
      "nameDest_M                 0.057839\n",
      "amount                     0.054603\n",
      "transType_TRANSFER         0.051222\n",
      "transType_PAYMENT          0.045937\n",
      "diffBalanceDest            0.041483\n",
      "step                       0.023861\n",
      "newbalanceDest             0.020794\n",
      "transType_CASH_OUT         0.020553\n",
      "oldbalanceDest             0.016444\n",
      "transType_DEBIT            0.000781\n",
      "\n",
      "\n",
      "5.5428361614499995 Min elapsed.\n"
     ]
    },
    {
     "data": {
      "image/png": "[encoded data removed]",
      "text/plain": [
       "<Figure size 432x288 with 2 Axes>"
      ]
     },
     "metadata": {
      "needs_background": "light"
     },
     "output_type": "display_data"
    }
   ],
   "source": [
    "start = timer()\n",
    "# RF Model SMOTE\n",
    "rfc_ = RandomForestClassifier(**params_rfc)\n",
    "# \n",
    "s_start = timer()\n",
    "rfc_.fit(X_train_nso, y_train_nso)\n",
    "# \n",
    "p_start = timer()\n",
    "y_predRFC_ = rfc_.predict(X_test_nso)\n",
    "p_end = timer()\n",
    "# \n",
    "print(classification_report(y_test_nso, y_predRFC_))\n",
    "print(rfc_)\n",
    "print('\\n')\n",
    "cm = confusion_matrix(y_test_nso, y_predRFC_)\n",
    "disp = ConfusionMatrixDisplay(confusion_matrix=cm, display_labels=rfc_.classes_)\n",
    "disp.plot()\n",
    "# \n",
    "df = pd.DataFrame(rfc_.feature_importances_, index=X_test_nso.columns, columns=[\"RF %-importance\"])\n",
    "print(df.sort_values(\"RF %-importance\", axis=0, ascending=False))\n",
    "# \n",
    "data = [ID, 'RFC - NonStandard - OverSample', (p_start - s_start), (p_end - p_start), cm[1,0], cm[0,1], cm.sum()]\n",
    "#         \n",
    "for key, data in zip(keys,data):\n",
    "    prediction_info[key].append(data)\n",
    "#\n",
    "end = timer()\n",
    "print('\\n')\n",
    "print(f'{(end - start)/60} Min elapsed.')"
   ]
  },
  {
   "cell_type": "markdown",
   "id": "coated-bouquet",
   "metadata": {},
   "source": [
    "#### Random Forest Model NON-Standard Under-sampled RandomizedSearchCV"
   ]
  },
  {
   "cell_type": "code",
   "execution_count": 19,
   "id": "silver-asset",
   "metadata": {},
   "outputs": [],
   "source": [
    "start = timer()\n",
    "#Create a Random Forest Classifier\n",
    "rfc_nsf = RandomForestClassifier(**params_rfc)\n",
    "\n",
    "# RandomizedSearchCV\n",
    "# Number of trees in random forest\n",
    "n_estimators = [int(x) for x in np.linspace(start = 200, stop = 2000, num = 10)]\n",
    "# Number of features to consider at every split\n",
    "max_features = ['auto', 'sqrt']\n",
    "# Maximum number of levels in tree\n",
    "max_depth = [int(x) for x in np.linspace(10, 110, num = 11)]\n",
    "max_depth.append(None)\n",
    "# Minimum number of samples required to split a node\n",
    "min_samples_split = [2, 5, 10]\n",
    "# Minimum number of samples required at each leaf node\n",
    "min_samples_leaf = [1, 2, 4]\n",
    "# Method of selecting samples for training each tree\n",
    "bootstrap = [True, False]\n",
    "# Create the random grid\n",
    "\n",
    "random_grid = {'n_estimators': n_estimators,\n",
    "               'max_features': max_features,\n",
    "               'max_depth': max_depth,\n",
    "               'min_samples_split': min_samples_split,\n",
    "               'min_samples_leaf': min_samples_leaf,\n",
    "               'bootstrap': bootstrap}\n",
    "# \n",
    "rfc_random = RandomizedSearchCV(estimator = rfc_nsf, param_distributions = random_grid, n_iter = 100, \n",
    "                                cv = 3, verbose=2, random_state=seed, n_jobs = -1)"
   ]
  },
  {
   "cell_type": "code",
   "execution_count": 20,
   "id": "residential-hearing",
   "metadata": {},
   "outputs": [
    {
     "name": "stdout",
     "output_type": "stream",
     "text": [
      "Fitting 3 folds for each of 100 candidates, totalling 300 fits\n",
      "\n",
      "\n",
      "              precision    recall  f1-score   support\n",
      "\n",
      "           0       1.00      1.00      1.00      2053\n",
      "           1       1.00      1.00      1.00      2054\n",
      "\n",
      "    accuracy                           1.00      4107\n",
      "   macro avg       1.00      1.00      1.00      4107\n",
      "weighted avg       1.00      1.00      1.00      4107\n",
      "\n",
      "\n",
      "\n",
      "{'n_estimators': 400, 'min_samples_split': 2, 'min_samples_leaf': 1, 'max_features': 'auto', 'max_depth': 20, 'bootstrap': False}\n",
      "\n",
      "\n",
      "4.097626969666665 Min elapsed.\n"
     ]
    },
    {
     "data": {
      "image/png": "[encoded data removed]",
      "text/plain": [
       "<Figure size 432x288 with 2 Axes>"
      ]
     },
     "metadata": {
      "needs_background": "light"
     },
     "output_type": "display_data"
    }
   ],
   "source": [
    "s_start = timer()\n",
    "#Train the model using the training sets - under sample standarized\n",
    "rfc_random.fit(X_train_rus, y_train_rus)\n",
    "# \n",
    "p_start = timer()\n",
    "y_prednsf = rfc_random.predict(X_test_rus)\n",
    "p_end = timer()\n",
    "# \n",
    "print('\\n')\n",
    "print(classification_report(y_test_rus, y_prednsf))\n",
    "print('\\n')\n",
    "cm = confusion_matrix(y_test_rus, y_prednsf)\n",
    "disp = ConfusionMatrixDisplay(confusion_matrix=cm, display_labels=rfc_random.classes_)\n",
    "disp.plot()\n",
    "# \n",
    "data = [ID, 'RFC - NonStandard - UnderSample - RandomGridSearch', (p_start - s_start), (p_end - p_start), \n",
    "        cm[1,0], cm[0,1], cm.sum()]\n",
    "#         \n",
    "for key, data in zip(keys,data):\n",
    "    prediction_info[key].append(data)\n",
    "#\n",
    "print(rfc_random.best_params_)\n",
    "print('\\n')\n",
    "end = timer()\n",
    "print(f'{(end - start)/60} Min elapsed.')"
   ]
  },
  {
   "cell_type": "markdown",
   "id": "adjustable-start",
   "metadata": {},
   "source": [
    "# XGB Classifier"
   ]
  },
  {
   "cell_type": "markdown",
   "id": "sudden-fishing",
   "metadata": {},
   "source": [
    "#### XGB Classifier Model Pipeline"
   ]
  },
  {
   "cell_type": "code",
   "execution_count": 21,
   "id": "signed-electron",
   "metadata": {},
   "outputs": [],
   "source": [
    "# For prediction_info\n",
    "ID = 'XGB'\n",
    "# Pipeline\n",
    "params_xgb = {\n",
    "    'objective':'binary:logistic',\n",
    "    'use_label_encoder' : False,\n",
    "    'n_jobs' : (-1),\n",
    "#     'eval_metric' : 'logloss',    \n",
    "    'eval_metric' : 'auc',\n",
    "    'random_state' : seed,\n",
    "}\n",
    "# \n",
    "xgb_scaler_rus = [('scaler', StandardScaler()), ('xgb', XGBClassifier(**params_xgb))]\n",
    "xgb_normal_rus = [('normal', MinMaxScaler()), ('xgb', XGBClassifier(**params_xgb))]\n",
    "xgb_scaler_nso = [('scaler', StandardScaler()), ('xgb', XGBClassifier(**params_xgb))]\n",
    "xgb_normal_nsf = [('normal', MinMaxScaler()), ('xgb', XGBClassifier(**params_xgb))]\n",
    "# under sample\n",
    "pipe_scaler_rus = Pipeline(xgb_scaler_rus)\n",
    "pipe_normal_rus = Pipeline(xgb_normal_rus)\n",
    "# Over sample (SMOTE)\n",
    "pipe_nso = Pipeline(xgb_scaler_nso)\n",
    "# Full\n",
    "pipe_nsf = Pipeline(xgb_normal_nsf)"
   ]
  },
  {
   "cell_type": "markdown",
   "id": "linear-convergence",
   "metadata": {},
   "source": [
    "#### XGB Classifier Model with Scaler Under-Sampled Dataset"
   ]
  },
  {
   "cell_type": "code",
   "execution_count": 22,
   "id": "optical-playing",
   "metadata": {},
   "outputs": [
    {
     "name": "stdout",
     "output_type": "stream",
     "text": [
      "\n",
      "\n",
      "              precision    recall  f1-score   support\n",
      "\n",
      "           0       1.00      1.00      1.00      2053\n",
      "           1       1.00      1.00      1.00      2054\n",
      "\n",
      "    accuracy                           1.00      4107\n",
      "   macro avg       1.00      1.00      1.00      4107\n",
      "weighted avg       1.00      1.00      1.00      4107\n",
      "\n",
      "[('scaler', StandardScaler()), ('xgb', XGBClassifier(base_score=0.5, booster='gbtree', colsample_bylevel=1,\n",
      "              colsample_bynode=1, colsample_bytree=1, eval_metric='auc',\n",
      "              gamma=0, gpu_id=-1, importance_type='gain',\n",
      "              interaction_constraints='', learning_rate=0.300000012,\n",
      "              max_delta_step=0, max_depth=6, min_child_weight=1, missing=nan,\n",
      "              monotone_constraints='()', n_estimators=100, n_jobs=-1,\n",
      "              num_parallel_tree=1, random_state=11, reg_alpha=0, reg_lambda=1,\n",
      "              scale_pos_weight=1, subsample=1, tree_method='exact',\n",
      "              use_label_encoder=False, validate_parameters=1, verbosity=None))]\n",
      "\n",
      "\n",
      "                    XGB %-importance\n",
      "newbalanceOrig              0.515691\n",
      "diffBalanceOrig             0.436455\n",
      "amount                      0.021622\n",
      "diffBalanceDest             0.007836\n",
      "transType_PAYMENT           0.003681\n",
      "oldbalanceOrig              0.003025\n",
      "transType_CASH_OUT          0.002725\n",
      "oldbalanceDest              0.002711\n",
      "transType_TRANSFER          0.002606\n",
      "step                        0.002040\n",
      "newbalanceDest              0.001607\n",
      "transType_DEBIT             0.000000\n",
      "nameDest_M                  0.000000\n",
      "\n",
      "\n",
      "0.4272893299998941 Sec elapsed.\n"
     ]
    },
    {
     "data": {
      "image/png": "[encoded data removed]",
      "text/plain": [
       "<Figure size 432x288 with 2 Axes>"
      ]
     },
     "metadata": {
      "needs_background": "light"
     },
     "output_type": "display_data"
    }
   ],
   "source": [
    "start = timer()\n",
    "#Train the model using the training sets\n",
    "pipe_scaler_rus.fit(X_train_rus,y_train_rus)\n",
    "# \n",
    "p_start = timer()\n",
    "y_predXGB = pipe_scaler_rus.predict(X_test_rus)\n",
    "p_end = timer()\n",
    "print('\\n')\n",
    "print(classification_report(y_test_rus, y_predXGB))\n",
    "print(xgb_scaler_rus)\n",
    "print('\\n')\n",
    "cm = confusion_matrix(y_test_rus, y_predXGB)\n",
    "disp = ConfusionMatrixDisplay(confusion_matrix=cm, \n",
    "                              display_labels=pipe_scaler_rus.named_steps['xgb'].classes_)\n",
    "disp.plot()\n",
    "df = pd.DataFrame(pipe_scaler_rus.named_steps['xgb'].feature_importances_, index=X_test_rus.columns, \n",
    "                  columns=[\"XGB %-importance\"])\n",
    "print(df.sort_values(\"XGB %-importance\", axis=0, ascending=False))\n",
    "# \n",
    "data = [ID, 'XGB - Standard - UnderSample', (p_start - start), (p_end - p_start), cm[1,0], cm[0,1], cm.sum()]\n",
    "#         \n",
    "for key, data in zip(keys,data):\n",
    "    prediction_info[key].append(data)\n",
    "#\n",
    "end = timer()\n",
    "print('\\n')\n",
    "print(f'{(end - start)} Sec elapsed.')"
   ]
  },
  {
   "cell_type": "markdown",
   "id": "soviet-electricity",
   "metadata": {},
   "source": [
    "#### XGB Classifier Model with Norml Under-Sampled Dataset"
   ]
  },
  {
   "cell_type": "code",
   "execution_count": 23,
   "id": "gorgeous-experiment",
   "metadata": {},
   "outputs": [
    {
     "name": "stdout",
     "output_type": "stream",
     "text": [
      "\n",
      "\n",
      "              precision    recall  f1-score   support\n",
      "\n",
      "           0       1.00      1.00      1.00      2053\n",
      "           1       1.00      1.00      1.00      2054\n",
      "\n",
      "    accuracy                           1.00      4107\n",
      "   macro avg       1.00      1.00      1.00      4107\n",
      "weighted avg       1.00      1.00      1.00      4107\n",
      "\n",
      "[('normal', MinMaxScaler()), ('xgb', XGBClassifier(base_score=0.5, booster='gbtree', colsample_bylevel=1,\n",
      "              colsample_bynode=1, colsample_bytree=1, eval_metric='auc',\n",
      "              gamma=0, gpu_id=-1, importance_type='gain',\n",
      "              interaction_constraints='', learning_rate=0.300000012,\n",
      "              max_delta_step=0, max_depth=6, min_child_weight=1, missing=nan,\n",
      "              monotone_constraints='()', n_estimators=100, n_jobs=-1,\n",
      "              num_parallel_tree=1, random_state=11, reg_alpha=0, reg_lambda=1,\n",
      "              scale_pos_weight=1, subsample=1, tree_method='exact',\n",
      "              use_label_encoder=False, validate_parameters=1, verbosity=None))]\n",
      "\n",
      "\n",
      "                    XGB %-importance\n",
      "newbalanceOrig              0.515691\n",
      "diffBalanceOrig             0.436455\n",
      "amount                      0.021622\n",
      "diffBalanceDest             0.007836\n",
      "transType_PAYMENT           0.003681\n",
      "oldbalanceOrig              0.003025\n",
      "transType_CASH_OUT          0.002725\n",
      "oldbalanceDest              0.002711\n",
      "transType_TRANSFER          0.002606\n",
      "step                        0.002040\n",
      "newbalanceDest              0.001607\n",
      "transType_DEBIT             0.000000\n",
      "nameDest_M                  0.000000\n",
      "\n",
      "\n",
      "0.4181368989999328 Sec elapsed.\n"
     ]
    },
    {
     "data": {
      "image/png": "[encoded data removed]",
      "text/plain": [
       "<Figure size 432x288 with 2 Axes>"
      ]
     },
     "metadata": {
      "needs_background": "light"
     },
     "output_type": "display_data"
    }
   ],
   "source": [
    "start = timer()\n",
    "#Train the model using the training sets\n",
    "pipe_normal_rus.fit(X_train_rus,y_train_rus)\n",
    "# \n",
    "p_start = timer()\n",
    "y_predXGB = pipe_normal_rus.predict(X_test_rus)\n",
    "p_end = timer()\n",
    "print('\\n')\n",
    "print(classification_report(y_test_rus, y_predXGB))\n",
    "print(xgb_normal_rus)\n",
    "print('\\n')\n",
    "cm = confusion_matrix(y_test_rus, y_predXGB)\n",
    "disp = ConfusionMatrixDisplay(confusion_matrix=cm, \n",
    "                              display_labels=pipe_normal_rus.named_steps['xgb'].classes_)\n",
    "disp.plot()\n",
    "df = pd.DataFrame(pipe_normal_rus.named_steps['xgb'].feature_importances_, index=X_test_rus.columns, \n",
    "                  columns=[\"XGB %-importance\"])\n",
    "print(df.sort_values(\"XGB %-importance\", axis=0, ascending=False))\n",
    "# \n",
    "data = [ID, 'XGB - Normalize - UnderSample', (p_start - start), (p_end - p_start), cm[1,0], cm[0,1], cm.sum()]\n",
    "#         \n",
    "for key, data in zip(keys,data):\n",
    "    prediction_info[key].append(data)\n",
    "# \n",
    "end = timer()\n",
    "print('\\n')\n",
    "print(f'{(end - start)} Sec elapsed.')"
   ]
  },
  {
   "cell_type": "markdown",
   "id": "comparative-allowance",
   "metadata": {},
   "source": [
    "#### XGB Classifier Model with Non-Standarized Under Sampled Dataset"
   ]
  },
  {
   "cell_type": "code",
   "execution_count": 24,
   "id": "designed-butler",
   "metadata": {},
   "outputs": [
    {
     "name": "stdout",
     "output_type": "stream",
     "text": [
      "\n",
      "\n",
      "              precision    recall  f1-score   support\n",
      "\n",
      "           0       1.00      1.00      1.00      2053\n",
      "           1       1.00      1.00      1.00      2054\n",
      "\n",
      "    accuracy                           1.00      4107\n",
      "   macro avg       1.00      1.00      1.00      4107\n",
      "weighted avg       1.00      1.00      1.00      4107\n",
      "\n",
      "XGBClassifier(base_score=0.5, booster='gbtree', colsample_bylevel=1,\n",
      "              colsample_bynode=1, colsample_bytree=1, eval_metric='auc',\n",
      "              gamma=0, gpu_id=-1, importance_type='gain',\n",
      "              interaction_constraints='', learning_rate=0.300000012,\n",
      "              max_delta_step=0, max_depth=6, min_child_weight=1, missing=nan,\n",
      "              monotone_constraints='()', n_estimators=100, n_jobs=-1,\n",
      "              num_parallel_tree=1, random_state=11, reg_alpha=0, reg_lambda=1,\n",
      "              scale_pos_weight=1, subsample=1, tree_method='exact',\n",
      "              use_label_encoder=False, validate_parameters=1, verbosity=None)\n",
      "\n",
      "\n",
      "                    XGB %-importance\n",
      "diffBalanceOrig             0.520388\n",
      "newbalanceOrig              0.433800\n",
      "amount                      0.019385\n",
      "diffBalanceDest             0.006960\n",
      "transType_PAYMENT           0.005159\n",
      "transType_CASH_OUT          0.002818\n",
      "oldbalanceOrig              0.002814\n",
      "transType_TRANSFER          0.002450\n",
      "oldbalanceDest              0.002321\n",
      "step                        0.002004\n",
      "newbalanceDest              0.001900\n",
      "transType_DEBIT             0.000000\n",
      "nameDest_M                  0.000000\n",
      "\n",
      "\n",
      "0.4205022469999449 Sec elapsed.\n"
     ]
    },
    {
     "data": {
      "image/png": "[encoded data removed]",
      "text/plain": [
       "<Figure size 432x288 with 2 Axes>"
      ]
     },
     "metadata": {
      "needs_background": "light"
     },
     "output_type": "display_data"
    }
   ],
   "source": [
    "start = timer()\n",
    "# Standard XGB Model\n",
    "xgb_rus_ns = XGBClassifier(**params_xgb)\n",
    "# \n",
    "s_start = timer()\n",
    "#Train the model using the training sets\n",
    "xgb_rus_ns.fit(X_train_rus,y_train_rus)\n",
    "# \n",
    "p_start = timer()\n",
    "y_predXGB_ns = xgb_rus_ns.predict(X_test_rus)\n",
    "p_end = timer()\n",
    "print('\\n')\n",
    "print(classification_report(y_test_rus, y_predXGB_ns))\n",
    "print(xgb_rus_ns)\n",
    "print('\\n')\n",
    "cm = (confusion_matrix(y_test_rus, y_predXGB_ns))\n",
    "disp = ConfusionMatrixDisplay(confusion_matrix=cm, display_labels=xgb_rus_ns.classes_)\n",
    "disp.plot()\n",
    "df = pd.DataFrame(xgb_rus_ns.feature_importances_, index=X_test_rus.columns, columns=[\"XGB %-importance\"])\n",
    "print(df.sort_values(\"XGB %-importance\", axis=0, ascending=False))\n",
    "# \n",
    "data = [ID, 'XGB - NonStandard - UnderSample', (p_start - s_start), (p_end - p_start), cm[1,0], cm[0,1], cm.sum()]\n",
    "#         \n",
    "for key, data in zip(keys,data):\n",
    "    prediction_info[key].append(data)\n",
    "# \n",
    "end = timer()\n",
    "print('\\n')\n",
    "print(f'{(end - start)} Sec elapsed.')"
   ]
  },
  {
   "cell_type": "markdown",
   "id": "opponent-danish",
   "metadata": {},
   "source": [
    "#### XGB Classifier Model with Non Standarized Full sample Data"
   ]
  },
  {
   "cell_type": "code",
   "execution_count": 25,
   "id": "celtic-reservation",
   "metadata": {},
   "outputs": [
    {
     "name": "stdout",
     "output_type": "stream",
     "text": [
      "\n",
      "\n",
      "              precision    recall  f1-score   support\n",
      "\n",
      "           0       1.00      1.00      1.00   1588602\n",
      "           1       1.00      1.00      1.00      2053\n",
      "\n",
      "    accuracy                           1.00   1590655\n",
      "   macro avg       1.00      1.00      1.00   1590655\n",
      "weighted avg       1.00      1.00      1.00   1590655\n",
      "\n",
      "XGBClassifier(base_score=0.5, booster='gbtree', colsample_bylevel=1,\n",
      "              colsample_bynode=1, colsample_bytree=1, eval_metric='auc',\n",
      "              gamma=0, gpu_id=-1, importance_type='gain',\n",
      "              interaction_constraints='', learning_rate=0.300000012,\n",
      "              max_delta_step=0, max_depth=6, min_child_weight=1, missing=nan,\n",
      "              monotone_constraints='()', n_estimators=100, n_jobs=-1,\n",
      "              num_parallel_tree=1, random_state=11, reg_alpha=0, reg_lambda=1,\n",
      "              scale_pos_weight=1, subsample=1, tree_method='approx',\n",
      "              use_label_encoder=False, validate_parameters=1, verbosity=None)\n",
      "\n",
      "\n",
      "                    XGB %-importance\n",
      "transType_PAYMENT           0.293373\n",
      "newbalanceOrig              0.261016\n",
      "transType_TRANSFER          0.147129\n",
      "amount                      0.116211\n",
      "diffBalanceOrig             0.073724\n",
      "transType_DEBIT             0.031283\n",
      "diffBalanceDest             0.030775\n",
      "transType_CASH_OUT          0.018490\n",
      "step                        0.011412\n",
      "newbalanceDest              0.007773\n",
      "oldbalanceOrig              0.005295\n",
      "oldbalanceDest              0.003518\n",
      "nameDest_M                  0.000000\n",
      "\n",
      "\n",
      "3.61088585925 Min elapsed.\n"
     ]
    },
    {
     "data": {
      "image/png": "[encoded data removed]",
      "text/plain": [
       "<Figure size 432x288 with 2 Axes>"
      ]
     },
     "metadata": {
      "needs_background": "light"
     },
     "output_type": "display_data"
    }
   ],
   "source": [
    "start = timer()\n",
    "# Standard XGB Model\n",
    "xgb_nsf = XGBClassifier(**params_xgb)\n",
    "#Train the model using the training sets\n",
    "s_start = timer()\n",
    "xgb_nsf.fit(X_train_nsf,y_train_nsf)\n",
    "# \n",
    "p_start = timer()\n",
    "y_predXGB_nsf = xgb_nsf.predict(X_test_nsf)\n",
    "p_end = timer()\n",
    "print('\\n')\n",
    "print(classification_report(y_test_nsf, y_predXGB_nsf))\n",
    "print(xgb_nsf)\n",
    "print('\\n')\n",
    "cm = confusion_matrix(y_test_nsf, y_predXGB_nsf)\n",
    "disp = ConfusionMatrixDisplay(confusion_matrix=cm, display_labels=xgb_nsf.classes_)\n",
    "disp.plot()\n",
    "df = pd.DataFrame(xgb_nsf.feature_importances_, index=X_test_nsf.columns, columns=[\"XGB %-importance\"])\n",
    "print(df.sort_values(\"XGB %-importance\", axis=0, ascending=False))\n",
    "#  \n",
    "data = [ID, 'XGB - NonStandard - Full', (p_start - s_start), (p_end - p_start), cm[1,0], cm[0,1], cm.sum()]\n",
    "#         \n",
    "for key, data in zip(keys,data):\n",
    "    prediction_info[key].append(data)\n",
    "# \n",
    "end = timer()\n",
    "print('\\n')\n",
    "print(f'{(end - start)/60} Min elapsed.')"
   ]
  },
  {
   "cell_type": "markdown",
   "id": "forbidden-postcard",
   "metadata": {},
   "source": [
    "#### XGB Classifier Model with NON-Standarized SMOTE Dataset"
   ]
  },
  {
   "cell_type": "code",
   "execution_count": 26,
   "id": "moderate-functionality",
   "metadata": {},
   "outputs": [
    {
     "name": "stdout",
     "output_type": "stream",
     "text": [
      "\n",
      "\n",
      "              precision    recall  f1-score   support\n",
      "\n",
      "           0       1.00      1.00      1.00   1588602\n",
      "           1       1.00      1.00      1.00   1588602\n",
      "\n",
      "    accuracy                           1.00   3177204\n",
      "   macro avg       1.00      1.00      1.00   3177204\n",
      "weighted avg       1.00      1.00      1.00   3177204\n",
      "\n",
      "XGBClassifier(base_score=0.5, booster='gbtree', colsample_bylevel=1,\n",
      "              colsample_bynode=1, colsample_bytree=1, eval_metric='auc',\n",
      "              gamma=0, gpu_id=-1, importance_type='gain',\n",
      "              interaction_constraints='', learning_rate=0.300000012,\n",
      "              max_delta_step=0, max_depth=6, min_child_weight=1, missing=nan,\n",
      "              monotone_constraints='()', n_estimators=100, n_jobs=-1,\n",
      "              num_parallel_tree=1, random_state=11, reg_alpha=0, reg_lambda=1,\n",
      "              scale_pos_weight=1, subsample=1, tree_method='approx',\n",
      "              use_label_encoder=False, validate_parameters=1, verbosity=None)\n",
      "\n",
      "\n",
      "                    XGB %-importance\n",
      "newbalanceOrig              0.590537\n",
      "diffBalanceOrig             0.306728\n",
      "transType_PAYMENT           0.072771\n",
      "amount                      0.015316\n",
      "diffBalanceDest             0.003270\n",
      "transType_DEBIT             0.002631\n",
      "transType_TRANSFER          0.002446\n",
      "transType_CASH_OUT          0.001853\n",
      "oldbalanceOrig              0.001562\n",
      "oldbalanceDest              0.001168\n",
      "step                        0.000938\n",
      "newbalanceDest              0.000779\n",
      "nameDest_M                  0.000000\n",
      "\n",
      "\n",
      "10.534571870633334 Min elapsed.\n"
     ]
    },
    {
     "data": {
      "image/png": "[encoded data removed]",
      "text/plain": [
       "<Figure size 432x288 with 2 Axes>"
      ]
     },
     "metadata": {
      "needs_background": "light"
     },
     "output_type": "display_data"
    }
   ],
   "source": [
    "start = timer()\n",
    "# Standard XGB Model\n",
    "xgb_ = XGBClassifier(**params_xgb)\n",
    "s_start = timer()\n",
    "#Train the model using the training sets\n",
    "xgb_.fit(X_train_nso,y_train_nso)\n",
    "# \n",
    "p_start = timer()\n",
    "y_predXGB_nso = xgb_.predict(X_test_nso)\n",
    "p_end = timer()\n",
    "print('\\n')\n",
    "print(classification_report(y_test_nso, y_predXGB_nso))\n",
    "print(xgb_)\n",
    "print('\\n')\n",
    "cm = confusion_matrix(y_test_nso, y_predXGB_nso)\n",
    "disp = ConfusionMatrixDisplay(confusion_matrix=cm, display_labels=xgb_.classes_)\n",
    "disp.plot()\n",
    "df = pd.DataFrame(xgb_.feature_importances_, index=X_test_nso.columns, columns=[\"XGB %-importance\"])\n",
    "print(df.sort_values(\"XGB %-importance\", axis=0, ascending=False))\n",
    "#  \n",
    "data = [ID, 'XGB - NonStandard - OverSample', (p_start - s_start), (p_end - p_start), cm[1,0], cm[0,1], cm.sum()]\n",
    "#         \n",
    "for key, data in zip(keys,data):\n",
    "    prediction_info[key].append(data)\n",
    "#\n",
    "end = timer()\n",
    "print('\\n')\n",
    "print(f'{(end - start)/60} Min elapsed.')"
   ]
  },
  {
   "cell_type": "markdown",
   "id": "traditional-insured",
   "metadata": {},
   "source": [
    "#### XGB GridSearchCV with StratifiedKFold & Standarized Under Sampled Dataset"
   ]
  },
  {
   "cell_type": "code",
   "execution_count": 27,
   "id": "republican-favorite",
   "metadata": {},
   "outputs": [
    {
     "name": "stdout",
     "output_type": "stream",
     "text": [
      "              precision    recall  f1-score   support\n",
      "\n",
      "           0       1.00      1.00      1.00      2053\n",
      "           1       1.00      1.00      1.00      2054\n",
      "\n",
      "    accuracy                           1.00      4107\n",
      "   macro avg       1.00      1.00      1.00      4107\n",
      "weighted avg       1.00      1.00      1.00      4107\n",
      "\n",
      "                    XGB %-importance\n",
      "newbalanceOrig              0.597151\n",
      "diffBalanceOrig             0.362766\n",
      "amount                      0.016556\n",
      "transType_PAYMENT           0.007228\n",
      "diffBalanceDest             0.006720\n",
      "oldbalanceDest              0.001950\n",
      "transType_TRANSFER          0.001751\n",
      "oldbalanceOrig              0.001675\n",
      "step                        0.001657\n",
      "transType_CASH_OUT          0.001350\n",
      "newbalanceDest              0.001195\n",
      "transType_DEBIT             0.000000\n",
      "nameDest_M                  0.000000\n",
      "\n",
      "\n",
      "XGBClassifier(base_score=0.5, booster='gbtree', colsample_bylevel=1,\n",
      "              colsample_bynode=1, colsample_bytree=1, eval_metric='auc',\n",
      "              gamma=0, gpu_id=-1, importance_type='gain',\n",
      "              interaction_constraints='', learning_rate=0.300000012,\n",
      "              max_delta_step=0, max_depth=6, min_child_weight=1, missing=nan,\n",
      "              monotone_constraints='()', n_estimators=340, n_jobs=-1,\n",
      "              num_parallel_tree=1, random_state=11, reg_alpha=0, reg_lambda=1,\n",
      "              scale_pos_weight=1, subsample=1, tree_method='exact',\n",
      "              use_label_encoder=False, validate_parameters=1, verbosity=None)\n",
      "\n",
      "\n",
      "6.5485211840000375 Sec elapsed.\n"
     ]
    },
    {
     "data": {
      "image/png": "[encoded data removed]",
      "text/plain": [
       "<Figure size 432x288 with 2 Axes>"
      ]
     },
     "metadata": {
      "needs_background": "light"
     },
     "output_type": "display_data"
    }
   ],
   "source": [
    "start = timer()\n",
    "# \n",
    "from sklearn.model_selection import StratifiedKFold\n",
    "# \n",
    "n_folds = 3\n",
    "skf = StratifiedKFold(n_splits=n_folds, random_state=seed, shuffle=True)\n",
    "# \n",
    "params_grid = {\n",
    "    'n_estimators': range(340, 360, 5,),\n",
    "#     'learning_rate': [0.001, 0.01, 0.1, 0.2, 0.3, 0.5],\n",
    "}\n",
    "# create xgboost classifier\n",
    "xgb_cl1 = XGBClassifier(**params_xgb)\n",
    "# \n",
    "xgb_grid = GridSearchCV(estimator=xgb_cl1, param_grid=params_grid, \n",
    "                               cv=skf.split(X_train_rus, y_train_rus), scoring='f1')\n",
    "\n",
    "s_start = timer()\n",
    "#Train the model using the training sets\n",
    "xgb_grid.fit(X_train_rus,y_train_rus)\n",
    "# \n",
    "p_start = timer()\n",
    "y_predXGB1 = xgb_grid.predict(X_test_rus)\n",
    "p_end = timer()\n",
    "print(classification_report(y_test_rus, y_predXGB1))\n",
    "# Plot Confusion Matrix\n",
    "cm = confusion_matrix(y_test_rus, y_predXGB1)\n",
    "disp = ConfusionMatrixDisplay(confusion_matrix=cm, display_labels=xgb_grid.classes_)\n",
    "disp.plot()\n",
    "# \n",
    "df = pd.DataFrame(xgb_grid.best_estimator_.feature_importances_, index=X_test_rus.columns, columns=[\"XGB %-importance\"])\n",
    "print(df.sort_values(\"XGB %-importance\", axis=0, ascending=False))\n",
    "print('\\n')\n",
    "# \n",
    "print(xgb_grid.best_estimator_)\n",
    "#  \n",
    "data = [ID, 'XGB - Standard - UnderSample - StratifiedKFold Grid', (p_start - s_start), (p_end - p_start), \n",
    "        cm[1,0], cm[0,1], cm.sum()]\n",
    "#         \n",
    "for key, data in zip(keys,data):\n",
    "    prediction_info[key].append(data)\n",
    "#\n",
    "end = timer()\n",
    "print('\\n')\n",
    "print(f'{(end - start)} Sec elapsed.')"
   ]
  },
  {
   "cell_type": "markdown",
   "id": "extraordinary-entity",
   "metadata": {},
   "source": [
    "#### XGB GridSearchCV with StratifiedKFold & NON Standarized Under Sampled Dataset"
   ]
  },
  {
   "cell_type": "code",
   "execution_count": 28,
   "id": "large-geneva",
   "metadata": {},
   "outputs": [
    {
     "name": "stdout",
     "output_type": "stream",
     "text": [
      "              precision    recall  f1-score   support\n",
      "\n",
      "           0       1.00      1.00      1.00      2053\n",
      "           1       1.00      1.00      1.00      2054\n",
      "\n",
      "    accuracy                           1.00      4107\n",
      "   macro avg       1.00      1.00      1.00      4107\n",
      "weighted avg       1.00      1.00      1.00      4107\n",
      "\n",
      "                    XGB %-importance\n",
      "newbalanceOrig              0.597151\n",
      "diffBalanceOrig             0.362766\n",
      "amount                      0.016556\n",
      "transType_PAYMENT           0.007228\n",
      "diffBalanceDest             0.006720\n",
      "oldbalanceDest              0.001950\n",
      "transType_TRANSFER          0.001751\n",
      "oldbalanceOrig              0.001675\n",
      "step                        0.001657\n",
      "transType_CASH_OUT          0.001350\n",
      "newbalanceDest              0.001195\n",
      "transType_DEBIT             0.000000\n",
      "nameDest_M                  0.000000\n",
      "\n",
      "\n",
      "XGBClassifier(base_score=0.5, booster='gbtree', colsample_bylevel=1,\n",
      "              colsample_bynode=1, colsample_bytree=1, eval_metric='auc',\n",
      "              gamma=0, gpu_id=-1, importance_type='gain',\n",
      "              interaction_constraints='', learning_rate=0.300000012,\n",
      "              max_delta_step=0, max_depth=6, min_child_weight=1, missing=nan,\n",
      "              monotone_constraints='()', n_estimators=340, n_jobs=-1,\n",
      "              num_parallel_tree=1, random_state=11, reg_alpha=0, reg_lambda=1,\n",
      "              scale_pos_weight=1, subsample=1, tree_method='exact',\n",
      "              use_label_encoder=False, validate_parameters=1, verbosity=None)\n",
      "\n",
      "\n",
      "5.189117697000029 Sec elapsed.\n"
     ]
    },
    {
     "data": {
      "image/png": "[encoded data removed]",
      "text/plain": [
       "<Figure size 432x288 with 2 Axes>"
      ]
     },
     "metadata": {
      "needs_background": "light"
     },
     "output_type": "display_data"
    }
   ],
   "source": [
    "# from xgboost import XGBClassifier\n",
    "# from sklearn.model_selection import StratifiedKFold\n",
    "# Non Standarized Dataset\n",
    "start = timer()\n",
    "# \n",
    "n_folds = 3\n",
    "skf = StratifiedKFold(n_splits=n_folds, random_state=seed, shuffle=True)\n",
    "# \n",
    "params_grid = {\n",
    "# 'n_estimators': range(340, 360, 5,),\n",
    "'n_estimators': [200, 340, 500],\n",
    "# 'learning_rate': [0.1, 0.2, 0.3, 0.5, 0.6],\n",
    "}\n",
    "# create xgboost classifier\n",
    "xgb_cl2 = XGBClassifier(**params_xgb)\n",
    "# \n",
    "xgb_grid2 = GridSearchCV(estimator=xgb_cl2, param_grid=params_grid, \n",
    "                               cv=skf.split(X_train_rus, y_train_rus), scoring='f1')\n",
    "# \n",
    "s_start = timer()\n",
    "#Train the model using the training sets\n",
    "xgb_grid2.fit(X_train_rus,y_train_rus)\n",
    "# \n",
    "p_start = timer()\n",
    "y_predXGB2 = xgb_grid2.predict(X_test_rus)\n",
    "p_end = timer()\n",
    "print(classification_report(y_test_rus, y_predXGB2))\n",
    "# Plot Confusion Matrix\n",
    "cm = confusion_matrix(y_test_rus, y_predXGB2)\n",
    "disp = ConfusionMatrixDisplay(cm, display_labels=xgb_grid2.classes_)\n",
    "disp.plot()\n",
    "# \n",
    "df = pd.DataFrame(xgb_grid2.best_estimator_.feature_importances_, \n",
    "                  index=X_test_rus.columns, columns=[\"XGB %-importance\"])\n",
    "print(df.sort_values(\"XGB %-importance\", axis=0, ascending=False))\n",
    "print('\\n')\n",
    "# \n",
    "print(xgb_grid2.best_estimator_)\n",
    "print('\\n')\n",
    "#  \n",
    "data = [ID, 'XGB - NonStandard - UnderSample - StratifiedKFold Grid', (p_start - s_start), (p_end - p_start), \n",
    "        cm[1,0], cm[0,1], cm.sum()]\n",
    "#          \n",
    "for key, data in zip(keys,data):\n",
    "    prediction_info[key].append(data)\n",
    "#\n",
    "end = timer()\n",
    "print(f'{(end - start)} Sec elapsed.')"
   ]
  },
  {
   "cell_type": "markdown",
   "id": "planned-morris",
   "metadata": {},
   "source": [
    "# LGBM Classifier"
   ]
  },
  {
   "cell_type": "markdown",
   "id": "quick-modem",
   "metadata": {},
   "source": [
    "#### LGBM Classifier Model Pipeline"
   ]
  },
  {
   "cell_type": "code",
   "execution_count": 29,
   "id": "protecting-parts",
   "metadata": {},
   "outputs": [],
   "source": [
    "# For prediction_info\n",
    "ID = 'LGBM'\n",
    "# Pipeline\n",
    "params_lgbm = {\n",
    "    'num_threads' : (8),\n",
    "    'n_jobs' : (-1),\n",
    "    'random_state' : seed,\n",
    "}\n",
    "# \n",
    "lgbm_scaler_rus = [('scaler', StandardScaler()), ('lgbm', LGBMClassifier(**params_lgbm))]\n",
    "lgbm_normal_rus = [('normal', MinMaxScaler()), ('lgbm', LGBMClassifier(**params_lgbm))]\n",
    "lgbm_scaler_nso = [('scaler', StandardScaler()), ('lgbm', LGBMClassifier(**params_lgbm))]\n",
    "lgbm_normal_nsf = [('normal', MinMaxScaler()), ('lgbm', LGBMClassifier(**params_lgbm))]\n",
    "# under sample\n",
    "pipe_scaler_rus = Pipeline(lgbm_scaler_rus)\n",
    "pipe_normal_rus = Pipeline(lgbm_normal_rus)\n",
    "# Over sample (SMOTE)\n",
    "pipe_nso = Pipeline(lgbm_scaler_nso)\n",
    "# Full\n",
    "pipe_nsf = Pipeline(lgbm_normal_nsf)"
   ]
  },
  {
   "cell_type": "markdown",
   "id": "internal-straight",
   "metadata": {},
   "source": [
    "#### LGBM Classifier with Scaler Under-Sampled Dataset"
   ]
  },
  {
   "cell_type": "code",
   "execution_count": 30,
   "id": "dietary-brown",
   "metadata": {},
   "outputs": [
    {
     "name": "stdout",
     "output_type": "stream",
     "text": [
      "[LightGBM] [Warning] num_threads is set=8, n_jobs=-1 will be ignored. Current value: num_threads=8\n",
      "              precision    recall  f1-score   support\n",
      "\n",
      "           0       1.00      1.00      1.00      2053\n",
      "           1       1.00      1.00      1.00      2054\n",
      "\n",
      "    accuracy                           1.00      4107\n",
      "   macro avg       1.00      1.00      1.00      4107\n",
      "weighted avg       1.00      1.00      1.00      4107\n",
      "\n",
      "Pipeline(steps=[('scaler', StandardScaler()),\n",
      "                ('lgbm', LGBMClassifier(num_threads=8, random_state=11))])\n",
      "\n",
      "\n",
      "0.14185775400005696 Sec elapsed.\n"
     ]
    },
    {
     "data": {
      "image/png": "[encoded data removed]",
      "text/plain": [
       "<Figure size 432x288 with 2 Axes>"
      ]
     },
     "metadata": {
      "needs_background": "light"
     },
     "output_type": "display_data"
    }
   ],
   "source": [
    "# \n",
    "start = timer()\n",
    "#Train the model using the training sets\n",
    "pipe_scaler_rus.fit(X_train_rus, y_train_rus)\n",
    "# \n",
    "p_start = timer()\n",
    "y_predLGB = pipe_scaler_rus.predict(X_test_rus)\n",
    "p_end = timer()\n",
    "# \n",
    "print(classification_report(y_test_rus, y_predLGB))\n",
    "cm = confusion_matrix(y_test_rus, y_predLGB)\n",
    "disp = ConfusionMatrixDisplay(confusion_matrix=cm, \n",
    "                              display_labels=pipe_scaler_rus.named_steps['lgbm'].classes_)\n",
    "disp.plot()\n",
    "# \n",
    "print(pipe_scaler_rus)\n",
    "print('\\n')\n",
    "#  \n",
    "data = [ID, 'LGBM - Standard - UnderSample', (p_start - p_start), (p_end - p_start), \n",
    "        cm[1,0], cm[0,1], cm.sum()]\n",
    "#          \n",
    "for key, data in zip(keys,data):\n",
    "    prediction_info[key].append(data)\n",
    "#\n",
    "end = timer()\n",
    "print(f'{(end - start)} Sec elapsed.')"
   ]
  },
  {
   "cell_type": "markdown",
   "id": "acceptable-danish",
   "metadata": {},
   "source": [
    "#### LGBM Classifier with Normalize Under-Sampled Dataset"
   ]
  },
  {
   "cell_type": "code",
   "execution_count": 31,
   "id": "assigned-ranking",
   "metadata": {},
   "outputs": [
    {
     "name": "stdout",
     "output_type": "stream",
     "text": [
      "[LightGBM] [Warning] num_threads is set=8, n_jobs=-1 will be ignored. Current value: num_threads=8\n",
      "              precision    recall  f1-score   support\n",
      "\n",
      "           0       1.00      1.00      1.00      2053\n",
      "           1       1.00      1.00      1.00      2054\n",
      "\n",
      "    accuracy                           1.00      4107\n",
      "   macro avg       1.00      1.00      1.00      4107\n",
      "weighted avg       1.00      1.00      1.00      4107\n",
      "\n",
      "Pipeline(steps=[('scaler', StandardScaler()),\n",
      "                ('lgbm', LGBMClassifier(num_threads=8, random_state=11))])\n",
      "\n",
      "\n",
      "0.12090512099985062 Sec elapsed.\n"
     ]
    },
    {
     "data": {
      "image/png": "[encoded data removed]",
      "text/plain": [
       "<Figure size 432x288 with 2 Axes>"
      ]
     },
     "metadata": {
      "needs_background": "light"
     },
     "output_type": "display_data"
    }
   ],
   "source": [
    "# \n",
    "start = timer()\n",
    "#Train the model using the training sets\n",
    "pipe_normal_rus.fit(X_train_rus, y_train_rus)\n",
    "# \n",
    "p_start = timer()\n",
    "y_predLGB = pipe_normal_rus.predict(X_test_rus)\n",
    "p_end = timer()\n",
    "# \n",
    "print(classification_report(y_test_rus, y_predLGB))\n",
    "# \n",
    "cm = confusion_matrix(y_test_rus, y_predLGB)\n",
    "disp = ConfusionMatrixDisplay(confusion_matrix=(confusion_matrix(y_test_rus, y_predLGB)), \n",
    "                              display_labels=pipe_normal_rus.named_steps['lgbm'].classes_)\n",
    "disp.plot()\n",
    "# \n",
    "print(pipe_scaler_rus)\n",
    "print('\\n')  \n",
    "data = [ID, 'LGBM - Normalize - UnderSample', (p_start - p_start), (p_end - p_start), \n",
    "        cm[1,0], cm[0,1], cm.sum()]\n",
    "#          \n",
    "for key, data in zip(keys,data):\n",
    "    prediction_info[key].append(data)\n",
    "#\n",
    "end = timer()\n",
    "print(f'{(end - start)} Sec elapsed.')"
   ]
  },
  {
   "cell_type": "markdown",
   "id": "infinite-render",
   "metadata": {},
   "source": [
    "#### LGBM Classifier with NON-Standarized Under-Sampled Dataset"
   ]
  },
  {
   "cell_type": "code",
   "execution_count": 32,
   "id": "apparent-wireless",
   "metadata": {},
   "outputs": [
    {
     "name": "stdout",
     "output_type": "stream",
     "text": [
      "[LightGBM] [Warning] num_threads is set=8, n_jobs=-1 will be ignored. Current value: num_threads=8\n",
      "              precision    recall  f1-score   support\n",
      "\n",
      "           0       1.00      1.00      1.00      2053\n",
      "           1       1.00      1.00      1.00      2054\n",
      "\n",
      "    accuracy                           1.00      4107\n",
      "   macro avg       1.00      1.00      1.00      4107\n",
      "weighted avg       1.00      1.00      1.00      4107\n",
      "\n",
      "LGBMClassifier(num_threads=8, random_state=11)\n",
      "\n",
      "\n",
      "0.12543985399997837 Sec elapsed.\n"
     ]
    },
    {
     "data": {
      "image/png": "[encoded data removed]",
      "text/plain": [
       "<Figure size 432x288 with 2 Axes>"
      ]
     },
     "metadata": {
      "needs_background": "light"
     },
     "output_type": "display_data"
    }
   ],
   "source": [
    "# from lightgbm import LGBMClassifier\n",
    "start = timer()\n",
    "# Define model\n",
    "lgb_ns = LGBMClassifier(**params_lgbm)\n",
    "# \n",
    "s_start = timer()\n",
    "#Train the model using the training sets\n",
    "lgb_ns.fit(X_train_rus,y_train_rus)\n",
    "# \n",
    "p_start = timer()\n",
    "y_predLGB_ns=lgb_ns.predict(X_test_rus)\n",
    "p_end = timer()\n",
    "# \n",
    "print(classification_report(y_test_rus, y_predLGB_ns))\n",
    "# \n",
    "cm = confusion_matrix(y_test_rus, y_predLGB_ns)\n",
    "disp = ConfusionMatrixDisplay(confusion_matrix=cm, display_labels=lgb_ns.classes_)\n",
    "disp.plot()\n",
    "# \n",
    "print(lgb_ns)\n",
    "print('\\n')\n",
    "# \n",
    "data = [ID, 'LGBM - NonStandard - UnderSample', (p_start - s_start), (p_end - p_start), \n",
    "        cm[1,0], cm[0,1], cm.sum()]\n",
    "#          \n",
    "for key, data in zip(keys,data):\n",
    "    prediction_info[key].append(data)\n",
    "#\n",
    "end = timer()\n",
    "print(f'{(end - start)} Sec elapsed.')"
   ]
  },
  {
   "cell_type": "markdown",
   "id": "black-meaning",
   "metadata": {},
   "source": [
    "#### LGBM Classifier with NON-Standarized Full Dataset"
   ]
  },
  {
   "cell_type": "code",
   "execution_count": 33,
   "id": "nervous-cookie",
   "metadata": {},
   "outputs": [
    {
     "name": "stdout",
     "output_type": "stream",
     "text": [
      "[LightGBM] [Warning] num_threads is set=8, n_jobs=-1 will be ignored. Current value: num_threads=8\n",
      "              precision    recall  f1-score   support\n",
      "\n",
      "           0       1.00      1.00      1.00   1588602\n",
      "           1       0.03      0.05      0.03      2053\n",
      "\n",
      "    accuracy                           1.00   1590655\n",
      "   macro avg       0.51      0.52      0.52   1590655\n",
      "weighted avg       1.00      1.00      1.00   1590655\n",
      "\n",
      "LGBMClassifier(num_threads=8, random_state=11)\n",
      "\n",
      "\n",
      "12.26413708899986 Sec elapsed.\n"
     ]
    },
    {
     "data": {
      "image/png": "[encoded data removed]",
      "text/plain": [
       "<Figure size 432x288 with 2 Axes>"
      ]
     },
     "metadata": {
      "needs_background": "light"
     },
     "output_type": "display_data"
    }
   ],
   "source": [
    "# from lightgbm import LGBMClassifier\n",
    "start = timer()\n",
    "# Define model\n",
    "lgb_nsf = LGBMClassifier(**params_lgbm)\n",
    "# \n",
    "s_start = timer()\n",
    "#Train the model using the training sets\n",
    "lgb_nsf.fit(X_train_nsf,y_train_nsf)\n",
    "# \n",
    "p_start = timer()\n",
    "y_predLGB_nsf = lgb_nsf.predict(X_test_nsf)\n",
    "p_end = timer()\n",
    "# \n",
    "print(classification_report(y_test_nsf, y_predLGB_nsf))\n",
    "cm = confusion_matrix(y_test_nsf, y_predLGB_nsf)\n",
    "disp = ConfusionMatrixDisplay(confusion_matrix=cm, display_labels=lgb_nsf.classes_)\n",
    "disp.plot()\n",
    "# \n",
    "print(lgb_nsf)\n",
    "print('\\n')\n",
    "# \n",
    "data = [ID, 'LGBM - NonStandard - Full', (p_start - s_start), (p_end - p_start), \n",
    "        cm[1,0], cm[0,1], cm.sum()]\n",
    "#          \n",
    "for key, data in zip(keys,data):\n",
    "    prediction_info[key].append(data)\n",
    "#\n",
    "end = timer()\n",
    "print(f'{(end - start)} Sec elapsed.')"
   ]
  },
  {
   "cell_type": "markdown",
   "id": "republican-company",
   "metadata": {},
   "source": [
    "#### LGBM Classifier with NON-Standarized SMOTE Dataset"
   ]
  },
  {
   "cell_type": "code",
   "execution_count": 34,
   "id": "practical-biodiversity",
   "metadata": {},
   "outputs": [
    {
     "name": "stdout",
     "output_type": "stream",
     "text": [
      "[LightGBM] [Warning] num_threads is set=8, n_jobs=-1 will be ignored. Current value: num_threads=8\n",
      "              precision    recall  f1-score   support\n",
      "\n",
      "           0       1.00      1.00      1.00   1588602\n",
      "           1       1.00      1.00      1.00   1588602\n",
      "\n",
      "    accuracy                           1.00   3177204\n",
      "   macro avg       1.00      1.00      1.00   3177204\n",
      "weighted avg       1.00      1.00      1.00   3177204\n",
      "\n",
      "LGBMClassifier(num_threads=8, random_state=11)\n",
      "\n",
      "\n",
      "29.086973366999928 Sec elapsed.\n"
     ]
    },
    {
     "data": {
      "image/png": "[encoded data removed]",
      "text/plain": [
       "<Figure size 432x288 with 2 Axes>"
      ]
     },
     "metadata": {
      "needs_background": "light"
     },
     "output_type": "display_data"
    }
   ],
   "source": [
    "# from lightgbm import LGBMClassifier\n",
    "start = timer()\n",
    "# Define model\n",
    "lgb_nso = LGBMClassifier(**params_lgbm)\n",
    "# \n",
    "s_start = timer()\n",
    "#Train the model using the training sets\n",
    "lgb_nso.fit(X_train_nso,y_train_nso)\n",
    "# \n",
    "p_start = timer()\n",
    "y_predLGB_nso = lgb_nso.predict(X_test_nso)\n",
    "p_end = timer()\n",
    "# \n",
    "print(classification_report(y_test_nso, y_predLGB_nso))\n",
    "cm = confusion_matrix(y_test_nso, y_predLGB_nso)\n",
    "disp = ConfusionMatrixDisplay(confusion_matrix=cm, display_labels=lgb_nso.classes_)\n",
    "disp.plot()\n",
    "# \n",
    "print(lgb_nso)\n",
    "print('\\n')\n",
    "# \n",
    "data = [ID, 'LGBM - NonStandard - OverSample', (p_start - s_start), (p_end - p_start), \n",
    "        cm[1,0], cm[0,1], cm.sum()]\n",
    "#          \n",
    "for key, data in zip(keys,data):\n",
    "    prediction_info[key].append(data)\n",
    "#\n",
    "end = timer()\n",
    "print(f'{(end - start)} Sec elapsed.')"
   ]
  },
  {
   "cell_type": "markdown",
   "id": "proof-warning",
   "metadata": {},
   "source": [
    "# Support Vector Machine"
   ]
  },
  {
   "cell_type": "markdown",
   "id": "congressional-audit",
   "metadata": {},
   "source": [
    "#### SVM Classifier Model Pipeline"
   ]
  },
  {
   "cell_type": "code",
   "execution_count": 35,
   "id": "rolled-mention",
   "metadata": {},
   "outputs": [],
   "source": [
    "# For prediction_info\n",
    "ID = 'SVM'\n",
    "# Pipeline\n",
    "params_svc = {\n",
    "    'gamma' : 'auto',\n",
    "#     'gamma' : 'scale',\n",
    "    'probability' : True,\n",
    "    'random_state' : seed,\n",
    "}\n",
    "# \n",
    "svc_scaler_rus = [('scaler', StandardScaler()), ('svm', svm.SVC(**params_svc))]\n",
    "svc_normal_rus = [('normal', MinMaxScaler()), ('svm', svm.SVC(**params_svc))]\n",
    "svc_scaler_nso = [('scaler', StandardScaler()), ('svm', svm.SVC(**params_svc))]\n",
    "svc_normal_nsf = [('normal', MinMaxScaler()), ('svm', svm.SVC(**params_svc))]\n",
    "# under sample\n",
    "pipe_scaler_rus = Pipeline(svc_scaler_rus)\n",
    "pipe_normal_rus = Pipeline(svc_normal_rus)\n",
    "# Over sample (SMOTE)\n",
    "pipe_nso = Pipeline(svc_scaler_nso)\n",
    "# Full\n",
    "pipe_nsf = Pipeline(svc_normal_nsf)"
   ]
  },
  {
   "cell_type": "markdown",
   "id": "specified-transaction",
   "metadata": {},
   "source": [
    "#### Support Vector Machine Classifier with Scaler Under-Sampled Dataset"
   ]
  },
  {
   "cell_type": "code",
   "execution_count": 36,
   "id": "combined-weight",
   "metadata": {},
   "outputs": [
    {
     "name": "stdout",
     "output_type": "stream",
     "text": [
      "              precision    recall  f1-score   support\n",
      "\n",
      "           0       0.99      0.92      0.95      2053\n",
      "           1       0.92      0.99      0.95      2054\n",
      "\n",
      "    accuracy                           0.95      4107\n",
      "   macro avg       0.95      0.95      0.95      4107\n",
      "weighted avg       0.95      0.95      0.95      4107\n",
      "\n",
      "Pipeline(steps=[('scaler', StandardScaler()),\n",
      "                ('svm', SVC(gamma='auto', probability=True, random_state=11))])\n",
      "\n",
      "\n",
      "9.169515000000047 Sec elapsed.\n"
     ]
    },
    {
     "data": {
      "image/png": "[encoded data removed]",
      "text/plain": [
       "<Figure size 432x288 with 2 Axes>"
      ]
     },
     "metadata": {
      "needs_background": "light"
     },
     "output_type": "display_data"
    }
   ],
   "source": [
    "# \n",
    "start = timer()\n",
    "# Train / Fit Model\n",
    "pipe_scaler_rus.fit(X_train_rus, y_train_rus)\n",
    "# \n",
    "p_start = timer()\n",
    "y_predSVC_rus = pipe_scaler_rus.predict(X_test_rus)\n",
    "p_end = timer()\n",
    "# \n",
    "print(classification_report(y_test_rus, y_predSVC_rus))\n",
    "cm = confusion_matrix(y_test_rus, y_predSVC_rus)\n",
    "\n",
    "disp = ConfusionMatrixDisplay(confusion_matrix=cm, \n",
    "                              display_labels=pipe_scaler_rus.named_steps['svm'].classes_)\n",
    "disp.plot()\n",
    "# \n",
    "print(pipe_scaler_rus)\n",
    "print('\\n')\n",
    "# \n",
    "data = [ID, 'SVM - Standard - UnderSample', (p_start - s_start), (p_end - p_start), \n",
    "        cm[1,0], cm[0,1], cm.sum()]\n",
    "#          \n",
    "for key, data in zip(keys,data):\n",
    "    prediction_info[key].append(data)\n",
    "#\n",
    "end = timer()\n",
    "print(f'{(end - start)} Sec elapsed.')"
   ]
  },
  {
   "cell_type": "markdown",
   "id": "earlier-tribute",
   "metadata": {},
   "source": [
    "#### Support Vector Machine Classifier with Normalize Under-Sampled Dataset"
   ]
  },
  {
   "cell_type": "code",
   "execution_count": 37,
   "id": "private-green",
   "metadata": {},
   "outputs": [
    {
     "name": "stdout",
     "output_type": "stream",
     "text": [
      "              precision    recall  f1-score   support\n",
      "\n",
      "           0       0.99      0.92      0.95      2053\n",
      "           1       0.92      0.99      0.95      2054\n",
      "\n",
      "    accuracy                           0.95      4107\n",
      "   macro avg       0.95      0.95      0.95      4107\n",
      "weighted avg       0.95      0.95      0.95      4107\n",
      "\n",
      "Pipeline(steps=[('normal', MinMaxScaler()),\n",
      "                ('svm', SVC(gamma='auto', probability=True, random_state=11))])\n",
      "\n",
      "\n",
      "0.33852845388333513 Min elapsed.\n"
     ]
    },
    {
     "data": {
      "image/png": "[encoded data removed]",
      "text/plain": [
       "<Figure size 432x288 with 2 Axes>"
      ]
     },
     "metadata": {
      "needs_background": "light"
     },
     "output_type": "display_data"
    }
   ],
   "source": [
    "# \n",
    "start = timer()\n",
    "# Train / Fit Model\n",
    "pipe_normal_rus.fit(X_train_rus, y_train_rus)\n",
    "# \n",
    "p_start = timer()\n",
    "y_predSVC_rus = pipe_scaler_rus.predict(X_test_rus)\n",
    "p_end = timer()\n",
    "# \n",
    "print(classification_report(y_test_rus, y_predSVC_rus))\n",
    "cm = confusion_matrix(y_test_rus, y_predSVC_rus)\n",
    "\n",
    "disp = ConfusionMatrixDisplay(confusion_matrix=cm, \n",
    "                              display_labels=pipe_normal_rus.named_steps['svm'].classes_)\n",
    "disp.plot()\n",
    "# \n",
    "print(pipe_normal_rus)\n",
    "# \n",
    "data = [ID, 'SVM - Normalize - UnderSample', (p_start - start), (p_end - p_start), \n",
    "        cm[1,0], cm[0,1], cm.sum()]\n",
    "#          \n",
    "for key, data in zip(keys,data):\n",
    "    prediction_info[key].append(data)\n",
    "#\n",
    "end = timer()\n",
    "print('\\n')\n",
    "print(f'{(end - start)/60} Min elapsed.')"
   ]
  },
  {
   "cell_type": "code",
   "execution_count": 38,
   "id": "adult-pound",
   "metadata": {},
   "outputs": [
    {
     "data": {
      "text/html": [
       "<div>\n",
       "<style scoped>\n",
       "    .dataframe tbody tr th:only-of-type {\n",
       "        vertical-align: middle;\n",
       "    }\n",
       "\n",
       "    .dataframe tbody tr th {\n",
       "        vertical-align: top;\n",
       "    }\n",
       "\n",
       "    .dataframe thead th {\n",
       "        text-align: right;\n",
       "    }\n",
       "</style>\n",
       "<table border=\"1\" class=\"dataframe\">\n",
       "  <thead>\n",
       "    <tr style=\"text-align: right;\">\n",
       "      <th></th>\n",
       "      <th>ID</th>\n",
       "      <th>Algorithm</th>\n",
       "      <th>TrainingTime_sec</th>\n",
       "      <th>PredictionTime_sec</th>\n",
       "      <th>False Negative</th>\n",
       "      <th>False Positive</th>\n",
       "      <th>Total Records</th>\n",
       "    </tr>\n",
       "  </thead>\n",
       "  <tbody>\n",
       "    <tr>\n",
       "      <th>0</th>\n",
       "      <td>RF</td>\n",
       "      <td>RFC - Normalize - UnderSample</td>\n",
       "      <td>0.252569</td>\n",
       "      <td>0.028870</td>\n",
       "      <td>5</td>\n",
       "      <td>0</td>\n",
       "      <td>4107</td>\n",
       "    </tr>\n",
       "    <tr>\n",
       "      <th>1</th>\n",
       "      <td>RF</td>\n",
       "      <td>RFC - Standard - UnderSample</td>\n",
       "      <td>0.206112</td>\n",
       "      <td>0.027877</td>\n",
       "      <td>5</td>\n",
       "      <td>0</td>\n",
       "      <td>4107</td>\n",
       "    </tr>\n",
       "    <tr>\n",
       "      <th>2</th>\n",
       "      <td>RF</td>\n",
       "      <td>RFC - NonStandard - UnderSample</td>\n",
       "      <td>0.210386</td>\n",
       "      <td>0.028174</td>\n",
       "      <td>5</td>\n",
       "      <td>0</td>\n",
       "      <td>4107</td>\n",
       "    </tr>\n",
       "    <tr>\n",
       "      <th>3</th>\n",
       "      <td>RF</td>\n",
       "      <td>RFC - NonStandard - Full</td>\n",
       "      <td>162.886086</td>\n",
       "      <td>1.651865</td>\n",
       "      <td>10</td>\n",
       "      <td>0</td>\n",
       "      <td>1590655</td>\n",
       "    </tr>\n",
       "    <tr>\n",
       "      <th>4</th>\n",
       "      <td>RF</td>\n",
       "      <td>RFC - NonStandard - OverSample</td>\n",
       "      <td>322.578442</td>\n",
       "      <td>3.305756</td>\n",
       "      <td>55</td>\n",
       "      <td>47</td>\n",
       "      <td>3177204</td>\n",
       "    </tr>\n",
       "    <tr>\n",
       "      <th>5</th>\n",
       "      <td>RF</td>\n",
       "      <td>RFC - NonStandard - UnderSample - RandomGridSe...</td>\n",
       "      <td>245.697482</td>\n",
       "      <td>0.098610</td>\n",
       "      <td>3</td>\n",
       "      <td>0</td>\n",
       "      <td>4107</td>\n",
       "    </tr>\n",
       "    <tr>\n",
       "      <th>6</th>\n",
       "      <td>XGB</td>\n",
       "      <td>XGB - Standard - UnderSample</td>\n",
       "      <td>0.338135</td>\n",
       "      <td>0.005608</td>\n",
       "      <td>5</td>\n",
       "      <td>0</td>\n",
       "      <td>4107</td>\n",
       "    </tr>\n",
       "    <tr>\n",
       "      <th>7</th>\n",
       "      <td>XGB</td>\n",
       "      <td>XGB - Normalize - UnderSample</td>\n",
       "      <td>0.330252</td>\n",
       "      <td>0.005928</td>\n",
       "      <td>5</td>\n",
       "      <td>0</td>\n",
       "      <td>4107</td>\n",
       "    </tr>\n",
       "    <tr>\n",
       "      <th>8</th>\n",
       "      <td>XGB</td>\n",
       "      <td>XGB - NonStandard - UnderSample</td>\n",
       "      <td>0.333772</td>\n",
       "      <td>0.003874</td>\n",
       "      <td>5</td>\n",
       "      <td>0</td>\n",
       "      <td>4107</td>\n",
       "    </tr>\n",
       "    <tr>\n",
       "      <th>9</th>\n",
       "      <td>XGB</td>\n",
       "      <td>XGB - NonStandard - Full</td>\n",
       "      <td>213.564923</td>\n",
       "      <td>0.400996</td>\n",
       "      <td>9</td>\n",
       "      <td>0</td>\n",
       "      <td>1590655</td>\n",
       "    </tr>\n",
       "    <tr>\n",
       "      <th>10</th>\n",
       "      <td>XGB</td>\n",
       "      <td>XGB - NonStandard - OverSample</td>\n",
       "      <td>623.946738</td>\n",
       "      <td>0.793350</td>\n",
       "      <td>120</td>\n",
       "      <td>219</td>\n",
       "      <td>3177204</td>\n",
       "    </tr>\n",
       "    <tr>\n",
       "      <th>11</th>\n",
       "      <td>XGB</td>\n",
       "      <td>XGB - Standard - UnderSample - StratifiedKFold...</td>\n",
       "      <td>6.462301</td>\n",
       "      <td>0.004950</td>\n",
       "      <td>5</td>\n",
       "      <td>0</td>\n",
       "      <td>4107</td>\n",
       "    </tr>\n",
       "    <tr>\n",
       "      <th>12</th>\n",
       "      <td>XGB</td>\n",
       "      <td>XGB - NonStandard - UnderSample - StratifiedKF...</td>\n",
       "      <td>5.106576</td>\n",
       "      <td>0.003776</td>\n",
       "      <td>5</td>\n",
       "      <td>0</td>\n",
       "      <td>4107</td>\n",
       "    </tr>\n",
       "    <tr>\n",
       "      <th>13</th>\n",
       "      <td>LGBM</td>\n",
       "      <td>LGBM - Standard - UnderSample</td>\n",
       "      <td>0.000000</td>\n",
       "      <td>0.005004</td>\n",
       "      <td>4</td>\n",
       "      <td>0</td>\n",
       "      <td>4107</td>\n",
       "    </tr>\n",
       "    <tr>\n",
       "      <th>14</th>\n",
       "      <td>LGBM</td>\n",
       "      <td>LGBM - Normalize - UnderSample</td>\n",
       "      <td>0.000000</td>\n",
       "      <td>0.004687</td>\n",
       "      <td>4</td>\n",
       "      <td>0</td>\n",
       "      <td>4107</td>\n",
       "    </tr>\n",
       "    <tr>\n",
       "      <th>15</th>\n",
       "      <td>LGBM</td>\n",
       "      <td>LGBM - NonStandard - UnderSample</td>\n",
       "      <td>0.077423</td>\n",
       "      <td>0.004909</td>\n",
       "      <td>4</td>\n",
       "      <td>0</td>\n",
       "      <td>4107</td>\n",
       "    </tr>\n",
       "    <tr>\n",
       "      <th>16</th>\n",
       "      <td>LGBM</td>\n",
       "      <td>LGBM - NonStandard - Full</td>\n",
       "      <td>7.831748</td>\n",
       "      <td>1.314316</td>\n",
       "      <td>1959</td>\n",
       "      <td>3443</td>\n",
       "      <td>1590655</td>\n",
       "    </tr>\n",
       "    <tr>\n",
       "      <th>17</th>\n",
       "      <td>LGBM</td>\n",
       "      <td>LGBM - NonStandard - OverSample</td>\n",
       "      <td>19.768646</td>\n",
       "      <td>2.255416</td>\n",
       "      <td>444</td>\n",
       "      <td>227</td>\n",
       "      <td>3177204</td>\n",
       "    </tr>\n",
       "    <tr>\n",
       "      <th>18</th>\n",
       "      <td>SVM</td>\n",
       "      <td>SVM - Standard - UnderSample</td>\n",
       "      <td>37.537809</td>\n",
       "      <td>0.811791</td>\n",
       "      <td>27</td>\n",
       "      <td>172</td>\n",
       "      <td>4107</td>\n",
       "    </tr>\n",
       "    <tr>\n",
       "      <th>19</th>\n",
       "      <td>SVM</td>\n",
       "      <td>SVM - Normalize - UnderSample</td>\n",
       "      <td>19.435153</td>\n",
       "      <td>0.838756</td>\n",
       "      <td>27</td>\n",
       "      <td>172</td>\n",
       "      <td>4107</td>\n",
       "    </tr>\n",
       "  </tbody>\n",
       "</table>\n",
       "</div>"
      ],
      "text/plain": [
       "      ID                                          Algorithm  TrainingTime_sec  \\\n",
       "0     RF                      RFC - Normalize - UnderSample          0.252569   \n",
       "1     RF                       RFC - Standard - UnderSample          0.206112   \n",
       "2     RF                    RFC - NonStandard - UnderSample          0.210386   \n",
       "3     RF                           RFC - NonStandard - Full        162.886086   \n",
       "4     RF                     RFC - NonStandard - OverSample        322.578442   \n",
       "5     RF  RFC - NonStandard - UnderSample - RandomGridSe...        245.697482   \n",
       "6    XGB                       XGB - Standard - UnderSample          0.338135   \n",
       "7    XGB                      XGB - Normalize - UnderSample          0.330252   \n",
       "8    XGB                    XGB - NonStandard - UnderSample          0.333772   \n",
       "9    XGB                           XGB - NonStandard - Full        213.564923   \n",
       "10   XGB                     XGB - NonStandard - OverSample        623.946738   \n",
       "11   XGB  XGB - Standard - UnderSample - StratifiedKFold...          6.462301   \n",
       "12   XGB  XGB - NonStandard - UnderSample - StratifiedKF...          5.106576   \n",
       "13  LGBM                      LGBM - Standard - UnderSample          0.000000   \n",
       "14  LGBM                     LGBM - Normalize - UnderSample          0.000000   \n",
       "15  LGBM                   LGBM - NonStandard - UnderSample          0.077423   \n",
       "16  LGBM                          LGBM - NonStandard - Full          7.831748   \n",
       "17  LGBM                    LGBM - NonStandard - OverSample         19.768646   \n",
       "18   SVM                       SVM - Standard - UnderSample         37.537809   \n",
       "19   SVM                      SVM - Normalize - UnderSample         19.435153   \n",
       "\n",
       "    PredictionTime_sec  False Negative  False Positive  Total Records  \n",
       "0             0.028870               5               0           4107  \n",
       "1             0.027877               5               0           4107  \n",
       "2             0.028174               5               0           4107  \n",
       "3             1.651865              10               0        1590655  \n",
       "4             3.305756              55              47        3177204  \n",
       "5             0.098610               3               0           4107  \n",
       "6             0.005608               5               0           4107  \n",
       "7             0.005928               5               0           4107  \n",
       "8             0.003874               5               0           4107  \n",
       "9             0.400996               9               0        1590655  \n",
       "10            0.793350             120             219        3177204  \n",
       "11            0.004950               5               0           4107  \n",
       "12            0.003776               5               0           4107  \n",
       "13            0.005004               4               0           4107  \n",
       "14            0.004687               4               0           4107  \n",
       "15            0.004909               4               0           4107  \n",
       "16            1.314316            1959            3443        1590655  \n",
       "17            2.255416             444             227        3177204  \n",
       "18            0.811791              27             172           4107  \n",
       "19            0.838756              27             172           4107  "
      ]
     },
     "execution_count": 38,
     "metadata": {},
     "output_type": "execute_result"
    }
   ],
   "source": [
    "pd.DataFrame(prediction_info)"
   ]
  },
  {
   "cell_type": "code",
   "execution_count": null,
   "id": "motivated-concrete",
   "metadata": {},
   "outputs": [],
   "source": []
  }
 ],
 "metadata": {
  "kernelspec": {
   "display_name": "Python 3",
   "language": "python",
   "name": "python3"
  },
  "language_info": {
   "codemirror_mode": {
    "name": "ipython",
    "version": 3
   },
   "file_extension": ".py",
   "mimetype": "text/x-python",
   "name": "python",
   "nbconvert_exporter": "python",
   "pygments_lexer": "ipython3",
   "version": "3.8.5"
  }
 },
 "nbformat": 4,
 "nbformat_minor": 5
}
