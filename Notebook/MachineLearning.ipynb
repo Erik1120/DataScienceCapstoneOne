{
 "cells": [
  {
   "cell_type": "code",
   "execution_count": 3,
   "id": "persistent-provincial",
   "metadata": {},
   "outputs": [],
   "source": [
    "# Import package\n",
    "import pandas as pd\n",
    "import numpy as np\n",
    "import matplotlib.pyplot as plt\n",
    "import seaborn as sns\n",
    "from timeit import default_timer as timer "
   ]
  },
  {
   "cell_type": "markdown",
   "id": "equipped-collector",
   "metadata": {},
   "source": [
    "# Load CSV files"
   ]
  },
  {
   "cell_type": "code",
   "execution_count": 4,
   "id": "seeing-vessel",
   "metadata": {},
   "outputs": [
    {
     "name": "stdout",
     "output_type": "stream",
     "text": [
      "6.378819751000002 seconds elapsed.\n"
     ]
    }
   ],
   "source": [
    "start = timer()\n",
    "\n",
    "# file = 'standardized_paysim.csv'\n",
    "# path = '../Data/'\n",
    "# Cleaned data\n",
    "file_o = 'paysim.csv'\n",
    "path_o = '../Data/'\n",
    "\n",
    "# Standarized \n",
    "# paysim = pd.read_csv(path+file)\n",
    "# Non Standarized\n",
    "paysim_o = pd.read_csv(path_o+file_o)\n",
    "# \n",
    "paysim_o = pd.get_dummies(paysim_o, drop_first=True)\n",
    "# \n",
    "end = timer()\n",
    "print(f'{(end - start)} seconds elapsed.')"
   ]
  },
  {
   "cell_type": "markdown",
   "id": "seeing-saturn",
   "metadata": {},
   "source": [
    "### Display Data for both DataFrames"
   ]
  },
  {
   "cell_type": "code",
   "execution_count": 3,
   "id": "bronze-wellington",
   "metadata": {
    "jupyter": {
     "source_hidden": true
    }
   },
   "outputs": [],
   "source": [
    "# paysim.describe()"
   ]
  },
  {
   "cell_type": "code",
   "execution_count": 4,
   "id": "graduate-soldier",
   "metadata": {
    "jupyter": {
     "source_hidden": true
    }
   },
   "outputs": [],
   "source": [
    "# paysim.sample(5)"
   ]
  },
  {
   "cell_type": "code",
   "execution_count": 5,
   "id": "numerous-walter",
   "metadata": {
    "collapsed": true,
    "jupyter": {
     "outputs_hidden": true,
     "source_hidden": true
    }
   },
   "outputs": [
    {
     "data": {
      "text/html": [
       "<div>\n",
       "<style scoped>\n",
       "    .dataframe tbody tr th:only-of-type {\n",
       "        vertical-align: middle;\n",
       "    }\n",
       "\n",
       "    .dataframe tbody tr th {\n",
       "        vertical-align: top;\n",
       "    }\n",
       "\n",
       "    .dataframe thead th {\n",
       "        text-align: right;\n",
       "    }\n",
       "</style>\n",
       "<table border=\"1\" class=\"dataframe\">\n",
       "  <thead>\n",
       "    <tr style=\"text-align: right;\">\n",
       "      <th></th>\n",
       "      <th>step</th>\n",
       "      <th>amount</th>\n",
       "      <th>oldbalanceOrig</th>\n",
       "      <th>newbalanceOrig</th>\n",
       "      <th>oldbalanceDest</th>\n",
       "      <th>newbalanceDest</th>\n",
       "      <th>isFraud</th>\n",
       "      <th>diffBalanceOrig</th>\n",
       "      <th>diffBalanceDest</th>\n",
       "      <th>transType_CASH_OUT</th>\n",
       "      <th>transType_DEBIT</th>\n",
       "      <th>transType_PAYMENT</th>\n",
       "      <th>transType_TRANSFER</th>\n",
       "      <th>nameDest_M</th>\n",
       "    </tr>\n",
       "  </thead>\n",
       "  <tbody>\n",
       "    <tr>\n",
       "      <th>1220908</th>\n",
       "      <td>133</td>\n",
       "      <td>25009.85</td>\n",
       "      <td>0.00</td>\n",
       "      <td>0.00</td>\n",
       "      <td>0.00</td>\n",
       "      <td>0.00</td>\n",
       "      <td>0</td>\n",
       "      <td>25009.85</td>\n",
       "      <td>25009.85</td>\n",
       "      <td>0</td>\n",
       "      <td>0</td>\n",
       "      <td>1</td>\n",
       "      <td>0</td>\n",
       "      <td>1</td>\n",
       "    </tr>\n",
       "    <tr>\n",
       "      <th>2014302</th>\n",
       "      <td>180</td>\n",
       "      <td>163177.86</td>\n",
       "      <td>420.00</td>\n",
       "      <td>163597.86</td>\n",
       "      <td>192199.28</td>\n",
       "      <td>29021.42</td>\n",
       "      <td>0</td>\n",
       "      <td>326355.72</td>\n",
       "      <td>326355.72</td>\n",
       "      <td>0</td>\n",
       "      <td>0</td>\n",
       "      <td>0</td>\n",
       "      <td>0</td>\n",
       "      <td>0</td>\n",
       "    </tr>\n",
       "    <tr>\n",
       "      <th>2351527</th>\n",
       "      <td>189</td>\n",
       "      <td>238968.80</td>\n",
       "      <td>0.00</td>\n",
       "      <td>0.00</td>\n",
       "      <td>263030.39</td>\n",
       "      <td>501999.19</td>\n",
       "      <td>0</td>\n",
       "      <td>238968.80</td>\n",
       "      <td>0.00</td>\n",
       "      <td>1</td>\n",
       "      <td>0</td>\n",
       "      <td>0</td>\n",
       "      <td>0</td>\n",
       "      <td>0</td>\n",
       "    </tr>\n",
       "    <tr>\n",
       "      <th>2644774</th>\n",
       "      <td>209</td>\n",
       "      <td>206937.42</td>\n",
       "      <td>39229.73</td>\n",
       "      <td>0.00</td>\n",
       "      <td>10491567.36</td>\n",
       "      <td>10698504.78</td>\n",
       "      <td>0</td>\n",
       "      <td>167707.69</td>\n",
       "      <td>0.00</td>\n",
       "      <td>1</td>\n",
       "      <td>0</td>\n",
       "      <td>0</td>\n",
       "      <td>0</td>\n",
       "      <td>0</td>\n",
       "    </tr>\n",
       "    <tr>\n",
       "      <th>395093</th>\n",
       "      <td>18</td>\n",
       "      <td>5238.43</td>\n",
       "      <td>0.00</td>\n",
       "      <td>0.00</td>\n",
       "      <td>154915.39</td>\n",
       "      <td>160153.82</td>\n",
       "      <td>0</td>\n",
       "      <td>5238.43</td>\n",
       "      <td>0.00</td>\n",
       "      <td>1</td>\n",
       "      <td>0</td>\n",
       "      <td>0</td>\n",
       "      <td>0</td>\n",
       "      <td>0</td>\n",
       "    </tr>\n",
       "  </tbody>\n",
       "</table>\n",
       "</div>"
      ],
      "text/plain": [
       "         step     amount  oldbalanceOrig  newbalanceOrig  oldbalanceDest  \\\n",
       "1220908   133   25009.85            0.00            0.00            0.00   \n",
       "2014302   180  163177.86          420.00       163597.86       192199.28   \n",
       "2351527   189  238968.80            0.00            0.00       263030.39   \n",
       "2644774   209  206937.42        39229.73            0.00     10491567.36   \n",
       "395093     18    5238.43            0.00            0.00       154915.39   \n",
       "\n",
       "         newbalanceDest  isFraud  diffBalanceOrig  diffBalanceDest  \\\n",
       "1220908            0.00        0         25009.85         25009.85   \n",
       "2014302        29021.42        0        326355.72        326355.72   \n",
       "2351527       501999.19        0        238968.80             0.00   \n",
       "2644774     10698504.78        0        167707.69             0.00   \n",
       "395093        160153.82        0          5238.43             0.00   \n",
       "\n",
       "         transType_CASH_OUT  transType_DEBIT  transType_PAYMENT  \\\n",
       "1220908                   0                0                  1   \n",
       "2014302                   0                0                  0   \n",
       "2351527                   1                0                  0   \n",
       "2644774                   1                0                  0   \n",
       "395093                    1                0                  0   \n",
       "\n",
       "         transType_TRANSFER  nameDest_M  \n",
       "1220908                   0           1  \n",
       "2014302                   0           0  \n",
       "2351527                   0           0  \n",
       "2644774                   0           0  \n",
       "395093                    0           0  "
      ]
     },
     "execution_count": 5,
     "metadata": {},
     "output_type": "execute_result"
    }
   ],
   "source": [
    "paysim_o.sample(5)"
   ]
  },
  {
   "cell_type": "markdown",
   "id": "responsible-brave",
   "metadata": {},
   "source": [
    "### Create X & y for both CSV files"
   ]
  },
  {
   "cell_type": "code",
   "execution_count": 5,
   "id": "unlimited-baghdad",
   "metadata": {},
   "outputs": [],
   "source": [
    "# Standarized\n",
    "# y =  paysim['isFraud']\n",
    "# X =  paysim.loc[:, paysim.columns != 'isFraud']\n",
    "\n",
    "# X, y full data\n",
    "y =  paysim_o['isFraud']\n",
    "X =  paysim_o.loc[:, paysim_o.columns != 'isFraud']\n",
    "# \n",
    "\n",
    "seed = 1\n",
    "# "
   ]
  },
  {
   "cell_type": "code",
   "execution_count": 6,
   "id": "liable-luxembourg",
   "metadata": {},
   "outputs": [
    {
     "data": {
      "text/html": [
       "<div>\n",
       "<style scoped>\n",
       "    .dataframe tbody tr th:only-of-type {\n",
       "        vertical-align: middle;\n",
       "    }\n",
       "\n",
       "    .dataframe tbody tr th {\n",
       "        vertical-align: top;\n",
       "    }\n",
       "\n",
       "    .dataframe thead th {\n",
       "        text-align: right;\n",
       "    }\n",
       "</style>\n",
       "<table border=\"1\" class=\"dataframe\">\n",
       "  <thead>\n",
       "    <tr style=\"text-align: right;\">\n",
       "      <th></th>\n",
       "      <th>step</th>\n",
       "      <th>amount</th>\n",
       "      <th>oldbalanceOrig</th>\n",
       "      <th>newbalanceOrig</th>\n",
       "      <th>oldbalanceDest</th>\n",
       "      <th>newbalanceDest</th>\n",
       "      <th>diffBalanceOrig</th>\n",
       "      <th>diffBalanceDest</th>\n",
       "      <th>transType_CASH_OUT</th>\n",
       "      <th>transType_DEBIT</th>\n",
       "      <th>transType_PAYMENT</th>\n",
       "      <th>transType_TRANSFER</th>\n",
       "      <th>nameDest_M</th>\n",
       "    </tr>\n",
       "  </thead>\n",
       "  <tbody>\n",
       "    <tr>\n",
       "      <th>1764125</th>\n",
       "      <td>162</td>\n",
       "      <td>23707.57</td>\n",
       "      <td>0.00</td>\n",
       "      <td>0.00</td>\n",
       "      <td>0.00</td>\n",
       "      <td>0.00</td>\n",
       "      <td>23707.57</td>\n",
       "      <td>23707.57</td>\n",
       "      <td>0</td>\n",
       "      <td>0</td>\n",
       "      <td>1</td>\n",
       "      <td>0</td>\n",
       "      <td>1</td>\n",
       "    </tr>\n",
       "    <tr>\n",
       "      <th>813086</th>\n",
       "      <td>40</td>\n",
       "      <td>2883.56</td>\n",
       "      <td>280.00</td>\n",
       "      <td>0.00</td>\n",
       "      <td>0.00</td>\n",
       "      <td>0.00</td>\n",
       "      <td>2603.56</td>\n",
       "      <td>2883.56</td>\n",
       "      <td>0</td>\n",
       "      <td>0</td>\n",
       "      <td>1</td>\n",
       "      <td>0</td>\n",
       "      <td>1</td>\n",
       "    </tr>\n",
       "    <tr>\n",
       "      <th>390445</th>\n",
       "      <td>17</td>\n",
       "      <td>424884.55</td>\n",
       "      <td>10605.00</td>\n",
       "      <td>0.00</td>\n",
       "      <td>395695.50</td>\n",
       "      <td>820580.05</td>\n",
       "      <td>414279.55</td>\n",
       "      <td>0.00</td>\n",
       "      <td>0</td>\n",
       "      <td>0</td>\n",
       "      <td>0</td>\n",
       "      <td>1</td>\n",
       "      <td>0</td>\n",
       "    </tr>\n",
       "    <tr>\n",
       "      <th>4441626</th>\n",
       "      <td>323</td>\n",
       "      <td>80678.19</td>\n",
       "      <td>2463268.49</td>\n",
       "      <td>2543946.68</td>\n",
       "      <td>285485.58</td>\n",
       "      <td>204807.39</td>\n",
       "      <td>161356.38</td>\n",
       "      <td>161356.38</td>\n",
       "      <td>0</td>\n",
       "      <td>0</td>\n",
       "      <td>0</td>\n",
       "      <td>0</td>\n",
       "      <td>0</td>\n",
       "    </tr>\n",
       "    <tr>\n",
       "      <th>865190</th>\n",
       "      <td>42</td>\n",
       "      <td>199468.40</td>\n",
       "      <td>0.00</td>\n",
       "      <td>0.00</td>\n",
       "      <td>276671.87</td>\n",
       "      <td>290507.50</td>\n",
       "      <td>199468.40</td>\n",
       "      <td>185632.77</td>\n",
       "      <td>1</td>\n",
       "      <td>0</td>\n",
       "      <td>0</td>\n",
       "      <td>0</td>\n",
       "      <td>0</td>\n",
       "    </tr>\n",
       "  </tbody>\n",
       "</table>\n",
       "</div>"
      ],
      "text/plain": [
       "         step     amount  oldbalanceOrig  newbalanceOrig  oldbalanceDest  \\\n",
       "1764125   162   23707.57            0.00            0.00            0.00   \n",
       "813086     40    2883.56          280.00            0.00            0.00   \n",
       "390445     17  424884.55        10605.00            0.00       395695.50   \n",
       "4441626   323   80678.19      2463268.49      2543946.68       285485.58   \n",
       "865190     42  199468.40            0.00            0.00       276671.87   \n",
       "\n",
       "         newbalanceDest  diffBalanceOrig  diffBalanceDest  transType_CASH_OUT  \\\n",
       "1764125            0.00         23707.57         23707.57                   0   \n",
       "813086             0.00          2603.56          2883.56                   0   \n",
       "390445        820580.05        414279.55             0.00                   0   \n",
       "4441626       204807.39        161356.38        161356.38                   0   \n",
       "865190        290507.50        199468.40        185632.77                   1   \n",
       "\n",
       "         transType_DEBIT  transType_PAYMENT  transType_TRANSFER  nameDest_M  \n",
       "1764125                0                  1                   0           1  \n",
       "813086                 0                  1                   0           1  \n",
       "390445                 0                  0                   1           0  \n",
       "4441626                0                  0                   0           0  \n",
       "865190                 0                  0                   0           0  "
      ]
     },
     "execution_count": 6,
     "metadata": {},
     "output_type": "execute_result"
    }
   ],
   "source": [
    "X.sample(5)"
   ]
  },
  {
   "cell_type": "code",
   "execution_count": 7,
   "id": "artistic-persian",
   "metadata": {
    "jupyter": {
     "source_hidden": true
    }
   },
   "outputs": [
    {
     "data": {
      "text/plain": [
       "0    6354407\n",
       "1       8213\n",
       "Name: isFraud, dtype: int64"
      ]
     },
     "execution_count": 7,
     "metadata": {},
     "output_type": "execute_result"
    }
   ],
   "source": [
    "y.value_counts()"
   ]
  },
  {
   "cell_type": "markdown",
   "id": "closing-portugal",
   "metadata": {},
   "source": [
    "### imblearn under sampling (RandomUnderSampler)"
   ]
  },
  {
   "cell_type": "code",
   "execution_count": 8,
   "id": "documentary-negative",
   "metadata": {
    "jupyter": {
     "source_hidden": true
    }
   },
   "outputs": [
    {
     "name": "stdout",
     "output_type": "stream",
     "text": [
      "Original Non standarized dataset shape: 6362620\n",
      "Resample Non standarized dataset shape 16426\n",
      "\n",
      "\n",
      "1.7282325670000063 seconds elapsed.\n"
     ]
    }
   ],
   "source": [
    "from imblearn.under_sampling import RandomUnderSampler\n",
    "# \n",
    "start = timer()\n",
    "\n",
    "params_fixed = {\n",
    "    'sampling_strategy' : 'auto',\n",
    "    'random_state' : seed,\n",
    "    'replacement' : False,\n",
    "}\n",
    "# # Model\n",
    "rus = RandomUnderSampler(**params_fixed)\n",
    "# # fit predictor and target variable\n",
    "# x_rus, y_rus = rus.fit_resample(X, y)\n",
    "# print('Original standarized dataset shape:', len(y))\n",
    "# print('Resample standarized dataset shape', len(y_rus))\n",
    "# print('\\n')\n",
    "\n",
    "# fit predictor and target variable\n",
    "x_rus, y_rus = rus.fit_resample(X, y)\n",
    "print('Original Non standarized dataset shape:', len(y))\n",
    "print('Resample Non standarized dataset shape', len(y_rus))\n",
    "print('\\n')\n",
    "\n",
    "end = timer()\n",
    "print(f'{(end - start)} seconds elapsed.')"
   ]
  },
  {
   "cell_type": "markdown",
   "id": "korean-ceiling",
   "metadata": {},
   "source": [
    "### Synthetic Minority Oversampling Technique (SMOTE & SMOTETomek)"
   ]
  },
  {
   "cell_type": "code",
   "execution_count": 9,
   "id": "passing-consortium",
   "metadata": {
    "jupyter": {
     "source_hidden": true
    }
   },
   "outputs": [
    {
     "name": "stdout",
     "output_type": "stream",
     "text": [
      "SMOTE Original standarized dataset shape 6362620\n",
      "SMOTE Resample standarized dataset shape 12708814\n",
      "\n",
      "\n",
      "6.433259788000001 seconds elapsed.\n"
     ]
    }
   ],
   "source": [
    "# import library\n",
    "from imblearn.over_sampling import SMOTE\n",
    "# \n",
    "start = timer()\n",
    "# \n",
    "params_fixed = {'sampling_strategy' : 'not majority',\n",
    "                'random_state' : seed,\n",
    "                'k_neighbors' : (5),\n",
    "                'n_jobs' : (-1),\n",
    "               }\n",
    "# Model\n",
    "oversample = SMOTE(**params_fixed)\n",
    "# \n",
    "\n",
    "# fit predictor and target variable\n",
    "x_smote, y_smote = oversample.fit_resample(X, y)\n",
    "\n",
    "print('SMOTE Original standarized dataset shape', len(y))\n",
    "print('SMOTE Resample standarized dataset shape', len(y_smote))\n",
    "print('\\n')\n",
    "\n",
    "# # fit predictor and target variable\n",
    "# x_smote_ns, y_smote_ns = oversample.fit_resample(X_ns, y_ns)\n",
    "\n",
    "# print('SMOTE Original Non standarized dataset shape', len(y_ns))\n",
    "# print('SMOTE Resample Non standarized dataset shape', len(y_smote_ns))\n",
    "# print('\\n')\n",
    "\n",
    "end = timer()\n",
    "print(f'{(end - start)} seconds elapsed.')"
   ]
  },
  {
   "cell_type": "markdown",
   "id": "together-forum",
   "metadata": {},
   "source": [
    "### Cant get this to run!!!"
   ]
  },
  {
   "cell_type": "code",
   "execution_count": 11,
   "id": "fifth-cement",
   "metadata": {
    "jupyter": {
     "source_hidden": true
    }
   },
   "outputs": [],
   "source": [
    "# # import library\n",
    "# from imblearn.combine import SMOTETomek \n",
    "# # \n",
    "# start = timer()\n",
    "# # \n",
    "# params_ = {'sampling_strategy' : 'not majority',\n",
    "#            'random_state' : seed,\n",
    "#            'smote' : None,\n",
    "#            'tomek' : None,\n",
    "#            'n_jobs' : (-1),\n",
    "#            }\n",
    "# # Model\n",
    "# smt = SMOTETomek(**params_)\n",
    "# # fit predictor and target variable\n",
    "# x_smt, y_smt = smt.fit_resample(X, y)\n",
    "\n",
    "# print('SMOTETomek Original standarized dataset shape', len(y))\n",
    "# print('SMOTETomek Resample standarized dataset shape', len(y_smt))\n",
    "# print('\\n')\n",
    "\n",
    "# # fit predictor and target variable\n",
    "# x_smt_ns, y_smt_ns = smt.fit_resample(X_ns, y_ns)\n",
    "\n",
    "# print('SMOTETomek Original Non standarized dataset shape', len(y_ns))\n",
    "# print('SMOTETomek Resample Non standarized dataset shape', len(y_smt_ns))\n",
    "# print('\\n')\n",
    "\n",
    "# end = timer()\n",
    "# print(f'{(end - start)} seconds elapsed.')"
   ]
  },
  {
   "cell_type": "markdown",
   "id": "spanish-chocolate",
   "metadata": {},
   "source": [
    "# Train Test Split"
   ]
  },
  {
   "cell_type": "code",
   "execution_count": 10,
   "id": "ancient-laser",
   "metadata": {},
   "outputs": [
    {
     "name": "stdout",
     "output_type": "stream",
     "text": [
      "13.030562771 seconds elapsed.\n"
     ]
    }
   ],
   "source": [
    "from sklearn.model_selection import train_test_split\n",
    "t_size=0.25\n",
    "# \n",
    "start = timer()\n",
    "# \n",
    "# Random standarized under-sampling with imblearn\n",
    "X_train_rus, X_test_rus, y_train_rus, y_test_rus = train_test_split(x_rus, y_rus, test_size=t_size, \n",
    "                                                                    random_state=seed, stratify=y_rus)\n",
    "\n",
    "# Random Non standarized under-sampling with imblearn\n",
    "# X_train_rus, X_test_rus, y_train_rus, y_test_rus = train_test_split(x_rus_ns, y_rus_ns, test_size=t_size, \n",
    "#                                                                     random_state=seed, stratify=y_rus_ns)\n",
    "\n",
    "# Standarized Full Dataset\n",
    "# X_train_sf, X_test_sf, y_train_sf, y_test_sf = train_test_split(X, y, test_size=t_size, \n",
    "#                                                                 random_state=seed, stratify=y)\n",
    "\n",
    "# Non Standarized Full Dataset\n",
    "X_train_nsf, X_test_nsf, y_train_nsf, y_test_nsf = train_test_split(X, y, test_size=t_size, \n",
    "                                                                    random_state=seed, stratify=y)\n",
    "\n",
    "# Standarized over-sampling SMOTE Dataset\n",
    "# X_train_so, X_test_so, y_train_so, y_test_so = train_test_split(x_smote, y_smote, test_size=t_size,\n",
    "#                                                                 random_state=seed, stratify=y_smote)\n",
    "\n",
    "# Standarized over-sampling SMOTETomek Dataset\n",
    "# X_train_smt, X_test_smt, y_train_smt, y_test_smt = train_test_split(x_smt, y_smt, test_size=t_size,\n",
    "#                                                                 random_state=seed, stratify=y_smt)\n",
    "\n",
    "# Non Standarized over-sampling SMOTE Dataset\n",
    "X_train_nso, X_test_nso, y_train_nso, y_test_nso = train_test_split(x_smote, y_smote, test_size=t_size, \n",
    "                                                                    random_state=seed, stratify=y_smote)\n",
    "\n",
    "# Non Standarized over-sampling SMOTETomek Dataset\n",
    "# X_train_smt_nso, X_test_smt_nso, y_train_smt_nso, y_test_smt_nso = train_test_split(x_smt_ns, y_smt_ns, \n",
    "#                                                                test_size=t_size, random_state=seed, stratify=y_smt_ns)\n",
    "\n",
    "end = timer()\n",
    "print(f'{(end - start)} seconds elapsed.')"
   ]
  },
  {
   "cell_type": "markdown",
   "id": "nervous-scene",
   "metadata": {},
   "source": [
    "### Import Model/Search/Matrics"
   ]
  },
  {
   "cell_type": "code",
   "execution_count": 11,
   "id": "corporate-genre",
   "metadata": {},
   "outputs": [],
   "source": [
    "from sklearn.model_selection import RandomizedSearchCV, GridSearchCV\n",
    "from sklearn.metrics import classification_report, confusion_matrix\n",
    "from sklearn.metrics import roc_curve, roc_auc_score\n",
    "from sklearn.metrics import ConfusionMatrixDisplay\n",
    "from sklearn.pipeline import Pipeline\n",
    "# Random Forest\n",
    "from sklearn.ensemble import RandomForestClassifier\n",
    "# XG Boost Classifier\n",
    "from xgboost import XGBClassifier\n",
    "# Light GBM Classifier\n",
    "from lightgbm import LGBMClassifier\n",
    "# Support Vector Machine\n",
    "from sklearn import svm\n",
    "# Import StandardScaler\n",
    "from sklearn.preprocessing import StandardScaler\n",
    "# data normalization with sklearn\n",
    "from sklearn.preprocessing import MinMaxScaler\n",
    "# "
   ]
  },
  {
   "cell_type": "code",
   "execution_count": 14,
   "id": "rural-wages",
   "metadata": {},
   "outputs": [],
   "source": [
    "# steps = [()] RandomForestClassifier\n",
    "params_rfc = {'n_jobs' : (-1),\n",
    "              'random_state' : seed,\n",
    "             }\n",
    "# Pipeline\n",
    "rfc_scaler_rus = [('scaler', StandardScaler()), ('rfc', RandomForestClassifier(**params_rfc))]\n",
    "rfc_normal_rus = [('normal', MinMaxScaler()), ('rfc', RandomForestClassifier(**params_rfc))]\n",
    "rfc_scaler_nso = [('scaler', StandardScaler()), ('rfc', RandomForestClassifier(**params_rfc))]\n",
    "rfc_normal_nsf = [('normal', MinMaxScaler()), ('rfc', RandomForestClassifier(**params_rfc))] \n",
    "# Pipeline\n",
    "# under sample\n",
    "pipe_scaler_rus = Pipeline(rfc_scaler_rus)\n",
    "pipe_normal_rus = Pipeline(rfc_normal_rus)\n",
    "# Over sample (SMOTE)\n",
    "pipe_nso = Pipeline(rfc_scaler_nso)\n",
    "# Full\n",
    "pipe_nsf = Pipeline(rfc_normal_nsf)"
   ]
  },
  {
   "cell_type": "markdown",
   "id": "cellular-stadium",
   "metadata": {},
   "source": [
    "# Random Forest"
   ]
  },
  {
   "cell_type": "markdown",
   "id": "swedish-malpractice",
   "metadata": {},
   "source": [
    "#### Random Forest Model with MinMaxScaler Under sample Data"
   ]
  },
  {
   "cell_type": "code",
   "execution_count": 15,
   "id": "thirty-justice",
   "metadata": {
    "jupyter": {
     "source_hidden": true
    }
   },
   "outputs": [
    {
     "name": "stdout",
     "output_type": "stream",
     "text": [
      "187 ms ± 7.46 ms per loop (mean ± std. dev. of 7 runs, 1 loop each)\n",
      "\n",
      "\n",
      "              precision    recall  f1-score   support\n",
      "\n",
      "           0       1.00      1.00      1.00      2053\n",
      "           1       1.00      1.00      1.00      2054\n",
      "\n",
      "    accuracy                           1.00      4107\n",
      "   macro avg       1.00      1.00      1.00      4107\n",
      "weighted avg       1.00      1.00      1.00      4107\n",
      "\n",
      "[[2053    0]\n",
      " [  10 2044]]\n",
      "Pipeline(steps=[('normal', MinMaxScaler()),\n",
      "                ('rfc', RandomForestClassifier(n_jobs=-1, random_state=1))])\n",
      "\n",
      "\n",
      "                    RF %-importance\n",
      "diffBalanceOrig            0.381491\n",
      "newbalanceOrig             0.140750\n",
      "oldbalanceOrig             0.127924\n",
      "amount                     0.068909\n",
      "nameDest_M                 0.061185\n",
      "transType_TRANSFER         0.052290\n",
      "transType_PAYMENT          0.046690\n",
      "diffBalanceDest            0.028448\n",
      "transType_CASH_OUT         0.027190\n",
      "step                       0.026782\n",
      "newbalanceDest             0.019442\n",
      "oldbalanceDest             0.017954\n",
      "transType_DEBIT            0.000943\n",
      "\n",
      "\n",
      "0.02721178953333331 Min elapsed.\n"
     ]
    },
    {
     "data": {
      "image/png": "[encoded data removed]",
      "text/plain": [
       "<Figure size 432x288 with 2 Axes>"
      ]
     },
     "metadata": {
      "needs_background": "light"
     },
     "output_type": "display_data"
    }
   ],
   "source": [
    "start = timer()\n",
    "# \n",
    "%timeit pipe_normal_rus.fit(X_train_rus, y_train_rus)\n",
    "# \n",
    "y_predRFC = pipe_normal_rus.predict(X_test_rus)\n",
    "print('\\n')\n",
    "print(classification_report(y_test_rus, y_predRFC))\n",
    "print(confusion_matrix(y_test_rus, y_predRFC))\n",
    "print(pipe_normal_rus)\n",
    "print('\\n')\n",
    "disp = ConfusionMatrixDisplay(confusion_matrix=(confusion_matrix(y_test_rus, y_predRFC)), \n",
    "                              display_labels=pipe_normal_rus.named_steps['rfc'].classes_)\n",
    "disp.plot()\n",
    "# \n",
    "# print(pipe_normal_rus.named_steps['rfc'])\n",
    "#\n",
    "df = pd.DataFrame(pipe_normal_rus.named_steps['rfc'].feature_importances_, index=X_test_rus.columns, \n",
    "                  columns=[\"RF %-importance\"])\n",
    "print(df.sort_values(\"RF %-importance\", axis=0, ascending=False))\n",
    "# \n",
    "end = timer()\n",
    "print('\\n')\n",
    "print(f'{(end - start)/60} Min elapsed.')"
   ]
  },
  {
   "cell_type": "markdown",
   "id": "broad-steal",
   "metadata": {},
   "source": [
    "### Random Forest Model with StandardScaler Under sample Data"
   ]
  },
  {
   "cell_type": "code",
   "execution_count": 16,
   "id": "recovered-turner",
   "metadata": {},
   "outputs": [
    {
     "name": "stdout",
     "output_type": "stream",
     "text": [
      "193 ms ± 5.11 ms per loop (mean ± std. dev. of 7 runs, 10 loops each)\n",
      "\n",
      "\n",
      "              precision    recall  f1-score   support\n",
      "\n",
      "           0       1.00      1.00      1.00      2053\n",
      "           1       1.00      1.00      1.00      2054\n",
      "\n",
      "    accuracy                           1.00      4107\n",
      "   macro avg       1.00      1.00      1.00      4107\n",
      "weighted avg       1.00      1.00      1.00      4107\n",
      "\n",
      "[[2053    0]\n",
      " [  10 2044]]\n",
      "Pipeline(steps=[('scaler', StandardScaler()),\n",
      "                ('rfc', RandomForestClassifier(n_jobs=-1, random_state=1))])\n",
      "\n",
      "\n",
      "                    RF %-importance\n",
      "diffBalanceOrig            0.380277\n",
      "newbalanceOrig             0.143516\n",
      "oldbalanceOrig             0.128090\n",
      "amount                     0.067959\n",
      "nameDest_M                 0.061928\n",
      "transType_TRANSFER         0.052167\n",
      "transType_PAYMENT          0.045949\n",
      "step                       0.028003\n",
      "transType_CASH_OUT         0.027068\n",
      "diffBalanceDest            0.025501\n",
      "oldbalanceDest             0.020606\n",
      "newbalanceDest             0.017897\n",
      "transType_DEBIT            0.001038\n",
      "\n",
      "\n",
      "0.2612429910000001 Min elapsed.\n"
     ]
    },
    {
     "data": {
      "image/png": "[encoded data removed]",
      "text/plain": [
       "<Figure size 432x288 with 2 Axes>"
      ]
     },
     "metadata": {
      "needs_background": "light"
     },
     "output_type": "display_data"
    }
   ],
   "source": [
    "start = timer()\n",
    "# \n",
    "%timeit pipe_scaler_rus.fit(X_train_rus, y_train_rus)\n",
    "# \n",
    "y_predRFC = pipe_scaler_rus.predict(X_test_rus)\n",
    "print('\\n')\n",
    "print(classification_report(y_test_rus, y_predRFC))\n",
    "print(confusion_matrix(y_test_rus, y_predRFC))\n",
    "print(pipe_scaler_rus)\n",
    "print('\\n')\n",
    "disp = ConfusionMatrixDisplay(confusion_matrix=(confusion_matrix(y_test_rus, y_predRFC)), \n",
    "                              display_labels=pipe_scaler_rus.named_steps['rfc'].classes_)\n",
    "disp.plot()\n",
    "# \n",
    "# print(pipe_normal_rus.named_steps['rfc'])\n",
    "#\n",
    "df = pd.DataFrame(pipe_scaler_rus.named_steps['rfc'].feature_importances_, index=X_test_rus.columns, \n",
    "                  columns=[\"RF %-importance\"])\n",
    "print(df.sort_values(\"RF %-importance\", axis=0, ascending=False))\n",
    "# \n",
    "end = timer()\n",
    "print('\\n')\n",
    "print(f'{(end - start)/60} Min elapsed.')"
   ]
  },
  {
   "cell_type": "markdown",
   "id": "sapphire-terminology",
   "metadata": {},
   "source": [
    "#### Random Forest Model with NON-Standarized/Normalized Under sample Data"
   ]
  },
  {
   "cell_type": "code",
   "execution_count": 17,
   "id": "laughing-wheel",
   "metadata": {
    "jupyter": {
     "source_hidden": true
    }
   },
   "outputs": [
    {
     "name": "stdout",
     "output_type": "stream",
     "text": [
      "192 ms ± 3.08 ms per loop (mean ± std. dev. of 7 runs, 10 loops each)\n",
      "\n",
      "\n",
      "              precision    recall  f1-score   support\n",
      "\n",
      "           0       1.00      1.00      1.00      2053\n",
      "           1       1.00      1.00      1.00      2054\n",
      "\n",
      "    accuracy                           1.00      4107\n",
      "   macro avg       1.00      1.00      1.00      4107\n",
      "weighted avg       1.00      1.00      1.00      4107\n",
      "\n",
      "[[2053    0]\n",
      " [  10 2044]]\n",
      "RandomForestClassifier(n_jobs=-1, random_state=1)\n",
      "\n",
      "\n",
      "                    RF %-importance\n",
      "diffBalanceOrig            0.379100\n",
      "newbalanceOrig             0.131182\n",
      "oldbalanceOrig             0.129591\n",
      "amount                     0.067110\n",
      "nameDest_M                 0.059237\n",
      "transType_TRANSFER         0.057216\n",
      "transType_PAYMENT          0.044107\n",
      "transType_CASH_OUT         0.034257\n",
      "step                       0.026363\n",
      "oldbalanceDest             0.024345\n",
      "diffBalanceDest            0.023385\n",
      "newbalanceDest             0.023188\n",
      "transType_DEBIT            0.000918\n",
      "\n",
      "\n",
      "0.5227202201666666 Min elapsed.\n"
     ]
    },
    {
     "data": {
      "image/png": "[encoded data removed]",
      "text/plain": [
       "<Figure size 432x288 with 2 Axes>"
      ]
     },
     "metadata": {
      "needs_background": "light"
     },
     "output_type": "display_data"
    }
   ],
   "source": [
    "# RF Model with Non Standarized Under sample Data\n",
    "rfc_ = RandomForestClassifier(**params_rfc)\n",
    "\n",
    "%timeit rfc_.fit(X_train_rus, y_train_rus)\n",
    "# \n",
    "y_predRFC = rfc_.predict(X_test_rus)\n",
    "print('\\n')\n",
    "print(classification_report(y_test_rus, y_predRFC))\n",
    "print(confusion_matrix(y_test_rus, y_predRFC))\n",
    "print(rfc_)\n",
    "print('\\n')\n",
    "disp = ConfusionMatrixDisplay(confusion_matrix=(confusion_matrix(y_test_rus, y_predRFC)), \n",
    "                              display_labels=rfc_.classes_)\n",
    "disp.plot()\n",
    "# \n",
    "df = pd.DataFrame(rfc_.feature_importances_, index=X_test_rus.columns, columns=[\"RF %-importance\"])\n",
    "print(df.sort_values(\"RF %-importance\", axis=0, ascending=False))\n",
    "end = timer()\n",
    "print('\\n')\n",
    "print(f'{(end - start)/60} Min elapsed.')"
   ]
  },
  {
   "cell_type": "markdown",
   "id": "sized-accused",
   "metadata": {},
   "source": [
    "#### Random Forest Model with NON-Standarized Full Data"
   ]
  },
  {
   "cell_type": "code",
   "execution_count": 18,
   "id": "overhead-shirt",
   "metadata": {
    "jupyter": {
     "source_hidden": true
    }
   },
   "outputs": [
    {
     "name": "stdout",
     "output_type": "stream",
     "text": [
      "2min 15s ± 694 ms per loop (mean ± std. dev. of 7 runs, 1 loop each)\n",
      "\n",
      "\n",
      "              precision    recall  f1-score   support\n",
      "\n",
      "           0       1.00      1.00      1.00   1588602\n",
      "           1       1.00      1.00      1.00      2053\n",
      "\n",
      "    accuracy                           1.00   1590655\n",
      "   macro avg       1.00      1.00      1.00   1590655\n",
      "weighted avg       1.00      1.00      1.00   1590655\n",
      "\n",
      "[[1588602       0]\n",
      " [      8    2045]]\n",
      "RandomForestClassifier(n_jobs=-1, random_state=1)\n",
      "\n",
      "\n",
      "                    RF %-importance\n",
      "newbalanceOrig             0.398074\n",
      "diffBalanceOrig            0.152242\n",
      "newbalanceDest             0.102080\n",
      "diffBalanceDest            0.095326\n",
      "amount                     0.093836\n",
      "oldbalanceOrig             0.054102\n",
      "step                       0.033900\n",
      "transType_TRANSFER         0.028071\n",
      "oldbalanceDest             0.026075\n",
      "transType_CASH_OUT         0.013162\n",
      "transType_PAYMENT          0.002062\n",
      "nameDest_M                 0.000946\n",
      "transType_DEBIT            0.000122\n",
      "\n",
      "\n",
      "18.868836697066666 Min elapsed.\n"
     ]
    },
    {
     "data": {
      "image/png": "[encoded data removed]",
      "text/plain": [
       "<Figure size 432x288 with 2 Axes>"
      ]
     },
     "metadata": {
      "needs_background": "light"
     },
     "output_type": "display_data"
    }
   ],
   "source": [
    "# Standard RF Model with Non Standarized Under sample Data\n",
    "rfc_nsf = RandomForestClassifier(**params_rfc)\n",
    "\n",
    "%timeit rfc_nsf.fit(X_train_nsf, y_train_nsf)\n",
    "# \n",
    "y_predRFC_nsf = rfc_nsf.predict(X_test_nsf)\n",
    "print('\\n')\n",
    "print(classification_report(y_test_nsf, y_predRFC_nsf))\n",
    "print(confusion_matrix(y_test_nsf, y_predRFC_nsf))\n",
    "print(rfc_nsf)\n",
    "print('\\n')\n",
    "disp = ConfusionMatrixDisplay(confusion_matrix=(confusion_matrix(y_test_nsf, y_predRFC_nsf)), \n",
    "                              display_labels=rfc_nsf.classes_)\n",
    "disp.plot()\n",
    "# \n",
    "df = pd.DataFrame(rfc_nsf.feature_importances_, index=X_test_nsf.columns, columns=[\"RF %-importance\"])\n",
    "print(df.sort_values(\"RF %-importance\", axis=0, ascending=False))\n",
    "end = timer()\n",
    "print('\\n')\n",
    "print(f'{(end - start)/60} Min elapsed.')"
   ]
  },
  {
   "cell_type": "markdown",
   "id": "crucial-madness",
   "metadata": {},
   "source": [
    "#### Random Forest Model with NON-Standarized SMOTE Dataset"
   ]
  },
  {
   "cell_type": "code",
   "execution_count": 19,
   "id": "reliable-trick",
   "metadata": {},
   "outputs": [
    {
     "name": "stdout",
     "output_type": "stream",
     "text": [
      "4min 54s ± 3.34 s per loop (mean ± std. dev. of 7 runs, 1 loop each)\n",
      "\n",
      "\n",
      "              precision    recall  f1-score   support\n",
      "\n",
      "           0       1.00      1.00      1.00   1588602\n",
      "           1       1.00      1.00      1.00   1588602\n",
      "\n",
      "    accuracy                           1.00   3177204\n",
      "   macro avg       1.00      1.00      1.00   3177204\n",
      "weighted avg       1.00      1.00      1.00   3177204\n",
      "\n",
      "[[1588528      74]\n",
      " [     54 1588548]]\n",
      "RandomForestClassifier(n_jobs=-1, random_state=1)\n",
      "\n",
      "\n",
      "                    RF %-importance\n",
      "diffBalanceOrig            0.389318\n",
      "newbalanceOrig             0.130369\n",
      "oldbalanceOrig             0.130247\n",
      "amount                     0.069214\n",
      "nameDest_M                 0.058776\n",
      "transType_TRANSFER         0.050940\n",
      "transType_PAYMENT          0.043447\n",
      "diffBalanceDest            0.032526\n",
      "transType_CASH_OUT         0.027809\n",
      "step                       0.027678\n",
      "oldbalanceDest             0.020691\n",
      "newbalanceDest             0.017571\n",
      "transType_DEBIT            0.001413\n",
      "\n",
      "\n",
      "58.40220863496667 Min elapsed.\n"
     ]
    },
    {
     "data": {
      "image/png": "[encoded data removed]",
      "text/plain": [
       "<Figure size 432x288 with 2 Axes>"
      ]
     },
     "metadata": {
      "needs_background": "light"
     },
     "output_type": "display_data"
    }
   ],
   "source": [
    "# Standard RF Model\n",
    "rfc_ = RandomForestClassifier(**params_rfc)\n",
    "\n",
    "%timeit rfc_.fit(X_train_nso, y_train_nso)\n",
    "# \n",
    "y_predRFC_ = rfc_.predict(X_test_nso)\n",
    "print('\\n')\n",
    "print(classification_report(y_test_nso, y_predRFC_))\n",
    "print(confusion_matrix(y_test_nso, y_predRFC_))\n",
    "print(rfc_)\n",
    "print('\\n')\n",
    "disp = ConfusionMatrixDisplay(confusion_matrix=(confusion_matrix(y_test_nso, y_predRFC_)), \n",
    "                              display_labels=rfc_.classes_)\n",
    "disp.plot()\n",
    "# \n",
    "df = pd.DataFrame(rfc_.feature_importances_, index=X_test_nso.columns, columns=[\"RF %-importance\"])\n",
    "print(df.sort_values(\"RF %-importance\", axis=0, ascending=False))\n",
    "end = timer()\n",
    "print('\\n')\n",
    "print(f'{(end - start)/60} Min elapsed.')"
   ]
  },
  {
   "cell_type": "markdown",
   "id": "fifty-timing",
   "metadata": {},
   "source": [
    "### Random Forest Model with NON-Standarized SMOTETomek Dataset¶"
   ]
  },
  {
   "cell_type": "code",
   "execution_count": 20,
   "id": "missing-oliver",
   "metadata": {},
   "outputs": [],
   "source": [
    "# # RF Model\n",
    "# rfc_smt = RandomForestClassifier(**params_rfc)\n",
    "\n",
    "# %timeit rfc_smt.fit(X_train_smt_nso, y_train_smt_nso)\n",
    "# # \n",
    "# y_predRFC_smt = rfc_smt.predict(X_test_smt_nso)\n",
    "# print('\\n')\n",
    "# print(classification_report(y_test_smt_nso, y_predRFC_smt))\n",
    "# print(confusion_matrix(y_test_smt_nso, y_predRFC_smt))\n",
    "# print(rfc_smt)\n",
    "# print('\\n')\n",
    "# disp = ConfusionMatrixDisplay(confusion_matrix=(confusion_matrix(y_test_smt_nso, y_predRFC_smt)), \n",
    "#                               display_labels=rfc_smt.classes_)\n",
    "# disp.plot()\n",
    "# # \n",
    "# df = pd.DataFrame(rfc_smt.feature_importances_, index=X_test_smt_nso.columns, columns=[\"RF %-importance\"])\n",
    "# print(df.sort_values(\"RF %-importance\", axis=0, ascending=False))\n",
    "# end = timer()\n",
    "# print('\\n')\n",
    "# print(f'{(end - start)/60} Min elapsed.')"
   ]
  },
  {
   "cell_type": "markdown",
   "id": "planned-healthcare",
   "metadata": {},
   "source": [
    "#### Random Forest Model NON-Standard Under-sampled RandomizedSearchCV"
   ]
  },
  {
   "cell_type": "code",
   "execution_count": 21,
   "id": "seven-forwarding",
   "metadata": {},
   "outputs": [],
   "source": [
    "#Create a Random Forest Classifier\n",
    "rfc_nsf = RandomForestClassifier(**params_rfc)\n",
    "\n",
    "# RandomizedSearchCV\n",
    "# Number of trees in random forest\n",
    "n_estimators = [int(x) for x in np.linspace(start = 200, stop = 2000, num = 10)]\n",
    "# Number of features to consider at every split\n",
    "max_features = ['auto', 'sqrt']\n",
    "# Maximum number of levels in tree\n",
    "max_depth = [int(x) for x in np.linspace(10, 110, num = 11)]\n",
    "max_depth.append(None)\n",
    "# Minimum number of samples required to split a node\n",
    "min_samples_split = [2, 5, 10]\n",
    "# Minimum number of samples required at each leaf node\n",
    "min_samples_leaf = [1, 2, 4]\n",
    "# Method of selecting samples for training each tree\n",
    "bootstrap = [True, False]\n",
    "# Create the random grid\n",
    "\n",
    "random_grid = {'n_estimators': n_estimators,\n",
    "               'max_features': max_features,\n",
    "               'max_depth': max_depth,\n",
    "               'min_samples_split': min_samples_split,\n",
    "               'min_samples_leaf': min_samples_leaf,\n",
    "               'bootstrap': bootstrap}\n",
    "# \n",
    "rfc_random = RandomizedSearchCV(estimator = rfc_nsf, param_distributions = random_grid, n_iter = 100, \n",
    "                                cv = 3, verbose=2, random_state=seed, n_jobs = -1)"
   ]
  },
  {
   "cell_type": "code",
   "execution_count": 22,
   "id": "important-istanbul",
   "metadata": {
    "jupyter": {
     "source_hidden": true
    }
   },
   "outputs": [
    {
     "name": "stdout",
     "output_type": "stream",
     "text": [
      "Fitting 3 folds for each of 100 candidates, totalling 300 fits\n",
      "Fitting 3 folds for each of 100 candidates, totalling 300 fits\n",
      "Fitting 3 folds for each of 100 candidates, totalling 300 fits\n",
      "Fitting 3 folds for each of 100 candidates, totalling 300 fits\n",
      "Fitting 3 folds for each of 100 candidates, totalling 300 fits\n",
      "Fitting 3 folds for each of 100 candidates, totalling 300 fits\n",
      "Fitting 3 folds for each of 100 candidates, totalling 300 fits\n",
      "Fitting 3 folds for each of 100 candidates, totalling 300 fits\n",
      "4min ± 347 ms per loop (mean ± std. dev. of 7 runs, 1 loop each)\n",
      "\n",
      "\n",
      "              precision    recall  f1-score   support\n",
      "\n",
      "           0       1.00      1.00      1.00      2053\n",
      "           1       1.00      1.00      1.00      2054\n",
      "\n",
      "    accuracy                           1.00      4107\n",
      "   macro avg       1.00      1.00      1.00      4107\n",
      "weighted avg       1.00      1.00      1.00      4107\n",
      "\n",
      "[[2053    0]\n",
      " [   7 2047]]\n",
      "\n",
      "\n",
      "{'n_estimators': 1200, 'min_samples_split': 10, 'min_samples_leaf': 1, 'max_features': 'sqrt', 'max_depth': 40, 'bootstrap': False}\n",
      "\n",
      "\n",
      "32.06140411971668 Min elapsed.\n"
     ]
    },
    {
     "data": {
      "image/png": "[encoded data removed]",
      "text/plain": [
       "<Figure size 432x288 with 2 Axes>"
      ]
     },
     "metadata": {
      "needs_background": "light"
     },
     "output_type": "display_data"
    }
   ],
   "source": [
    "start = timer()\n",
    "# \n",
    "#Train the model using the training sets - under sample standarized\n",
    "%timeit rfc_random.fit(X_train_rus, y_train_rus)\n",
    "# \n",
    "y_prednsf = rfc_random.predict(X_test_rus)\n",
    "# \n",
    "print('\\n')\n",
    "print(classification_report(y_test_rus, y_prednsf))\n",
    "print(confusion_matrix(y_test_rus, y_prednsf))\n",
    "print('\\n')\n",
    "disp = ConfusionMatrixDisplay(confusion_matrix=(confusion_matrix(y_test_rus, y_prednsf)), \n",
    "                              display_labels=rfc_random.classes_)\n",
    "disp.plot()\n",
    "print(rfc_random.best_params_)\n",
    "print('\\n')\n",
    "end = timer()\n",
    "print(f'{(end - start)/60} Min elapsed.')"
   ]
  },
  {
   "cell_type": "markdown",
   "id": "vulnerable-kruger",
   "metadata": {},
   "source": [
    "# XGB Classifier"
   ]
  },
  {
   "cell_type": "markdown",
   "id": "economic-robert",
   "metadata": {},
   "source": [
    "#### XGB Classifier Model Pipeline"
   ]
  },
  {
   "cell_type": "code",
   "execution_count": 23,
   "id": "dramatic-computer",
   "metadata": {},
   "outputs": [],
   "source": [
    "# Pipeline\n",
    "# \n",
    "params_xgb = {\n",
    "    'objective':'binary:logistic',\n",
    "    'use_label_encoder' : False,\n",
    "    'n_jobs' : (-1),\n",
    "#     'eval_metric' : 'logloss',    \n",
    "    'eval_metric' : 'auc',\n",
    "    'random_state' : seed,\n",
    "}\n",
    "# \n",
    "xgb_scaler_rus = [('scaler', StandardScaler()), ('xgb', XGBClassifier(**params_xgb))]\n",
    "xgb_normal_rus = [('normal', MinMaxScaler()), ('xgb', XGBClassifier(**params_xgb))]\n",
    "xgb_scaler_nso = [('scaler', StandardScaler()), ('xgb', XGBClassifier(**params_xgb))]\n",
    "xgb_normal_nsf = [('normal', MinMaxScaler()), ('xgb', XGBClassifier(**params_xgb))]\n",
    "# under sample\n",
    "pipe_scaler_rus = Pipeline(xgb_scaler_rus)\n",
    "pipe_normal_rus = Pipeline(xgb_normal_rus)\n",
    "# Over sample (SMOTE)\n",
    "pipe_nso = Pipeline(xgb_scaler_nso)\n",
    "# Full\n",
    "pipe_nsf = Pipeline(xgb_normal_nsf)"
   ]
  },
  {
   "cell_type": "markdown",
   "id": "assured-lambda",
   "metadata": {},
   "source": [
    "#### XGB Classifier Model with Scaler Under-Sampled Dataset"
   ]
  },
  {
   "cell_type": "code",
   "execution_count": 24,
   "id": "alternate-angle",
   "metadata": {},
   "outputs": [
    {
     "name": "stdout",
     "output_type": "stream",
     "text": [
      "\n",
      "\n",
      "              precision    recall  f1-score   support\n",
      "\n",
      "           0       1.00      1.00      1.00      2053\n",
      "           1       1.00      1.00      1.00      2054\n",
      "\n",
      "    accuracy                           1.00      4107\n",
      "   macro avg       1.00      1.00      1.00      4107\n",
      "weighted avg       1.00      1.00      1.00      4107\n",
      "\n",
      "[[2053    0]\n",
      " [   6 2048]]\n",
      "[('scaler', StandardScaler()), ('xgb', XGBClassifier(base_score=0.5, booster='gbtree', colsample_bylevel=1,\n",
      "              colsample_bynode=1, colsample_bytree=1, eval_metric='auc',\n",
      "              gamma=0, gpu_id=-1, importance_type='gain',\n",
      "              interaction_constraints='', learning_rate=0.300000012,\n",
      "              max_delta_step=0, max_depth=6, min_child_weight=1, missing=nan,\n",
      "              monotone_constraints='()', n_estimators=100, n_jobs=-1,\n",
      "              num_parallel_tree=1, random_state=1, reg_alpha=0, reg_lambda=1,\n",
      "              scale_pos_weight=1, subsample=1, tree_method='exact',\n",
      "              use_label_encoder=False, validate_parameters=1, verbosity=None))]\n",
      "\n",
      "\n",
      "                    XGB %-importance\n",
      "newbalanceOrig              0.494076\n",
      "diffBalanceOrig             0.463534\n",
      "amount                      0.020745\n",
      "diffBalanceDest             0.006117\n",
      "transType_CASH_OUT          0.003411\n",
      "transType_TRANSFER          0.002957\n",
      "transType_PAYMENT           0.002222\n",
      "oldbalanceOrig              0.002176\n",
      "oldbalanceDest              0.001743\n",
      "step                        0.001591\n",
      "newbalanceDest              0.001428\n",
      "transType_DEBIT             0.000000\n",
      "nameDest_M                  0.000000\n",
      "\n",
      "\n",
      "0.006527242416677836 Min elapsed.\n"
     ]
    },
    {
     "data": {
      "image/png": "[encoded data removed]",
      "text/plain": [
       "<Figure size 432x288 with 2 Axes>"
      ]
     },
     "metadata": {
      "needs_background": "light"
     },
     "output_type": "display_data"
    }
   ],
   "source": [
    "start = timer()\n",
    "#Train the model using the training sets\n",
    "pipe_scaler_rus.fit(X_train_rus,y_train_rus)\n",
    "# \n",
    "y_predXGB = pipe_scaler_rus.predict(X_test_rus)\n",
    "print('\\n')\n",
    "print(classification_report(y_test_rus, y_predXGB))\n",
    "print(confusion_matrix(y_test_rus, y_predXGB))\n",
    "print(xgb_scaler_rus)\n",
    "print('\\n')\n",
    "disp = ConfusionMatrixDisplay(confusion_matrix=(confusion_matrix(y_test_rus, y_predXGB)), \n",
    "                              display_labels=pipe_scaler_rus.named_steps['xgb'].classes_)\n",
    "disp.plot()\n",
    "df = pd.DataFrame(pipe_scaler_rus.named_steps['xgb'].feature_importances_, index=X_test_rus.columns, \n",
    "                  columns=[\"XGB %-importance\"])\n",
    "print(df.sort_values(\"XGB %-importance\", axis=0, ascending=False))\n",
    "# \n",
    "end = timer()\n",
    "print('\\n')\n",
    "print(f'{(end - start)/60} Min elapsed.')"
   ]
  },
  {
   "cell_type": "markdown",
   "id": "emerging-universal",
   "metadata": {},
   "source": [
    "#### XGB Classifier Model with Norml Under-Sampled Dataset"
   ]
  },
  {
   "cell_type": "code",
   "execution_count": 25,
   "id": "anticipated-norman",
   "metadata": {},
   "outputs": [
    {
     "name": "stdout",
     "output_type": "stream",
     "text": [
      "\n",
      "\n",
      "              precision    recall  f1-score   support\n",
      "\n",
      "           0       1.00      1.00      1.00      2053\n",
      "           1       1.00      1.00      1.00      2054\n",
      "\n",
      "    accuracy                           1.00      4107\n",
      "   macro avg       1.00      1.00      1.00      4107\n",
      "weighted avg       1.00      1.00      1.00      4107\n",
      "\n",
      "[[2053    0]\n",
      " [   6 2048]]\n",
      "[('normal', MinMaxScaler()), ('xgb', XGBClassifier(base_score=0.5, booster='gbtree', colsample_bylevel=1,\n",
      "              colsample_bynode=1, colsample_bytree=1, eval_metric='auc',\n",
      "              gamma=0, gpu_id=-1, importance_type='gain',\n",
      "              interaction_constraints='', learning_rate=0.300000012,\n",
      "              max_delta_step=0, max_depth=6, min_child_weight=1, missing=nan,\n",
      "              monotone_constraints='()', n_estimators=100, n_jobs=-1,\n",
      "              num_parallel_tree=1, random_state=1, reg_alpha=0, reg_lambda=1,\n",
      "              scale_pos_weight=1, subsample=1, tree_method='exact',\n",
      "              use_label_encoder=False, validate_parameters=1, verbosity=None))]\n",
      "\n",
      "\n",
      "                    XGB %-importance\n",
      "newbalanceOrig              0.541881\n",
      "diffBalanceOrig             0.408847\n",
      "amount                      0.019864\n",
      "transType_PAYMENT           0.008274\n",
      "diffBalanceDest             0.007906\n",
      "transType_CASH_OUT          0.003299\n",
      "transType_TRANSFER          0.002616\n",
      "oldbalanceOrig              0.002358\n",
      "oldbalanceDest              0.001869\n",
      "step                        0.001605\n",
      "newbalanceDest              0.001481\n",
      "transType_DEBIT             0.000000\n",
      "nameDest_M                  0.000000\n",
      "\n",
      "\n",
      "0.0062158262500058 Min elapsed.\n"
     ]
    },
    {
     "data": {
      "image/png": "[encoded data removed]",
      "text/plain": [
       "<Figure size 432x288 with 2 Axes>"
      ]
     },
     "metadata": {
      "needs_background": "light"
     },
     "output_type": "display_data"
    }
   ],
   "source": [
    "start = timer()\n",
    "#Train the model using the training sets\n",
    "pipe_normal_rus.fit(X_train_rus,y_train_rus)\n",
    "# \n",
    "y_predXGB = pipe_normal_rus.predict(X_test_rus)\n",
    "print('\\n')\n",
    "print(classification_report(y_test_rus, y_predXGB))\n",
    "print(confusion_matrix(y_test_rus, y_predXGB))\n",
    "print(xgb_normal_rus)\n",
    "print('\\n')\n",
    "disp = ConfusionMatrixDisplay(confusion_matrix=(confusion_matrix(y_test_rus, y_predXGB)), \n",
    "                              display_labels=pipe_normal_rus.named_steps['xgb'].classes_)\n",
    "disp.plot()\n",
    "df = pd.DataFrame(pipe_normal_rus.named_steps['xgb'].feature_importances_, index=X_test_rus.columns, \n",
    "                  columns=[\"XGB %-importance\"])\n",
    "print(df.sort_values(\"XGB %-importance\", axis=0, ascending=False))\n",
    "# \n",
    "end = timer()\n",
    "print('\\n')\n",
    "print(f'{(end - start)/60} Min elapsed.')"
   ]
  },
  {
   "cell_type": "markdown",
   "id": "exempt-alliance",
   "metadata": {},
   "source": [
    "#### XGB Classifier Model with Non-Standarized Under Sampled Dataset"
   ]
  },
  {
   "cell_type": "code",
   "execution_count": 26,
   "id": "tropical-committee",
   "metadata": {
    "jupyter": {
     "source_hidden": true
    }
   },
   "outputs": [
    {
     "name": "stdout",
     "output_type": "stream",
     "text": [
      "\n",
      "\n",
      "              precision    recall  f1-score   support\n",
      "\n",
      "           0       1.00      1.00      1.00      2053\n",
      "           1       1.00      1.00      1.00      2054\n",
      "\n",
      "    accuracy                           1.00      4107\n",
      "   macro avg       1.00      1.00      1.00      4107\n",
      "weighted avg       1.00      1.00      1.00      4107\n",
      "\n",
      "XGBClassifier(base_score=0.5, booster='gbtree', colsample_bylevel=1,\n",
      "              colsample_bynode=1, colsample_bytree=1, eval_metric='auc',\n",
      "              gamma=0, gpu_id=-1, importance_type='gain',\n",
      "              interaction_constraints='', learning_rate=0.300000012,\n",
      "              max_delta_step=0, max_depth=6, min_child_weight=1, missing=nan,\n",
      "              monotone_constraints='()', n_estimators=100, n_jobs=-1,\n",
      "              num_parallel_tree=1, random_state=1, reg_alpha=0, reg_lambda=1,\n",
      "              scale_pos_weight=1, subsample=1, tree_method='exact',\n",
      "              use_label_encoder=False, validate_parameters=1, verbosity=None)\n",
      "\n",
      "\n",
      "                    XGB %-importance\n",
      "newbalanceOrig              0.490083\n",
      "diffBalanceOrig             0.464438\n",
      "amount                      0.019976\n",
      "diffBalanceDest             0.007094\n",
      "transType_PAYMENT           0.006407\n",
      "transType_CASH_OUT          0.002475\n",
      "oldbalanceDest              0.002028\n",
      "oldbalanceOrig              0.002013\n",
      "transType_TRANSFER          0.001938\n",
      "step                        0.001830\n",
      "newbalanceDest              0.001718\n",
      "transType_DEBIT             0.000000\n",
      "nameDest_M                  0.000000\n",
      "\n",
      "\n",
      "0.00603891248333639 Min elapsed.\n"
     ]
    },
    {
     "data": {
      "image/png": "[encoded data removed]",
      "text/plain": [
       "<Figure size 432x288 with 2 Axes>"
      ]
     },
     "metadata": {
      "needs_background": "light"
     },
     "output_type": "display_data"
    }
   ],
   "source": [
    "start = timer()\n",
    "# Standard XGB Model\n",
    "xgb_rus_ns = XGBClassifier(**params_xgb)\n",
    "\n",
    "#Train the model using the training sets\n",
    "xgb_rus_ns.fit(X_train_rus,y_train_rus)\n",
    "# \n",
    "y_predXGB_ns = xgb_rus_ns.predict(X_test_rus)\n",
    "print('\\n')\n",
    "print(classification_report(y_test_rus, y_predXGB_ns))\n",
    "print(xgb_rus_ns)\n",
    "print('\\n')\n",
    "disp = ConfusionMatrixDisplay(confusion_matrix=(confusion_matrix(y_test_rus, y_predXGB_ns)), \n",
    "                              display_labels=xgb_rus_ns.classes_)\n",
    "disp.plot()\n",
    "df = pd.DataFrame(xgb_rus_ns.feature_importances_, index=X_test_rus.columns, columns=[\"XGB %-importance\"])\n",
    "print(df.sort_values(\"XGB %-importance\", axis=0, ascending=False))\n",
    "\n",
    "end = timer()\n",
    "print('\\n')\n",
    "print(f'{(end - start)/60} Min elapsed.')"
   ]
  },
  {
   "cell_type": "markdown",
   "id": "interpreted-french",
   "metadata": {},
   "source": [
    "#### XGB Classifier Model with Non Standarized Full sample Data"
   ]
  },
  {
   "cell_type": "code",
   "execution_count": 27,
   "id": "heard-oliver",
   "metadata": {
    "jupyter": {
     "source_hidden": true
    }
   },
   "outputs": [
    {
     "name": "stdout",
     "output_type": "stream",
     "text": [
      "\n",
      "\n",
      "              precision    recall  f1-score   support\n",
      "\n",
      "           0       1.00      1.00      1.00   1588602\n",
      "           1       1.00      1.00      1.00      2053\n",
      "\n",
      "    accuracy                           1.00   1590655\n",
      "   macro avg       1.00      1.00      1.00   1590655\n",
      "weighted avg       1.00      1.00      1.00   1590655\n",
      "\n",
      "[[1588602       0]\n",
      " [      8    2045]]\n",
      "XGBClassifier(base_score=0.5, booster='gbtree', colsample_bylevel=1,\n",
      "              colsample_bynode=1, colsample_bytree=1, eval_metric='auc',\n",
      "              gamma=0, gpu_id=-1, importance_type='gain',\n",
      "              interaction_constraints='', learning_rate=0.300000012,\n",
      "              max_delta_step=0, max_depth=6, min_child_weight=1, missing=nan,\n",
      "              monotone_constraints='()', n_estimators=100, n_jobs=-1,\n",
      "              num_parallel_tree=1, random_state=1, reg_alpha=0, reg_lambda=1,\n",
      "              scale_pos_weight=1, subsample=1, tree_method='approx',\n",
      "              use_label_encoder=False, validate_parameters=1, verbosity=None)\n",
      "\n",
      "\n",
      "                    XGB %-importance\n",
      "transType_PAYMENT           0.293316\n",
      "newbalanceOrig              0.278578\n",
      "amount                      0.149851\n",
      "transType_TRANSFER          0.115555\n",
      "diffBalanceOrig             0.053358\n",
      "transType_CASH_OUT          0.028325\n",
      "transType_DEBIT             0.024308\n",
      "diffBalanceDest             0.021501\n",
      "newbalanceDest              0.012670\n",
      "step                        0.011522\n",
      "oldbalanceOrig              0.008138\n",
      "oldbalanceDest              0.002876\n",
      "nameDest_M                  0.000000\n",
      "\n",
      "\n",
      "3.4638063058000017 Min elapsed.\n"
     ]
    },
    {
     "data": {
      "image/png": "[encoded data removed]",
      "text/plain": [
       "<Figure size 432x288 with 2 Axes>"
      ]
     },
     "metadata": {
      "needs_background": "light"
     },
     "output_type": "display_data"
    }
   ],
   "source": [
    "# \n",
    "start = timer()\n",
    "# Standard XGB Model\n",
    "xgb_nsf = XGBClassifier(**params_xgb)\n",
    "\n",
    "#Train the model using the training sets\n",
    "xgb_nsf.fit(X_train_nsf,y_train_nsf)\n",
    "# \n",
    "y_predXGB_nsf = xgb_nsf.predict(X_test_nsf)\n",
    "print('\\n')\n",
    "print(classification_report(y_test_nsf, y_predXGB_nsf))\n",
    "print(confusion_matrix(y_test_nsf, y_predXGB_nsf))\n",
    "print(xgb_nsf)\n",
    "print('\\n')\n",
    "disp = ConfusionMatrixDisplay(confusion_matrix=(confusion_matrix(y_test_nsf, y_predXGB_nsf)), \n",
    "                              display_labels=xgb_nsf.classes_)\n",
    "disp.plot()\n",
    "df = pd.DataFrame(xgb_nsf.feature_importances_, index=X_test_nsf.columns, columns=[\"XGB %-importance\"])\n",
    "print(df.sort_values(\"XGB %-importance\", axis=0, ascending=False))\n",
    "\n",
    "end = timer()\n",
    "print('\\n')\n",
    "print(f'{(end - start)/60} Min elapsed.')"
   ]
  },
  {
   "cell_type": "markdown",
   "id": "uniform-volume",
   "metadata": {},
   "source": [
    "#### XGB Classifier Model with NON-Standarized SMOTE Dataset"
   ]
  },
  {
   "cell_type": "code",
   "execution_count": 28,
   "id": "meaning-object",
   "metadata": {},
   "outputs": [
    {
     "name": "stdout",
     "output_type": "stream",
     "text": [
      "\n",
      "\n",
      "              precision    recall  f1-score   support\n",
      "\n",
      "           0       1.00      1.00      1.00   1588602\n",
      "           1       1.00      1.00      1.00   1588602\n",
      "\n",
      "    accuracy                           1.00   3177204\n",
      "   macro avg       1.00      1.00      1.00   3177204\n",
      "weighted avg       1.00      1.00      1.00   3177204\n",
      "\n",
      "[[1588376     226]\n",
      " [    144 1588458]]\n",
      "XGBClassifier(base_score=0.5, booster='gbtree', colsample_bylevel=1,\n",
      "              colsample_bynode=1, colsample_bytree=1, eval_metric='auc',\n",
      "              gamma=0, gpu_id=-1, importance_type='gain',\n",
      "              interaction_constraints='', learning_rate=0.300000012,\n",
      "              max_delta_step=0, max_depth=6, min_child_weight=1, missing=nan,\n",
      "              monotone_constraints='()', n_estimators=100, n_jobs=-1,\n",
      "              num_parallel_tree=1, random_state=1, reg_alpha=0, reg_lambda=1,\n",
      "              scale_pos_weight=1, subsample=1, tree_method='approx',\n",
      "              use_label_encoder=False, validate_parameters=1, verbosity=None)\n",
      "\n",
      "\n",
      "                    XGB %-importance\n",
      "newbalanceOrig              0.604933\n",
      "diffBalanceOrig             0.298385\n",
      "transType_PAYMENT           0.068290\n",
      "amount                      0.013929\n",
      "transType_DEBIT             0.003113\n",
      "diffBalanceDest             0.003000\n",
      "transType_TRANSFER          0.002218\n",
      "transType_CASH_OUT          0.001845\n",
      "oldbalanceOrig              0.001271\n",
      "oldbalanceDest              0.001251\n",
      "step                        0.000962\n",
      "newbalanceDest              0.000803\n",
      "nameDest_M                  0.000000\n",
      "\n",
      "\n",
      "8.985545488216667 Min elapsed.\n"
     ]
    },
    {
     "data": {
      "image/png": "[encoded data removed]",
      "text/plain": [
       "<Figure size 432x288 with 2 Axes>"
      ]
     },
     "metadata": {
      "needs_background": "light"
     },
     "output_type": "display_data"
    }
   ],
   "source": [
    "start = timer()\n",
    "# Standard XGB Model\n",
    "xgb_ = XGBClassifier(**params_xgb)\n",
    "\n",
    "#Train the model using the training sets\n",
    "xgb_.fit(X_train_nso,y_train_nso)\n",
    "# \n",
    "y_predXGB_nso = xgb_.predict(X_test_nso)\n",
    "print('\\n')\n",
    "print(classification_report(y_test_nso, y_predXGB_nso))\n",
    "print(confusion_matrix(y_test_nso, y_predXGB_nso))\n",
    "print(xgb_)\n",
    "print('\\n')\n",
    "disp = ConfusionMatrixDisplay(confusion_matrix=(confusion_matrix(y_test_nso, y_predXGB_nso)), \n",
    "                              display_labels=xgb_.classes_)\n",
    "disp.plot()\n",
    "df = pd.DataFrame(xgb_.feature_importances_, index=X_test_nso.columns, columns=[\"XGB %-importance\"])\n",
    "print(df.sort_values(\"XGB %-importance\", axis=0, ascending=False))\n",
    "\n",
    "end = timer()\n",
    "print('\\n')\n",
    "print(f'{(end - start)/60} Min elapsed.')"
   ]
  },
  {
   "cell_type": "markdown",
   "id": "gorgeous-findings",
   "metadata": {},
   "source": [
    "#### XGB Classifier Model with NON-Standarized SMOTETomek Dataset"
   ]
  },
  {
   "cell_type": "code",
   "execution_count": 29,
   "id": "hazardous-universe",
   "metadata": {
    "jupyter": {
     "source_hidden": true
    }
   },
   "outputs": [],
   "source": [
    "# # from xgboost import XGBClassifier\n",
    "# start = timer()\n",
    "# # \n",
    "# params_fixed = {\n",
    "#     'objective':'binary:logistic',\n",
    "#     'use_label_encoder' : False,\n",
    "#     'n_jobs' : (-1),\n",
    "#     'eval_metric' : 'auc',\n",
    "#     'random_state' : seed\n",
    "# }\n",
    "# # Standard XGB Model\n",
    "# xgb_smt = XGBClassifier(**params_fixed)\n",
    "\n",
    "# #Train the model using the training sets\n",
    "# xgb_smt.fit(X_train_nso,y_train_nso)\n",
    "# # \n",
    "# y_predXGB_smt_nso = xgb_smt.predict(X_test_nso)\n",
    "# print('\\n')\n",
    "# print(classification_report(y_test_smt_nso, y_predXGB_smt_nso))\n",
    "# print(confusion_matrix(y_test_smt_nso, y_predXGB_smt_nso))\n",
    "# print(xgb_smt)\n",
    "# print('\\n')\n",
    "# disp = ConfusionMatrixDisplay(confusion_matrix=(confusion_matrix(y_test_smt_nso, y_predXGB_smt_nso)), \n",
    "#                               display_labels=xgb_smt.classes_)\n",
    "# disp.plot()\n",
    "# df = pd.DataFrame(xgb_smt.feature_importances_, index=X_test_smt_nso.columns, columns=[\"XGB %-importance\"])\n",
    "# print(df.sort_values(\"XGB %-importance\", axis=0, ascending=False))\n",
    "\n",
    "# end = timer()\n",
    "# print('\\n')\n",
    "# print(f'{(end - start)/60} Min elapsed.')"
   ]
  },
  {
   "cell_type": "markdown",
   "id": "informed-paris",
   "metadata": {},
   "source": [
    "#### XGB GridSearchCV with StratifiedKFold & Standarized Under Sampled Dataset"
   ]
  },
  {
   "cell_type": "code",
   "execution_count": 30,
   "id": "unlikely-south",
   "metadata": {},
   "outputs": [
    {
     "name": "stdout",
     "output_type": "stream",
     "text": [
      "              precision    recall  f1-score   support\n",
      "\n",
      "           0       1.00      1.00      1.00      2053\n",
      "           1       1.00      1.00      1.00      2054\n",
      "\n",
      "    accuracy                           1.00      4107\n",
      "   macro avg       1.00      1.00      1.00      4107\n",
      "weighted avg       1.00      1.00      1.00      4107\n",
      "\n",
      "\n",
      "\n",
      "XGBClassifier(base_score=0.5, booster='gbtree', colsample_bylevel=1,\n",
      "              colsample_bynode=1, colsample_bytree=1, eval_metric='auc',\n",
      "              gamma=0, gpu_id=-1, importance_type='gain',\n",
      "              interaction_constraints='', learning_rate=0.300000012,\n",
      "              max_delta_step=0, max_depth=6, min_child_weight=1, missing=nan,\n",
      "              monotone_constraints='()', n_estimators=340, n_jobs=-1,\n",
      "              num_parallel_tree=1, random_state=1, reg_alpha=0, reg_lambda=1,\n",
      "              scale_pos_weight=1, subsample=1, tree_method='exact',\n",
      "              use_label_encoder=False, validate_parameters=1, verbosity=None)\n",
      "\n",
      "\n",
      "0.0889674316999996 Min elapsed.\n"
     ]
    },
    {
     "data": {
      "image/png": "[encoded data removed]",
      "text/plain": [
       "<Figure size 432x288 with 2 Axes>"
      ]
     },
     "metadata": {
      "needs_background": "light"
     },
     "output_type": "display_data"
    }
   ],
   "source": [
    "# \n",
    "from sklearn.model_selection import StratifiedKFold\n",
    "# \n",
    "start = timer()\n",
    "# \n",
    "n_folds = 3\n",
    "skf = StratifiedKFold(n_splits=n_folds, random_state=seed, shuffle=True)\n",
    "# \n",
    "params_grid = {\n",
    "    'n_estimators': range(340, 360, 5,),\n",
    "#     'learning_rate': [0.001, 0.01, 0.1, 0.2, 0.3, 0.5],\n",
    "}\n",
    "# create xgboost classifier\n",
    "xgb_cl1 = XGBClassifier(**params_xgb)\n",
    "\n",
    "# \n",
    "xgb_grid = GridSearchCV(estimator=xgb_cl1, param_grid=params_grid, \n",
    "                               cv=skf.split(X_train_rus, y_train_rus), scoring='f1')\n",
    "\n",
    "#Train the model using the training sets\n",
    "xgb_grid.fit(X_train_rus,y_train_rus)\n",
    "# \n",
    "y_predXGB1 = xgb_grid.predict(X_test_rus)\n",
    "\n",
    "print(classification_report(y_test_rus, y_predXGB1))\n",
    "# Plot Confusion Matrix\n",
    "disp = ConfusionMatrixDisplay(confusion_matrix=(confusion_matrix(y_test_rus, y_predXGB1)), \n",
    "                              display_labels=xgb_grid.classes_)\n",
    "disp.plot()\n",
    "print('\\n')\n",
    "print(xgb_grid.best_estimator_)\n",
    "end = timer()\n",
    "print('\\n')\n",
    "print(f'{(end - start)/60} Min elapsed.')"
   ]
  },
  {
   "cell_type": "markdown",
   "id": "muslim-celtic",
   "metadata": {},
   "source": [
    "#### XGB GridSearchCV with StratifiedKFold & NON Standarized Under Sampled Dataset"
   ]
  },
  {
   "cell_type": "code",
   "execution_count": 31,
   "id": "developing-update",
   "metadata": {},
   "outputs": [
    {
     "name": "stdout",
     "output_type": "stream",
     "text": [
      "              precision    recall  f1-score   support\n",
      "\n",
      "           0       1.00      1.00      1.00      2053\n",
      "           1       1.00      1.00      1.00      2054\n",
      "\n",
      "    accuracy                           1.00      4107\n",
      "   macro avg       1.00      1.00      1.00      4107\n",
      "weighted avg       1.00      1.00      1.00      4107\n",
      "\n",
      "\n",
      "\n",
      "XGBClassifier(base_score=0.5, booster='gbtree', colsample_bylevel=1,\n",
      "              colsample_bynode=1, colsample_bytree=1, eval_metric='auc',\n",
      "              gamma=0, gpu_id=-1, importance_type='gain',\n",
      "              interaction_constraints='', learning_rate=0.300000012,\n",
      "              max_delta_step=0, max_depth=6, min_child_weight=1, missing=nan,\n",
      "              monotone_constraints='()', n_estimators=200, n_jobs=-1,\n",
      "              num_parallel_tree=1, random_state=1, reg_alpha=0, reg_lambda=1,\n",
      "              scale_pos_weight=1, subsample=1, tree_method='exact',\n",
      "              use_label_encoder=False, validate_parameters=1, verbosity=None)\n",
      "0.07102475891667079 Min elapsed.\n"
     ]
    },
    {
     "data": {
      "image/png": "[encoded data removed]",
      "text/plain": [
       "<Figure size 432x288 with 2 Axes>"
      ]
     },
     "metadata": {
      "needs_background": "light"
     },
     "output_type": "display_data"
    }
   ],
   "source": [
    "# from xgboost import XGBClassifier\n",
    "# from sklearn.model_selection import StratifiedKFold\n",
    "# Non Standarized Dataset\n",
    "start = timer()\n",
    "# \n",
    "n_folds = 3\n",
    "skf = StratifiedKFold(n_splits=n_folds, random_state=seed, shuffle=True)\n",
    "# \n",
    "params_grid = {\n",
    "# 'n_estimators': range(340, 360, 5,),\n",
    "'n_estimators': [200, 340, 500],\n",
    "# 'learning_rate': [0.1, 0.2, 0.3, 0.5, 0.6],\n",
    "}\n",
    "# create xgboost classifier\n",
    "xgb_cl2 = XGBClassifier(**params_xgb)\n",
    "\n",
    "# \n",
    "xgb_grid2 = GridSearchCV(estimator=xgb_cl2, param_grid=params_grid, \n",
    "                               cv=skf.split(X_train_rus, y_train_rus), scoring='f1')\n",
    "\n",
    "#Train the model using the training sets\n",
    "xgb_grid2.fit(X_train_rus,y_train_rus)\n",
    "# \n",
    "y_predXGB2 = xgb_grid2.predict(X_test_rus)\n",
    "\n",
    "print(classification_report(y_test_rus, y_predXGB2))\n",
    "# Plot Confusion Matrix\n",
    "disp = ConfusionMatrixDisplay(confusion_matrix=(confusion_matrix(y_test_rus, y_predXGB2)), \n",
    "                              display_labels=xgb_grid2.classes_)\n",
    "disp.plot()\n",
    "print('\\n')\n",
    "print(xgb_grid2.best_estimator_)\n",
    "end = timer()\n",
    "print(f'{(end - start)/60} Min elapsed.')"
   ]
  },
  {
   "cell_type": "markdown",
   "id": "after-museum",
   "metadata": {},
   "source": [
    "# LGBM Classifier"
   ]
  },
  {
   "cell_type": "markdown",
   "id": "posted-dublin",
   "metadata": {},
   "source": [
    "#### LGBM Classifier Model Pipeline"
   ]
  },
  {
   "cell_type": "code",
   "execution_count": 32,
   "id": "premium-virgin",
   "metadata": {},
   "outputs": [],
   "source": [
    "# Pipeline\n",
    "# \n",
    "params_lgbm = {\n",
    "    'num_threads' : (8),\n",
    "    'n_jobs' : (-1),\n",
    "    'random_state' : seed,\n",
    "}\n",
    "# \n",
    "lgbm_scaler_rus = [('scaler', StandardScaler()), ('lgbm', LGBMClassifier(**params_lgbm))]\n",
    "lgbm_normal_rus = [('normal', MinMaxScaler()), ('lgbm', LGBMClassifier(**params_lgbm))]\n",
    "lgbm_scaler_nso = [('scaler', StandardScaler()), ('lgbm', LGBMClassifier(**params_lgbm))]\n",
    "lgbm_normal_nsf = [('normal', MinMaxScaler()), ('lgbm', LGBMClassifier(**params_lgbm))]\n",
    "# under sample\n",
    "pipe_scaler_rus = Pipeline(lgbm_scaler_rus)\n",
    "pipe_normal_rus = Pipeline(lgbm_normal_rus)\n",
    "# Over sample (SMOTE)\n",
    "pipe_nso = Pipeline(lgbm_scaler_nso)\n",
    "# Full\n",
    "pipe_nsf = Pipeline(lgbm_normal_nsf)"
   ]
  },
  {
   "cell_type": "markdown",
   "id": "automotive-sessions",
   "metadata": {},
   "source": [
    "### LGBM Classifier with Scaler Under-Sampled Dataset"
   ]
  },
  {
   "cell_type": "code",
   "execution_count": 33,
   "id": "moving-saying",
   "metadata": {},
   "outputs": [
    {
     "name": "stdout",
     "output_type": "stream",
     "text": [
      "[LightGBM] [Warning] num_threads is set=8, n_jobs=-1 will be ignored. Current value: num_threads=8\n",
      "\n",
      "\n",
      "              precision    recall  f1-score   support\n",
      "\n",
      "           0       1.00      1.00      1.00      2053\n",
      "           1       1.00      1.00      1.00      2054\n",
      "\n",
      "    accuracy                           1.00      4107\n",
      "   macro avg       1.00      1.00      1.00      4107\n",
      "weighted avg       1.00      1.00      1.00      4107\n",
      "\n",
      "[[2053    0]\n",
      " [   6 2048]]\n",
      "\n",
      "\n",
      "Pipeline(steps=[('scaler', StandardScaler()),\n",
      "                ('lgbm', LGBMClassifier(num_threads=8, random_state=1))])\n",
      "\n",
      "\n",
      "0.0025132728666752277 Min elapsed.\n"
     ]
    },
    {
     "data": {
      "image/png": "[encoded data removed]",
      "text/plain": [
       "<Figure size 432x288 with 2 Axes>"
      ]
     },
     "metadata": {
      "needs_background": "light"
     },
     "output_type": "display_data"
    }
   ],
   "source": [
    "# \n",
    "start = timer()\n",
    "#Train the model using the training sets\n",
    "pipe_scaler_rus.fit(X_train_rus, y_train_rus)\n",
    "# \n",
    "y_predLGB = pipe_scaler_rus.predict(X_test_rus)\n",
    "print('\\n')\n",
    "print(classification_report(y_test_rus, y_predLGB))\n",
    "print(confusion_matrix(y_test_rus, y_predLGB))\n",
    "disp = ConfusionMatrixDisplay(confusion_matrix=(confusion_matrix(y_test_rus, y_predLGB)), \n",
    "                              display_labels=pipe_scaler_rus.named_steps['lgbm'].classes_)\n",
    "disp.plot()\n",
    "print('\\n')\n",
    "print(pipe_scaler_rus)\n",
    "print('\\n')\n",
    "end = timer()\n",
    "print(f'{(end - start)/60} Min elapsed.')"
   ]
  },
  {
   "cell_type": "markdown",
   "id": "radio-circuit",
   "metadata": {},
   "source": [
    "### LGBM Classifier with Normalize Under-Sampled Dataset"
   ]
  },
  {
   "cell_type": "code",
   "execution_count": 34,
   "id": "imported-flower",
   "metadata": {},
   "outputs": [
    {
     "name": "stdout",
     "output_type": "stream",
     "text": [
      "[LightGBM] [Warning] num_threads is set=8, n_jobs=-1 will be ignored. Current value: num_threads=8\n",
      "\n",
      "\n",
      "              precision    recall  f1-score   support\n",
      "\n",
      "           0       1.00      1.00      1.00      2053\n",
      "           1       1.00      1.00      1.00      2054\n",
      "\n",
      "    accuracy                           1.00      4107\n",
      "   macro avg       1.00      1.00      1.00      4107\n",
      "weighted avg       1.00      1.00      1.00      4107\n",
      "\n",
      "[[2053    0]\n",
      " [   6 2048]]\n",
      "\n",
      "\n",
      "Pipeline(steps=[('scaler', StandardScaler()),\n",
      "                ('lgbm', LGBMClassifier(num_threads=8, random_state=1))])\n",
      "\n",
      "\n",
      "0.0022595469833352885 Min elapsed.\n"
     ]
    },
    {
     "data": {
      "image/png": "[encoded data removed]",
      "text/plain": [
       "<Figure size 432x288 with 2 Axes>"
      ]
     },
     "metadata": {
      "needs_background": "light"
     },
     "output_type": "display_data"
    }
   ],
   "source": [
    "# \n",
    "start = timer()\n",
    "#Train the model using the training sets\n",
    "pipe_normal_rus.fit(X_train_rus, y_train_rus)\n",
    "# \n",
    "y_predLGB = pipe_normal_rus.predict(X_test_rus)\n",
    "print('\\n')\n",
    "print(classification_report(y_test_rus, y_predLGB))\n",
    "print(confusion_matrix(y_test_rus, y_predLGB))\n",
    "disp = ConfusionMatrixDisplay(confusion_matrix=(confusion_matrix(y_test_rus, y_predLGB)), \n",
    "                              display_labels=pipe_normal_rus.named_steps['lgbm'].classes_)\n",
    "disp.plot()\n",
    "print('\\n')\n",
    "print(pipe_scaler_rus)\n",
    "print('\\n')\n",
    "end = timer()\n",
    "print(f'{(end - start)/60} Min elapsed.')"
   ]
  },
  {
   "cell_type": "markdown",
   "id": "declared-stand",
   "metadata": {},
   "source": [
    "### LGBM Classifier with NON-Standarized Under-Sampled Dataset¶"
   ]
  },
  {
   "cell_type": "code",
   "execution_count": 35,
   "id": "everyday-share",
   "metadata": {},
   "outputs": [
    {
     "name": "stdout",
     "output_type": "stream",
     "text": [
      "[LightGBM] [Warning] num_threads is set=8, n_jobs=-1 will be ignored. Current value: num_threads=8\n",
      "\n",
      "\n",
      "              precision    recall  f1-score   support\n",
      "\n",
      "           0       1.00      1.00      1.00      2053\n",
      "           1       1.00      1.00      1.00      2054\n",
      "\n",
      "    accuracy                           1.00      4107\n",
      "   macro avg       1.00      1.00      1.00      4107\n",
      "weighted avg       1.00      1.00      1.00      4107\n",
      "\n",
      "[[2053    0]\n",
      " [   6 2048]]\n",
      "\n",
      "\n",
      "LGBMClassifier(num_threads=8, random_state=1)\n",
      "\n",
      "\n",
      "0.00226217119999698 Min elapsed.\n"
     ]
    },
    {
     "data": {
      "image/png": "[encoded data removed]",
      "text/plain": [
       "<Figure size 432x288 with 2 Axes>"
      ]
     },
     "metadata": {
      "needs_background": "light"
     },
     "output_type": "display_data"
    }
   ],
   "source": [
    "# from lightgbm import LGBMClassifier\n",
    "start = timer()\n",
    "# Define model\n",
    "lgb_ns = LGBMClassifier(**params_lgbm)\n",
    "\n",
    "#Train the model using the training sets\n",
    "lgb_ns.fit(X_train_rus,y_train_rus)\n",
    "# \n",
    "y_predLGB_ns=lgb_ns.predict(X_test_rus)\n",
    "print('\\n')\n",
    "print(classification_report(y_test_rus, y_predLGB_ns))\n",
    "print(confusion_matrix(y_test_rus, y_predLGB_ns))\n",
    "disp = ConfusionMatrixDisplay(confusion_matrix=(confusion_matrix(y_test_rus, y_predLGB_ns)), \n",
    "                              display_labels=lgb_ns.classes_)\n",
    "disp.plot()\n",
    "print('\\n')\n",
    "print(lgb_ns)\n",
    "print('\\n')\n",
    "end = timer()\n",
    "print(f'{(end - start)/60} Min elapsed.')"
   ]
  },
  {
   "cell_type": "markdown",
   "id": "numerous-surgery",
   "metadata": {},
   "source": [
    "#### LGBM Classifier with NON-Standarized Full Dataset"
   ]
  },
  {
   "cell_type": "code",
   "execution_count": 36,
   "id": "framed-salmon",
   "metadata": {},
   "outputs": [
    {
     "name": "stdout",
     "output_type": "stream",
     "text": [
      "[LightGBM] [Warning] num_threads is set=8, n_jobs=-1 will be ignored. Current value: num_threads=8\n",
      "\n",
      "\n",
      "              precision    recall  f1-score   support\n",
      "\n",
      "           0       1.00      1.00      1.00   1588602\n",
      "           1       0.00      0.00      0.00      2053\n",
      "\n",
      "    accuracy                           1.00   1590655\n",
      "   macro avg       0.50      0.50      0.50   1590655\n",
      "weighted avg       1.00      1.00      1.00   1590655\n",
      "\n",
      "[[1587990     612]\n",
      " [   2051       2]]\n",
      "\n",
      "\n",
      "LGBMClassifier(num_threads=8, random_state=1)\n",
      "\n",
      "\n",
      "0.2041649682999984 Min elapsed.\n"
     ]
    },
    {
     "data": {
      "image/png": "[encoded data removed]",
      "text/plain": [
       "<Figure size 432x288 with 2 Axes>"
      ]
     },
     "metadata": {
      "needs_background": "light"
     },
     "output_type": "display_data"
    }
   ],
   "source": [
    "# from lightgbm import LGBMClassifier\n",
    "start = timer()\n",
    "# Define model\n",
    "lgb_nsf = LGBMClassifier(**params_lgbm)\n",
    "\n",
    "#Train the model using the training sets\n",
    "lgb_nsf.fit(X_train_nsf,y_train_nsf)\n",
    "# \n",
    "y_predLGB_nsf = lgb_nsf.predict(X_test_nsf)\n",
    "print('\\n')\n",
    "print(classification_report(y_test_nsf, y_predLGB_nsf))\n",
    "print(confusion_matrix(y_test_nsf, y_predLGB_nsf))\n",
    "disp = ConfusionMatrixDisplay(confusion_matrix=(confusion_matrix(y_test_nsf, y_predLGB_nsf)), \n",
    "                              display_labels=lgb_nsf.classes_)\n",
    "disp.plot()\n",
    "print('\\n')\n",
    "print(lgb_nsf)\n",
    "print('\\n')\n",
    "end = timer()\n",
    "print(f'{(end - start)/60} Min elapsed.')"
   ]
  },
  {
   "cell_type": "markdown",
   "id": "requested-acquisition",
   "metadata": {},
   "source": [
    "#### LGBM Classifier with NON-Standarized SMOTE Dataset"
   ]
  },
  {
   "cell_type": "code",
   "execution_count": 37,
   "id": "mighty-murder",
   "metadata": {},
   "outputs": [
    {
     "name": "stdout",
     "output_type": "stream",
     "text": [
      "[LightGBM] [Warning] num_threads is set=8, n_jobs=-1 will be ignored. Current value: num_threads=8\n",
      "\n",
      "\n",
      "              precision    recall  f1-score   support\n",
      "\n",
      "           0       1.00      1.00      1.00   1588602\n",
      "           1       1.00      1.00      1.00   1588602\n",
      "\n",
      "    accuracy                           1.00   3177204\n",
      "   macro avg       1.00      1.00      1.00   3177204\n",
      "weighted avg       1.00      1.00      1.00   3177204\n",
      "\n",
      "[[1588405     197]\n",
      " [    471 1588131]]\n",
      "\n",
      "\n",
      "LGBMClassifier(num_threads=8, random_state=1)\n",
      "\n",
      "\n",
      "0.4705398670666758 Min elapsed.\n"
     ]
    },
    {
     "data": {
      "image/png": "[encoded data removed]",
      "text/plain": [
       "<Figure size 432x288 with 2 Axes>"
      ]
     },
     "metadata": {
      "needs_background": "light"
     },
     "output_type": "display_data"
    }
   ],
   "source": [
    "# from lightgbm import LGBMClassifier\n",
    "start = timer()\n",
    "# Define model\n",
    "lgb_nso = LGBMClassifier(**params_lgbm)\n",
    "\n",
    "#Train the model using the training sets\n",
    "lgb_nso.fit(X_train_nso,y_train_nso)\n",
    "# \n",
    "y_predLGB_nso = lgb_nso.predict(X_test_nso)\n",
    "print('\\n')\n",
    "print(classification_report(y_test_nso, y_predLGB_nso))\n",
    "print(confusion_matrix(y_test_nso, y_predLGB_nso))\n",
    "disp = ConfusionMatrixDisplay(confusion_matrix=(confusion_matrix(y_test_nso, y_predLGB_nso)), \n",
    "                              display_labels=lgb_nso.classes_)\n",
    "disp.plot()\n",
    "print('\\n')\n",
    "print(lgb_nso)\n",
    "print('\\n')\n",
    "end = timer()\n",
    "print(f'{(end - start)/60} Min elapsed.')"
   ]
  },
  {
   "cell_type": "markdown",
   "id": "common-rapid",
   "metadata": {},
   "source": [
    "#### Standard LGBM Classifier with NON-Standarized SMOTETomek Dataset"
   ]
  },
  {
   "cell_type": "code",
   "execution_count": 38,
   "id": "finite-embassy",
   "metadata": {
    "jupyter": {
     "source_hidden": true
    }
   },
   "outputs": [],
   "source": [
    "# # from lightgbm import LGBMClassifier\n",
    "# start = timer()\n",
    "# # \n",
    "# params_fixed = {\n",
    "#     'n_jobs' : (-1),\n",
    "#     'random_state' : seed,\n",
    "# }\n",
    "# # Define model\n",
    "# lgb_smt = LGBMClassifier(**params_fixed)\n",
    "\n",
    "# #Train the model using the training sets\n",
    "# lgb_smt.fit(X_train_smt_nso,y_train_smt_nso)\n",
    "# # \n",
    "# y_predLGB_smt_nso = lgb_smt.predict(X_test_smt_nso)\n",
    "# print('\\n')\n",
    "# print(classification_report(y_test_smt_nso, y_predLGB_nso))\n",
    "# print(confusion_matrix(y_test_smt_nso, y_predLGB_smt_nso))\n",
    "# disp = ConfusionMatrixDisplay(confusion_matrix=(confusion_matrix(y_test_smt_nso, y_predLGB_smt_nso)), \n",
    "#                               display_labels=lgb_smt.classes_)\n",
    "# disp.plot()\n",
    "# print('\\n')\n",
    "# print(lgb_smt)\n",
    "# end = timer()\n",
    "# print(f'{(end - start)/60} Min elapsed.')"
   ]
  },
  {
   "cell_type": "markdown",
   "id": "precious-enemy",
   "metadata": {},
   "source": [
    "# Support Vector Machine"
   ]
  },
  {
   "cell_type": "markdown",
   "id": "impressed-thousand",
   "metadata": {},
   "source": [
    "#### SVM Classifier Model Pipeline"
   ]
  },
  {
   "cell_type": "code",
   "execution_count": 13,
   "id": "respiratory-maple",
   "metadata": {},
   "outputs": [],
   "source": [
    "# Pipeline\n",
    "# \n",
    "params_svc = {\n",
    "    'gamma' : 'auto',\n",
    "#     'gamma' : 'scale',\n",
    "    'probability' : True,\n",
    "    'random_state' : seed,\n",
    "}\n",
    "# \n",
    "svc_scaler_rus = [('scaler', StandardScaler()), ('svm', svm.SVC(**params_svc))]\n",
    "svc_normal_rus = [('normal', MinMaxScaler()), ('svm', svm.SVC(**params_svc))]\n",
    "svc_scaler_nso = [('scaler', StandardScaler()), ('svm', svm.SVC(**params_svc))]\n",
    "svc_normal_nsf = [('normal', MinMaxScaler()), ('svm', svm.SVC(**params_svc))]\n",
    "# under sample\n",
    "pipe_scaler_rus = Pipeline(svc_scaler_rus)\n",
    "pipe_normal_rus = Pipeline(svc_normal_rus)\n",
    "# Over sample (SMOTE)\n",
    "pipe_nso = Pipeline(svc_scaler_nso)\n",
    "# Full\n",
    "pipe_nsf = Pipeline(svc_normal_nsf)"
   ]
  },
  {
   "cell_type": "markdown",
   "id": "patient-scoop",
   "metadata": {},
   "source": [
    "#### Support Vector Machine Classifier with Scaler Under-Sampled Dataset"
   ]
  },
  {
   "cell_type": "code",
   "execution_count": 40,
   "id": "balanced-transcription",
   "metadata": {},
   "outputs": [
    {
     "name": "stdout",
     "output_type": "stream",
     "text": [
      "6.72 s ± 86.2 ms per loop (mean ± std. dev. of 7 runs, 1 loop each)\n",
      "\n",
      "\n",
      "              precision    recall  f1-score   support\n",
      "\n",
      "           0       0.99      0.92      0.95      2053\n",
      "           1       0.92      0.99      0.95      2054\n",
      "\n",
      "    accuracy                           0.95      4107\n",
      "   macro avg       0.96      0.95      0.95      4107\n",
      "weighted avg       0.96      0.95      0.95      4107\n",
      "\n",
      "[[1880  173]\n",
      " [  21 2033]]\n",
      "\n",
      "\n",
      "Pipeline(steps=[('scaler', StandardScaler()),\n",
      "                ('svm', SVC(gamma='auto', probability=True, random_state=1))])\n",
      "\n",
      "\n",
      "0.9127855526999914 Min elapsed.\n"
     ]
    },
    {
     "data": {
      "image/png": "[encoded data removed]",
      "text/plain": [
       "<Figure size 432x288 with 2 Axes>"
      ]
     },
     "metadata": {
      "needs_background": "light"
     },
     "output_type": "display_data"
    }
   ],
   "source": [
    "# \n",
    "start = timer()\n",
    "# Train / Fit Model\n",
    "%timeit pipe_scaler_rus.fit(X_train_rus, y_train_rus)\n",
    "# \n",
    "y_predSVC_rus = pipe_scaler_rus.predict(X_test_rus)\n",
    "print('\\n')\n",
    "print(classification_report(y_test_rus, y_predSVC_rus))\n",
    "print(confusion_matrix(y_test_rus, y_predSVC_rus))\n",
    "\n",
    "disp = ConfusionMatrixDisplay(confusion_matrix=(confusion_matrix(y_test_rus, y_predSVC_rus)), \n",
    "                              display_labels=pipe_scaler_rus.named_steps['svm'].classes_)\n",
    "disp.plot()\n",
    "print('\\n')\n",
    "print(pipe_scaler_rus)\n",
    "end = timer()\n",
    "print('\\n')\n",
    "print(f'{(end - start)/60} Min elapsed.')"
   ]
  },
  {
   "cell_type": "markdown",
   "id": "moving-algorithm",
   "metadata": {},
   "source": [
    "#### Support Vector Machine Classifier with Normalize Under-Sampled Dataset"
   ]
  },
  {
   "cell_type": "code",
   "execution_count": 41,
   "id": "functional-canada",
   "metadata": {},
   "outputs": [
    {
     "name": "stdout",
     "output_type": "stream",
     "text": [
      "18.9 s ± 103 ms per loop (mean ± std. dev. of 7 runs, 1 loop each)\n",
      "\n",
      "\n",
      "              precision    recall  f1-score   support\n",
      "\n",
      "           0       0.99      0.92      0.95      2053\n",
      "           1       0.92      0.99      0.95      2054\n",
      "\n",
      "    accuracy                           0.95      4107\n",
      "   macro avg       0.96      0.95      0.95      4107\n",
      "weighted avg       0.96      0.95      0.95      4107\n",
      "\n",
      "[[1880  173]\n",
      " [  21 2033]]\n",
      "\n",
      "\n",
      "Pipeline(steps=[('normal', MinMaxScaler()),\n",
      "                ('svm', SVC(gamma='auto', probability=True, random_state=1))])\n",
      "\n",
      "\n",
      "2.531763876916678 Min elapsed.\n"
     ]
    },
    {
     "data": {
      "image/png": "[encoded data removed]",
      "text/plain": [
       "<Figure size 432x288 with 2 Axes>"
      ]
     },
     "metadata": {
      "needs_background": "light"
     },
     "output_type": "display_data"
    }
   ],
   "source": [
    "# \n",
    "start = timer()\n",
    "# Train / Fit Model\n",
    "%timeit pipe_normal_rus.fit(X_train_rus, y_train_rus)\n",
    "# \n",
    "y_predSVC_rus = pipe_scaler_rus.predict(X_test_rus)\n",
    "print('\\n')\n",
    "print(classification_report(y_test_rus, y_predSVC_rus))\n",
    "print(confusion_matrix(y_test_rus, y_predSVC_rus))\n",
    "\n",
    "disp = ConfusionMatrixDisplay(confusion_matrix=(confusion_matrix(y_test_rus, y_predSVC_rus)), \n",
    "                              display_labels=pipe_normal_rus.named_steps['svm'].classes_)\n",
    "disp.plot()\n",
    "print('\\n')\n",
    "print(pipe_normal_rus)\n",
    "end = timer()\n",
    "print('\\n')\n",
    "print(f'{(end - start)/60} Min elapsed.')"
   ]
  },
  {
   "cell_type": "markdown",
   "id": "smart-conservation",
   "metadata": {},
   "source": [
    "#### Support Vector Machine Classifier with Standarized Full Dataset¶"
   ]
  },
  {
   "cell_type": "code",
   "execution_count": null,
   "id": "fresh-margin",
   "metadata": {},
   "outputs": [],
   "source": [
    "# from sklearn import svm\n",
    "start = timer()\n",
    "# Train / Fit Model\n",
    "%timeit pipe_nsf.fit(X_train_nsf, y_train_nsf)\n",
    "# \n",
    "y_predSVC_sf = pipe_nsf.predict(X_test_nsf)\n",
    "print('\\n')\n",
    "print(classification_report(y_test_nsf, y_predSVC_nsf))\n",
    "print(confusion_matrix(y_test_nsf, y_predSVC_nsf))\n",
    "\n",
    "disp = ConfusionMatrixDisplay(confusion_matrix=(confusion_matrix(y_test_nsf, y_predSVC_sf)), \n",
    "                              display_labels=pipe_nsf.named_steps['svm'].classes_)\n",
    "disp.plot()\n",
    "print('\\n')\n",
    "print(pipe_nsf)\n",
    "end = timer()\n",
    "print('\\n')\n",
    "print(f'{(end - start)/60} Min elapsed.')"
   ]
  },
  {
   "cell_type": "markdown",
   "id": "convertible-speech",
   "metadata": {},
   "source": [
    "#### Support Vector Machine Classifier with Standardized SMOTE Dataset¶"
   ]
  },
  {
   "cell_type": "code",
   "execution_count": null,
   "id": "ready-drama",
   "metadata": {},
   "outputs": [],
   "source": [
    "# from sklearn import svm\n",
    "start = timer()\n",
    "# Train / Fit Model\n",
    "%timeit pipe_nso.fit(X_train_nso, y_train_nso)\n",
    "# \n",
    "y_predSVC_so = pipe_nso.predict(X_test_nso)\n",
    "print('\\n')\n",
    "print(classification_report(y_test_nso, y_predSVC_nso))\n",
    "print(confusion_matrix(y_test_nso, y_predSVC_nso))\n",
    "\n",
    "disp = ConfusionMatrixDisplay(confusion_matrix=(confusion_matrix(y_test_nso, y_predSVC_so)), \n",
    "                              display_labels=pipe_nso.named_steps['svm'].classes_)\n",
    "disp.plot()\n",
    "print('\\n')\n",
    "print(svm_so)\n",
    "end = timer()\n",
    "print('\\n')\n",
    "print(f'{(end - start)/60} Min elapsed.')"
   ]
  },
  {
   "cell_type": "markdown",
   "id": "declared-glance",
   "metadata": {},
   "source": [
    "#### Support Vector Machine Classifier with Standardized SMOTETomek Dataset"
   ]
  },
  {
   "cell_type": "code",
   "execution_count": null,
   "id": "tested-business",
   "metadata": {},
   "outputs": [],
   "source": [
    "# # from sklearn import svm\n",
    "# start = timer()\n",
    "# # \n",
    "# params_fixed = {\n",
    "# #     'gamma' : 'scale',\n",
    "#     'probability' : True,\n",
    "#     'random_state' : seed,\n",
    "# }\n",
    "# # Define Model\n",
    "# svm_smt = svm.SVC(**params_fixed)\n",
    "\n",
    "# # Train / Fit Model\n",
    "# %timeit svm_smt.fit(X_train_smt, y_train_smt)\n",
    "# # \n",
    "# y_predSVC_smt = svm_smt.predict(X_test_smt)\n",
    "# print('\\n')\n",
    "# print(classification_report(y_test_smt, y_predSVC_smt))\n",
    "# print(confusion_matrix(y_test_smt, y_predSVC_smt))\n",
    "\n",
    "# disp = ConfusionMatrixDisplay(confusion_matrix=(confusion_matrix(y_test_smt, y_predSVC_smt)), \n",
    "#                               display_labels=svm_smt.classes_)\n",
    "# disp.plot()\n",
    "# print('\\n')\n",
    "# print(svm_smt)\n",
    "# end = timer()\n",
    "# print('\\n')\n",
    "# print(f'{(end - start)/60} Min elapsed.')"
   ]
  },
  {
   "cell_type": "code",
   "execution_count": null,
   "id": "blocked-pattern",
   "metadata": {},
   "outputs": [],
   "source": [
    "# # predict probabilities\n",
    "# pred_prob1 = rfc_.predict_proba(X_test_u)\n",
    "# pred_prob2 = xgb.predict_proba(X_test_u)\n",
    "# pred_prob3 = lgb.predict_proba(X_test_u)\n",
    "\n",
    "# # roc curve for models\n",
    "# fpr1, tpr1, thresh1 = roc_curve(y_test_u, pred_prob1[:,1], pos_label=1)\n",
    "# fpr2, tpr2, thresh2 = roc_curve(y_test_u, pred_prob2[:,1], pos_label=1)\n",
    "# fpr3, tpr3, thresh3 = roc_curve(y_test_u, pred_prob3[:,1], pos_label=1)\n",
    "\n",
    "\n",
    "# # roc curve for tpr = fpr \n",
    "# random_probs = [0 for i in range(len(y_test_u))]\n",
    "# p_fpr, p_tpr, _ = roc_curve(y_test_u, random_probs, pos_label=1)"
   ]
  },
  {
   "cell_type": "code",
   "execution_count": null,
   "id": "broad-color",
   "metadata": {},
   "outputs": [],
   "source": [
    "# # matplotlib\n",
    "# plt.style.use('seaborn')\n",
    "# sns.set(font_scale = 1.5)\n",
    "# plt.figure(figsize=(10,10))\n",
    "\n",
    "# # plot roc curves\n",
    "# plt.plot(fpr1, tpr1, linestyle='--',color='orange', label='Random Forest')\n",
    "# plt.plot(fpr2, tpr2, linestyle='--',color='red', label='XGB')\n",
    "# plt.plot(fpr3, tpr3, linestyle='--',color='yellow', label='LGBM')\n",
    "# plt.plot(p_fpr, p_tpr, linestyle='--', color='blue')\n",
    "# # title\n",
    "# plt.title('ROC curve')\n",
    "# # x label\n",
    "# plt.xlabel('False Positive Rate')\n",
    "# # y label\n",
    "# plt.ylabel('True Positive rate')\n",
    "\n",
    "# plt.legend(loc='best')\n",
    "# plt.show()"
   ]
  },
  {
   "cell_type": "code",
   "execution_count": null,
   "id": "recent-duplicate",
   "metadata": {},
   "outputs": [],
   "source": []
  }
 ],
 "metadata": {
  "kernelspec": {
   "display_name": "Python 3",
   "language": "python",
   "name": "python3"
  },
  "language_info": {
   "codemirror_mode": {
    "name": "ipython",
    "version": 3
   },
   "file_extension": ".py",
   "mimetype": "text/x-python",
   "name": "python",
   "nbconvert_exporter": "python",
   "pygments_lexer": "ipython3",
   "version": "3.8.5"
  }
 },
 "nbformat": 4,
 "nbformat_minor": 5
}
